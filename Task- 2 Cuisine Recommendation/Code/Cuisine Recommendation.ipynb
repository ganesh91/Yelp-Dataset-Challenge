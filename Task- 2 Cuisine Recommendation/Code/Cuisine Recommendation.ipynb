{
 "cells": [
  {
   "cell_type": "code",
   "execution_count": 1,
   "metadata": {
    "collapsed": true
   },
   "outputs": [],
   "source": [
    "#Author- Aditya Tanikanti & Sanjana Pukalay"
   ]
  },
  {
   "cell_type": "code",
   "execution_count": 1,
   "metadata": {
    "collapsed": true
   },
   "outputs": [],
   "source": [
    "import numpy as np\n",
    "import pandas as pd\n",
    "import graphlab as gl\n",
    "import os\n"
   ]
  },
  {
   "cell_type": "code",
   "execution_count": 2,
   "metadata": {
    "collapsed": true
   },
   "outputs": [],
   "source": [
    "#Import json files\n",
    "MY_YELP_CSV_DATA_DIR = 'C:\\Users\\Aditya\\Desktop\\Project\\yelp\\data\\csv'"
   ]
  },
  {
   "cell_type": "code",
   "execution_count": 3,
   "metadata": {
    "collapsed": true
   },
   "outputs": [],
   "source": [
    "def getDfInfo(df):\n",
    "    nrow = df.shape[0]\n",
    "    print \"\\n*****SHAPE********\"\n",
    "    print df.shape\n",
    "    print \"*****NULL PERCENTAGE*********\"\n",
    "    print df.isnull().sum() / nrow"
   ]
  },
  {
   "cell_type": "code",
   "execution_count": 4,
   "metadata": {
    "collapsed": false
   },
   "outputs": [
    {
     "name": "stderr",
     "output_type": "stream",
     "text": [
      "C:\\Anaconda\\envs\\gl-env\\lib\\site-packages\\IPython\\core\\interactiveshell.py:2723: DtypeWarning: Columns (1,4,7,17,29,49,60,62,79,86,94) have mixed types. Specify dtype option on import or set low_memory=False.\n",
      "  interactivity=interactivity, compiler=compiler, result=result)\n"
     ]
    },
    {
     "name": "stdout",
     "output_type": "stream",
     "text": [
      "\n",
      "*****SHAPE********\n",
      "(77445, 98)\n",
      "*****NULL PERCENTAGE*********\n",
      "attributes.Ambience.divey                               0.732068\n",
      "attributes.Dietary Restrictions.vegan                   0.997986\n",
      "attributes.Happy Hour                                   0.940965\n",
      "hours.Thursday.open                                     0.363019\n",
      "attributes.Order at Counter                             0.995145\n",
      "attributes.Hair Types Specialized In.africanamerican    0.994435\n",
      "attributes.Hair Types Specialized In.kids               0.994306\n",
      "attributes.BYOB                                         0.989037\n",
      "hours.Friday.open                                       0.365653\n",
      "attributes.Good For.latenight                           0.715127\n",
      "attributes.Outdoor Seating                              0.656518\n",
      "attributes.Alcohol                                      0.698780\n",
      "attributes.Ambience.classy                              0.723158\n",
      "attributes.By Appointment Only                          0.848357\n",
      "attributes.Parking.lot                                  0.424275\n",
      "business_id                                             0.000000\n",
      "attributes.Ambience.touristy                            0.723158\n",
      "attributes.Corkage                                      0.991852\n",
      "hours.Tuesday.open                                      0.372613\n",
      "attributes.Good For.brunch                              0.715863\n",
      "categories                                              0.000000\n",
      "attributes.Waiter Service                               0.724553\n",
      "hours.Monday.open                                       0.409813\n",
      "name                                                    0.000000\n",
      "attributes.Parking.street                               0.424275\n",
      "attributes.Ambience.hipster                             0.725263\n",
      "attributes.BYOB/Corkage                                 0.983020\n",
      "attributes.Hair Types Specialized In.straightperms      0.994435\n",
      "attributes.Music.live                                   0.963406\n",
      "attributes.Dietary Restrictions.dairy-free              0.997986\n",
      "                                                          ...   \n",
      "attributes.Coat Check                                   0.943211\n",
      "longitude                                               0.000000\n",
      "hours.Monday.close                                      0.409813\n",
      "attributes.Hair Types Specialized In.extensions         0.994306\n",
      "hours.Tuesday.close                                     0.372613\n",
      "hours.Saturday.close                                    0.432991\n",
      "attributes.Good for Kids                                0.608393\n",
      "attributes.Parking.validated                            0.429350\n",
      "hours.Sunday.open                                       0.581651\n",
      "attributes.Accepts Insurance                            0.992149\n",
      "attributes.Music.dj                                     0.951863\n",
      "attributes.Dietary Restrictions.soy-free                0.997986\n",
      "attributes.Has TV                                       0.706850\n",
      "hours.Sunday.close                                      0.581651\n",
      "attributes.Ambience.casual                              0.723158\n",
      "attributes.Hair Types Specialized In.perms              0.994306\n",
      "attributes.Dogs Allowed                                 0.949241\n",
      "attributes.Drive-Thru                                   0.957066\n",
      "attributes.Dietary Restrictions.vegetarian              0.997986\n",
      "hours.Wednesday.open                                    0.365731\n",
      "attributes.Noise Level                                  0.724902\n",
      "attributes.Smoking                                      0.938059\n",
      "attributes.Attire                                       0.696727\n",
      "attributes.Hair Types Specialized In.curly              0.994306\n",
      "attributes.Good For Groups                              0.664136\n",
      "neighborhoods                                           0.000000\n",
      "attributes.Open 24 Hours                                0.995855\n",
      "attributes.Ambience.romantic                            0.723158\n",
      "attributes.Music.jukebox                                0.963368\n",
      "attributes.Ambience.upscale                             0.724837\n",
      "dtype: float64\n"
     ]
    },
    {
     "data": {
      "text/html": [
       "<div>\n",
       "<table border=\"1\" class=\"dataframe\">\n",
       "  <thead>\n",
       "    <tr style=\"text-align: right;\">\n",
       "      <th></th>\n",
       "      <th>attributes.Ambience.divey</th>\n",
       "      <th>attributes.Dietary Restrictions.vegan</th>\n",
       "      <th>attributes.Happy Hour</th>\n",
       "      <th>hours.Thursday.open</th>\n",
       "      <th>attributes.Order at Counter</th>\n",
       "      <th>attributes.Hair Types Specialized In.africanamerican</th>\n",
       "      <th>attributes.Hair Types Specialized In.kids</th>\n",
       "      <th>attributes.BYOB</th>\n",
       "      <th>hours.Friday.open</th>\n",
       "      <th>attributes.Good For.latenight</th>\n",
       "      <th>...</th>\n",
       "      <th>attributes.Noise Level</th>\n",
       "      <th>attributes.Smoking</th>\n",
       "      <th>attributes.Attire</th>\n",
       "      <th>attributes.Hair Types Specialized In.curly</th>\n",
       "      <th>attributes.Good For Groups</th>\n",
       "      <th>neighborhoods</th>\n",
       "      <th>attributes.Open 24 Hours</th>\n",
       "      <th>attributes.Ambience.romantic</th>\n",
       "      <th>attributes.Music.jukebox</th>\n",
       "      <th>attributes.Ambience.upscale</th>\n",
       "    </tr>\n",
       "  </thead>\n",
       "  <tbody>\n",
       "    <tr>\n",
       "      <th>0</th>\n",
       "      <td>False</td>\n",
       "      <td>NaN</td>\n",
       "      <td>NaN</td>\n",
       "      <td>11:00</td>\n",
       "      <td>NaN</td>\n",
       "      <td>NaN</td>\n",
       "      <td>NaN</td>\n",
       "      <td>NaN</td>\n",
       "      <td>11:00</td>\n",
       "      <td>False</td>\n",
       "      <td>...</td>\n",
       "      <td>average</td>\n",
       "      <td>NaN</td>\n",
       "      <td>casual</td>\n",
       "      <td>NaN</td>\n",
       "      <td>True</td>\n",
       "      <td>[]</td>\n",
       "      <td>NaN</td>\n",
       "      <td>False</td>\n",
       "      <td>NaN</td>\n",
       "      <td>False</td>\n",
       "    </tr>\n",
       "    <tr>\n",
       "      <th>1</th>\n",
       "      <td>NaN</td>\n",
       "      <td>NaN</td>\n",
       "      <td>True</td>\n",
       "      <td>NaN</td>\n",
       "      <td>NaN</td>\n",
       "      <td>NaN</td>\n",
       "      <td>NaN</td>\n",
       "      <td>NaN</td>\n",
       "      <td>NaN</td>\n",
       "      <td>NaN</td>\n",
       "      <td>...</td>\n",
       "      <td>NaN</td>\n",
       "      <td>NaN</td>\n",
       "      <td>NaN</td>\n",
       "      <td>NaN</td>\n",
       "      <td>True</td>\n",
       "      <td>[]</td>\n",
       "      <td>NaN</td>\n",
       "      <td>NaN</td>\n",
       "      <td>NaN</td>\n",
       "      <td>NaN</td>\n",
       "    </tr>\n",
       "    <tr>\n",
       "      <th>2</th>\n",
       "      <td>NaN</td>\n",
       "      <td>NaN</td>\n",
       "      <td>NaN</td>\n",
       "      <td>NaN</td>\n",
       "      <td>NaN</td>\n",
       "      <td>NaN</td>\n",
       "      <td>NaN</td>\n",
       "      <td>NaN</td>\n",
       "      <td>NaN</td>\n",
       "      <td>NaN</td>\n",
       "      <td>...</td>\n",
       "      <td>NaN</td>\n",
       "      <td>NaN</td>\n",
       "      <td>NaN</td>\n",
       "      <td>NaN</td>\n",
       "      <td>NaN</td>\n",
       "      <td>[]</td>\n",
       "      <td>NaN</td>\n",
       "      <td>NaN</td>\n",
       "      <td>NaN</td>\n",
       "      <td>NaN</td>\n",
       "    </tr>\n",
       "    <tr>\n",
       "      <th>3</th>\n",
       "      <td>NaN</td>\n",
       "      <td>NaN</td>\n",
       "      <td>NaN</td>\n",
       "      <td>NaN</td>\n",
       "      <td>NaN</td>\n",
       "      <td>NaN</td>\n",
       "      <td>NaN</td>\n",
       "      <td>NaN</td>\n",
       "      <td>NaN</td>\n",
       "      <td>NaN</td>\n",
       "      <td>...</td>\n",
       "      <td>NaN</td>\n",
       "      <td>NaN</td>\n",
       "      <td>NaN</td>\n",
       "      <td>NaN</td>\n",
       "      <td>NaN</td>\n",
       "      <td>[]</td>\n",
       "      <td>NaN</td>\n",
       "      <td>NaN</td>\n",
       "      <td>NaN</td>\n",
       "      <td>NaN</td>\n",
       "    </tr>\n",
       "    <tr>\n",
       "      <th>4</th>\n",
       "      <td>NaN</td>\n",
       "      <td>NaN</td>\n",
       "      <td>NaN</td>\n",
       "      <td>10:00</td>\n",
       "      <td>NaN</td>\n",
       "      <td>NaN</td>\n",
       "      <td>NaN</td>\n",
       "      <td>NaN</td>\n",
       "      <td>10:00</td>\n",
       "      <td>NaN</td>\n",
       "      <td>...</td>\n",
       "      <td>NaN</td>\n",
       "      <td>NaN</td>\n",
       "      <td>NaN</td>\n",
       "      <td>NaN</td>\n",
       "      <td>NaN</td>\n",
       "      <td>[]</td>\n",
       "      <td>NaN</td>\n",
       "      <td>NaN</td>\n",
       "      <td>NaN</td>\n",
       "      <td>NaN</td>\n",
       "    </tr>\n",
       "  </tbody>\n",
       "</table>\n",
       "<p>5 rows × 98 columns</p>\n",
       "</div>"
      ],
      "text/plain": [
       "  attributes.Ambience.divey attributes.Dietary Restrictions.vegan  \\\n",
       "0                     False                                   NaN   \n",
       "1                       NaN                                   NaN   \n",
       "2                       NaN                                   NaN   \n",
       "3                       NaN                                   NaN   \n",
       "4                       NaN                                   NaN   \n",
       "\n",
       "  attributes.Happy Hour hours.Thursday.open attributes.Order at Counter  \\\n",
       "0                   NaN               11:00                         NaN   \n",
       "1                  True                 NaN                         NaN   \n",
       "2                   NaN                 NaN                         NaN   \n",
       "3                   NaN                 NaN                         NaN   \n",
       "4                   NaN               10:00                         NaN   \n",
       "\n",
       "  attributes.Hair Types Specialized In.africanamerican  \\\n",
       "0                                                NaN     \n",
       "1                                                NaN     \n",
       "2                                                NaN     \n",
       "3                                                NaN     \n",
       "4                                                NaN     \n",
       "\n",
       "  attributes.Hair Types Specialized In.kids attributes.BYOB hours.Friday.open  \\\n",
       "0                                       NaN             NaN             11:00   \n",
       "1                                       NaN             NaN               NaN   \n",
       "2                                       NaN             NaN               NaN   \n",
       "3                                       NaN             NaN               NaN   \n",
       "4                                       NaN             NaN             10:00   \n",
       "\n",
       "  attributes.Good For.latenight             ...              \\\n",
       "0                         False             ...               \n",
       "1                           NaN             ...               \n",
       "2                           NaN             ...               \n",
       "3                           NaN             ...               \n",
       "4                           NaN             ...               \n",
       "\n",
       "  attributes.Noise Level attributes.Smoking attributes.Attire  \\\n",
       "0                average                NaN            casual   \n",
       "1                    NaN                NaN               NaN   \n",
       "2                    NaN                NaN               NaN   \n",
       "3                    NaN                NaN               NaN   \n",
       "4                    NaN                NaN               NaN   \n",
       "\n",
       "  attributes.Hair Types Specialized In.curly attributes.Good For Groups  \\\n",
       "0                                        NaN                       True   \n",
       "1                                        NaN                       True   \n",
       "2                                        NaN                        NaN   \n",
       "3                                        NaN                        NaN   \n",
       "4                                        NaN                        NaN   \n",
       "\n",
       "  neighborhoods attributes.Open 24 Hours attributes.Ambience.romantic  \\\n",
       "0            []                      NaN                        False   \n",
       "1            []                      NaN                          NaN   \n",
       "2            []                      NaN                          NaN   \n",
       "3            []                      NaN                          NaN   \n",
       "4            []                      NaN                          NaN   \n",
       "\n",
       "  attributes.Music.jukebox attributes.Ambience.upscale  \n",
       "0                      NaN                       False  \n",
       "1                      NaN                         NaN  \n",
       "2                      NaN                         NaN  \n",
       "3                      NaN                         NaN  \n",
       "4                      NaN                         NaN  \n",
       "\n",
       "[5 rows x 98 columns]"
      ]
     },
     "execution_count": 4,
     "metadata": {},
     "output_type": "execute_result"
    }
   ],
   "source": [
    "#Import Business Json\n",
    "business_csv_file = os.path.join(MY_YELP_CSV_DATA_DIR, 'yelp_academic_dataset_business.csv')\n",
    "df_business = pd.read_csv(business_csv_file, encoding='utf-8', engine='c')\n",
    "getDfInfo(df_business)\n",
    "df_business.head()"
   ]
  },
  {
   "cell_type": "code",
   "execution_count": 5,
   "metadata": {
    "collapsed": false
   },
   "outputs": [
    {
     "name": "stdout",
     "output_type": "stream",
     "text": [
      "\n",
      "*****SHAPE********\n",
      "(2225213, 10)\n",
      "*****NULL PERCENTAGE*********\n",
      "user_id         0.0\n",
      "review_id       0.0\n",
      "text            0.0\n",
      "votes.cool      0.0\n",
      "business_id     0.0\n",
      "votes.funny     0.0\n",
      "stars           0.0\n",
      "date            0.0\n",
      "type            0.0\n",
      "votes.useful    0.0\n",
      "dtype: float64\n"
     ]
    },
    {
     "data": {
      "text/html": [
       "<div>\n",
       "<table border=\"1\" class=\"dataframe\">\n",
       "  <thead>\n",
       "    <tr style=\"text-align: right;\">\n",
       "      <th></th>\n",
       "      <th>user_id</th>\n",
       "      <th>review_id</th>\n",
       "      <th>text</th>\n",
       "      <th>votes.cool</th>\n",
       "      <th>business_id</th>\n",
       "      <th>votes.funny</th>\n",
       "      <th>stars</th>\n",
       "      <th>date</th>\n",
       "      <th>type</th>\n",
       "      <th>votes.useful</th>\n",
       "    </tr>\n",
       "  </thead>\n",
       "  <tbody>\n",
       "    <tr>\n",
       "      <th>0</th>\n",
       "      <td>PUFPaY9KxDAcGqfsorJp3Q</td>\n",
       "      <td>Ya85v4eqdd6k9Od8HbQjyA</td>\n",
       "      <td>Mr Hoagie is an institution. Walking in, it do...</td>\n",
       "      <td>0</td>\n",
       "      <td>5UmKMjUEUNdYWqANhGckJw</td>\n",
       "      <td>0</td>\n",
       "      <td>4</td>\n",
       "      <td>2012-08-01</td>\n",
       "      <td>review</td>\n",
       "      <td>0</td>\n",
       "    </tr>\n",
       "    <tr>\n",
       "      <th>1</th>\n",
       "      <td>Iu6AxdBYGR4A0wspR9BYHA</td>\n",
       "      <td>KPvLNJ21_4wbYNctrOwWdQ</td>\n",
       "      <td>Excellent food. Superb customer service. I mis...</td>\n",
       "      <td>0</td>\n",
       "      <td>5UmKMjUEUNdYWqANhGckJw</td>\n",
       "      <td>0</td>\n",
       "      <td>5</td>\n",
       "      <td>2014-02-13</td>\n",
       "      <td>review</td>\n",
       "      <td>0</td>\n",
       "    </tr>\n",
       "    <tr>\n",
       "      <th>2</th>\n",
       "      <td>auESFwWvW42h6alXgFxAXQ</td>\n",
       "      <td>fFSoGV46Yxuwbr3fHNuZig</td>\n",
       "      <td>Yes this place is a little out dated and not o...</td>\n",
       "      <td>0</td>\n",
       "      <td>5UmKMjUEUNdYWqANhGckJw</td>\n",
       "      <td>0</td>\n",
       "      <td>5</td>\n",
       "      <td>2015-10-31</td>\n",
       "      <td>review</td>\n",
       "      <td>0</td>\n",
       "    </tr>\n",
       "    <tr>\n",
       "      <th>3</th>\n",
       "      <td>uK8tzraOp4M5u3uYrqIBXg</td>\n",
       "      <td>Di3exaUCFNw1V4kSNW5pgA</td>\n",
       "      <td>All the food is great here. But the best thing...</td>\n",
       "      <td>0</td>\n",
       "      <td>UsFtqoBl7naz8AVUBZMjQQ</td>\n",
       "      <td>0</td>\n",
       "      <td>5</td>\n",
       "      <td>2013-11-08</td>\n",
       "      <td>review</td>\n",
       "      <td>0</td>\n",
       "    </tr>\n",
       "    <tr>\n",
       "      <th>4</th>\n",
       "      <td>I_47G-R2_egp7ME5u_ltew</td>\n",
       "      <td>0Lua2-PbqEQMjD9r89-asw</td>\n",
       "      <td>We checked this place out this past Monday for...</td>\n",
       "      <td>0</td>\n",
       "      <td>UsFtqoBl7naz8AVUBZMjQQ</td>\n",
       "      <td>0</td>\n",
       "      <td>3</td>\n",
       "      <td>2014-03-29</td>\n",
       "      <td>review</td>\n",
       "      <td>0</td>\n",
       "    </tr>\n",
       "  </tbody>\n",
       "</table>\n",
       "</div>"
      ],
      "text/plain": [
       "                  user_id               review_id  \\\n",
       "0  PUFPaY9KxDAcGqfsorJp3Q  Ya85v4eqdd6k9Od8HbQjyA   \n",
       "1  Iu6AxdBYGR4A0wspR9BYHA  KPvLNJ21_4wbYNctrOwWdQ   \n",
       "2  auESFwWvW42h6alXgFxAXQ  fFSoGV46Yxuwbr3fHNuZig   \n",
       "3  uK8tzraOp4M5u3uYrqIBXg  Di3exaUCFNw1V4kSNW5pgA   \n",
       "4  I_47G-R2_egp7ME5u_ltew  0Lua2-PbqEQMjD9r89-asw   \n",
       "\n",
       "                                                text  votes.cool  \\\n",
       "0  Mr Hoagie is an institution. Walking in, it do...           0   \n",
       "1  Excellent food. Superb customer service. I mis...           0   \n",
       "2  Yes this place is a little out dated and not o...           0   \n",
       "3  All the food is great here. But the best thing...           0   \n",
       "4  We checked this place out this past Monday for...           0   \n",
       "\n",
       "              business_id  votes.funny  stars        date    type  \\\n",
       "0  5UmKMjUEUNdYWqANhGckJw            0      4  2012-08-01  review   \n",
       "1  5UmKMjUEUNdYWqANhGckJw            0      5  2014-02-13  review   \n",
       "2  5UmKMjUEUNdYWqANhGckJw            0      5  2015-10-31  review   \n",
       "3  UsFtqoBl7naz8AVUBZMjQQ            0      5  2013-11-08  review   \n",
       "4  UsFtqoBl7naz8AVUBZMjQQ            0      3  2014-03-29  review   \n",
       "\n",
       "   votes.useful  \n",
       "0             0  \n",
       "1             0  \n",
       "2             0  \n",
       "3             0  \n",
       "4             0  "
      ]
     },
     "execution_count": 5,
     "metadata": {},
     "output_type": "execute_result"
    }
   ],
   "source": [
    "#Import Review CSV\n",
    "review_csv_file = os.path.join(MY_YELP_CSV_DATA_DIR, 'yelp_academic_dataset_review.csv')\n",
    "df_review = pd.read_csv(review_csv_file, encoding='utf-8', engine='c')\n",
    "getDfInfo(df_review)\n",
    "df_review.head()"
   ]
  },
  {
   "cell_type": "code",
   "execution_count": 6,
   "metadata": {
    "collapsed": false
   },
   "outputs": [
    {
     "name": "stdout",
     "output_type": "stream",
     "text": [
      "\n",
      "*****SHAPE********\n",
      "(2225213, 107)\n",
      "*****NULL PERCENTAGE*********\n",
      "user_id                                                 0.000000\n",
      "review_id                                               0.000000\n",
      "text                                                    0.000000\n",
      "votes.cool                                              0.000000\n",
      "business_id                                             0.000000\n",
      "votes.funny                                             0.000000\n",
      "stars_x                                                 0.000000\n",
      "date                                                    0.000000\n",
      "type_x                                                  0.000000\n",
      "votes.useful                                            0.000000\n",
      "attributes.Ambience.divey                               0.348585\n",
      "attributes.Dietary Restrictions.vegan                   0.992793\n",
      "attributes.Happy Hour                                   0.846941\n",
      "hours.Thursday.open                                     0.150756\n",
      "attributes.Order at Counter                             0.962284\n",
      "attributes.Hair Types Specialized In.africanamerican    0.995764\n",
      "attributes.Hair Types Specialized In.kids               0.995733\n",
      "attributes.BYOB                                         0.918529\n",
      "hours.Friday.open                                       0.148209\n",
      "attributes.Good For.latenight                           0.366323\n",
      "attributes.Outdoor Seating                              0.306766\n",
      "attributes.Alcohol                                      0.331149\n",
      "attributes.Ambience.classy                              0.345849\n",
      "attributes.By Appointment Only                          0.922383\n",
      "attributes.Parking.lot                                  0.175936\n",
      "attributes.Ambience.touristy                            0.345849\n",
      "attributes.Corkage                                      0.934335\n",
      "hours.Tuesday.open                                      0.164419\n",
      "attributes.Good For.brunch                              0.366618\n",
      "categories                                              0.000000\n",
      "                                                          ...   \n",
      "attributes.Coat Check                                   0.852000\n",
      "longitude                                               0.000000\n",
      "hours.Monday.close                                      0.204528\n",
      "attributes.Hair Types Specialized In.extensions         0.995733\n",
      "hours.Tuesday.close                                     0.164419\n",
      "hours.Saturday.close                                    0.170582\n",
      "attributes.Good for Kids                                0.275399\n",
      "attributes.Parking.validated                            0.177701\n",
      "hours.Sunday.open                                       0.281997\n",
      "attributes.Accepts Insurance                            0.993462\n",
      "attributes.Music.dj                                     0.869327\n",
      "attributes.Dietary Restrictions.soy-free                0.992793\n",
      "attributes.Has TV                                       0.341194\n",
      "hours.Sunday.close                                      0.281997\n",
      "attributes.Ambience.casual                              0.345849\n",
      "attributes.Hair Types Specialized In.perms              0.995733\n",
      "attributes.Dogs Allowed                                 0.878998\n",
      "attributes.Drive-Thru                                   0.936828\n",
      "attributes.Dietary Restrictions.vegetarian              0.992793\n",
      "hours.Wednesday.open                                    0.155597\n",
      "attributes.Noise Level                                  0.347313\n",
      "attributes.Smoking                                      0.847160\n",
      "attributes.Attire                                       0.360079\n",
      "attributes.Hair Types Specialized In.curly              0.995733\n",
      "attributes.Good For Groups                              0.319498\n",
      "neighborhoods                                           0.000000\n",
      "attributes.Open 24 Hours                                0.965754\n",
      "attributes.Ambience.romantic                            0.345849\n",
      "attributes.Music.jukebox                                0.912514\n",
      "attributes.Ambience.upscale                             0.346734\n",
      "dtype: float64\n"
     ]
    },
    {
     "data": {
      "text/html": [
       "<div>\n",
       "<table border=\"1\" class=\"dataframe\">\n",
       "  <thead>\n",
       "    <tr style=\"text-align: right;\">\n",
       "      <th></th>\n",
       "      <th>user_id</th>\n",
       "      <th>review_id</th>\n",
       "      <th>text</th>\n",
       "      <th>votes.cool</th>\n",
       "      <th>business_id</th>\n",
       "      <th>votes.funny</th>\n",
       "      <th>stars_x</th>\n",
       "      <th>date</th>\n",
       "      <th>type_x</th>\n",
       "      <th>votes.useful</th>\n",
       "      <th>...</th>\n",
       "      <th>attributes.Noise Level</th>\n",
       "      <th>attributes.Smoking</th>\n",
       "      <th>attributes.Attire</th>\n",
       "      <th>attributes.Hair Types Specialized In.curly</th>\n",
       "      <th>attributes.Good For Groups</th>\n",
       "      <th>neighborhoods</th>\n",
       "      <th>attributes.Open 24 Hours</th>\n",
       "      <th>attributes.Ambience.romantic</th>\n",
       "      <th>attributes.Music.jukebox</th>\n",
       "      <th>attributes.Ambience.upscale</th>\n",
       "    </tr>\n",
       "  </thead>\n",
       "  <tbody>\n",
       "    <tr>\n",
       "      <th>0</th>\n",
       "      <td>PUFPaY9KxDAcGqfsorJp3Q</td>\n",
       "      <td>Ya85v4eqdd6k9Od8HbQjyA</td>\n",
       "      <td>Mr Hoagie is an institution. Walking in, it do...</td>\n",
       "      <td>0</td>\n",
       "      <td>5UmKMjUEUNdYWqANhGckJw</td>\n",
       "      <td>0</td>\n",
       "      <td>4</td>\n",
       "      <td>2012-08-01</td>\n",
       "      <td>review</td>\n",
       "      <td>0</td>\n",
       "      <td>...</td>\n",
       "      <td>average</td>\n",
       "      <td>NaN</td>\n",
       "      <td>casual</td>\n",
       "      <td>NaN</td>\n",
       "      <td>True</td>\n",
       "      <td>[]</td>\n",
       "      <td>NaN</td>\n",
       "      <td>False</td>\n",
       "      <td>NaN</td>\n",
       "      <td>False</td>\n",
       "    </tr>\n",
       "    <tr>\n",
       "      <th>1</th>\n",
       "      <td>Iu6AxdBYGR4A0wspR9BYHA</td>\n",
       "      <td>KPvLNJ21_4wbYNctrOwWdQ</td>\n",
       "      <td>Excellent food. Superb customer service. I mis...</td>\n",
       "      <td>0</td>\n",
       "      <td>5UmKMjUEUNdYWqANhGckJw</td>\n",
       "      <td>0</td>\n",
       "      <td>5</td>\n",
       "      <td>2014-02-13</td>\n",
       "      <td>review</td>\n",
       "      <td>0</td>\n",
       "      <td>...</td>\n",
       "      <td>average</td>\n",
       "      <td>NaN</td>\n",
       "      <td>casual</td>\n",
       "      <td>NaN</td>\n",
       "      <td>True</td>\n",
       "      <td>[]</td>\n",
       "      <td>NaN</td>\n",
       "      <td>False</td>\n",
       "      <td>NaN</td>\n",
       "      <td>False</td>\n",
       "    </tr>\n",
       "    <tr>\n",
       "      <th>2</th>\n",
       "      <td>auESFwWvW42h6alXgFxAXQ</td>\n",
       "      <td>fFSoGV46Yxuwbr3fHNuZig</td>\n",
       "      <td>Yes this place is a little out dated and not o...</td>\n",
       "      <td>0</td>\n",
       "      <td>5UmKMjUEUNdYWqANhGckJw</td>\n",
       "      <td>0</td>\n",
       "      <td>5</td>\n",
       "      <td>2015-10-31</td>\n",
       "      <td>review</td>\n",
       "      <td>0</td>\n",
       "      <td>...</td>\n",
       "      <td>average</td>\n",
       "      <td>NaN</td>\n",
       "      <td>casual</td>\n",
       "      <td>NaN</td>\n",
       "      <td>True</td>\n",
       "      <td>[]</td>\n",
       "      <td>NaN</td>\n",
       "      <td>False</td>\n",
       "      <td>NaN</td>\n",
       "      <td>False</td>\n",
       "    </tr>\n",
       "    <tr>\n",
       "      <th>3</th>\n",
       "      <td>uK8tzraOp4M5u3uYrqIBXg</td>\n",
       "      <td>Di3exaUCFNw1V4kSNW5pgA</td>\n",
       "      <td>All the food is great here. But the best thing...</td>\n",
       "      <td>0</td>\n",
       "      <td>UsFtqoBl7naz8AVUBZMjQQ</td>\n",
       "      <td>0</td>\n",
       "      <td>5</td>\n",
       "      <td>2013-11-08</td>\n",
       "      <td>review</td>\n",
       "      <td>0</td>\n",
       "      <td>...</td>\n",
       "      <td>NaN</td>\n",
       "      <td>NaN</td>\n",
       "      <td>NaN</td>\n",
       "      <td>NaN</td>\n",
       "      <td>True</td>\n",
       "      <td>[]</td>\n",
       "      <td>NaN</td>\n",
       "      <td>NaN</td>\n",
       "      <td>NaN</td>\n",
       "      <td>NaN</td>\n",
       "    </tr>\n",
       "    <tr>\n",
       "      <th>4</th>\n",
       "      <td>I_47G-R2_egp7ME5u_ltew</td>\n",
       "      <td>0Lua2-PbqEQMjD9r89-asw</td>\n",
       "      <td>We checked this place out this past Monday for...</td>\n",
       "      <td>0</td>\n",
       "      <td>UsFtqoBl7naz8AVUBZMjQQ</td>\n",
       "      <td>0</td>\n",
       "      <td>3</td>\n",
       "      <td>2014-03-29</td>\n",
       "      <td>review</td>\n",
       "      <td>0</td>\n",
       "      <td>...</td>\n",
       "      <td>NaN</td>\n",
       "      <td>NaN</td>\n",
       "      <td>NaN</td>\n",
       "      <td>NaN</td>\n",
       "      <td>True</td>\n",
       "      <td>[]</td>\n",
       "      <td>NaN</td>\n",
       "      <td>NaN</td>\n",
       "      <td>NaN</td>\n",
       "      <td>NaN</td>\n",
       "    </tr>\n",
       "  </tbody>\n",
       "</table>\n",
       "<p>5 rows × 107 columns</p>\n",
       "</div>"
      ],
      "text/plain": [
       "                  user_id               review_id  \\\n",
       "0  PUFPaY9KxDAcGqfsorJp3Q  Ya85v4eqdd6k9Od8HbQjyA   \n",
       "1  Iu6AxdBYGR4A0wspR9BYHA  KPvLNJ21_4wbYNctrOwWdQ   \n",
       "2  auESFwWvW42h6alXgFxAXQ  fFSoGV46Yxuwbr3fHNuZig   \n",
       "3  uK8tzraOp4M5u3uYrqIBXg  Di3exaUCFNw1V4kSNW5pgA   \n",
       "4  I_47G-R2_egp7ME5u_ltew  0Lua2-PbqEQMjD9r89-asw   \n",
       "\n",
       "                                                text  votes.cool  \\\n",
       "0  Mr Hoagie is an institution. Walking in, it do...           0   \n",
       "1  Excellent food. Superb customer service. I mis...           0   \n",
       "2  Yes this place is a little out dated and not o...           0   \n",
       "3  All the food is great here. But the best thing...           0   \n",
       "4  We checked this place out this past Monday for...           0   \n",
       "\n",
       "              business_id  votes.funny  stars_x        date  type_x  \\\n",
       "0  5UmKMjUEUNdYWqANhGckJw            0        4  2012-08-01  review   \n",
       "1  5UmKMjUEUNdYWqANhGckJw            0        5  2014-02-13  review   \n",
       "2  5UmKMjUEUNdYWqANhGckJw            0        5  2015-10-31  review   \n",
       "3  UsFtqoBl7naz8AVUBZMjQQ            0        5  2013-11-08  review   \n",
       "4  UsFtqoBl7naz8AVUBZMjQQ            0        3  2014-03-29  review   \n",
       "\n",
       "   votes.useful             ...             attributes.Noise Level  \\\n",
       "0             0             ...                            average   \n",
       "1             0             ...                            average   \n",
       "2             0             ...                            average   \n",
       "3             0             ...                                NaN   \n",
       "4             0             ...                                NaN   \n",
       "\n",
       "  attributes.Smoking attributes.Attire  \\\n",
       "0                NaN            casual   \n",
       "1                NaN            casual   \n",
       "2                NaN            casual   \n",
       "3                NaN               NaN   \n",
       "4                NaN               NaN   \n",
       "\n",
       "  attributes.Hair Types Specialized In.curly attributes.Good For Groups  \\\n",
       "0                                        NaN                       True   \n",
       "1                                        NaN                       True   \n",
       "2                                        NaN                       True   \n",
       "3                                        NaN                       True   \n",
       "4                                        NaN                       True   \n",
       "\n",
       "  neighborhoods attributes.Open 24 Hours attributes.Ambience.romantic  \\\n",
       "0            []                      NaN                        False   \n",
       "1            []                      NaN                        False   \n",
       "2            []                      NaN                        False   \n",
       "3            []                      NaN                          NaN   \n",
       "4            []                      NaN                          NaN   \n",
       "\n",
       "  attributes.Music.jukebox attributes.Ambience.upscale  \n",
       "0                      NaN                       False  \n",
       "1                      NaN                       False  \n",
       "2                      NaN                       False  \n",
       "3                      NaN                         NaN  \n",
       "4                      NaN                         NaN  \n",
       "\n",
       "[5 rows x 107 columns]"
      ]
     },
     "execution_count": 6,
     "metadata": {},
     "output_type": "execute_result"
    }
   ],
   "source": [
    "df_business_review = pd.merge(df_review, df_business, how ='inner', on=['business_id'])\n",
    "getDfInfo(df_business_review)\n",
    "df_business_review.head()"
   ]
  },
  {
   "cell_type": "code",
   "execution_count": 7,
   "metadata": {
    "collapsed": false
   },
   "outputs": [
    {
     "name": "stdout",
     "output_type": "stream",
     "text": [
      "\n",
      "*****SHAPE********\n",
      "(1363242, 3)\n",
      "*****NULL PERCENTAGE*********\n",
      "user_id        0.0\n",
      "business_id    0.0\n",
      "categories     0.0\n",
      "dtype: float64\n"
     ]
    }
   ],
   "source": [
    "df_cat = df_business_review[['user_id','business_id','categories']]\n",
    "df_cat = df_cat[df_cat.categories.str.contains('Restaurants')]\n",
    "getDfInfo(df_cat)"
   ]
  },
  {
   "cell_type": "code",
   "execution_count": 8,
   "metadata": {
    "collapsed": true
   },
   "outputs": [],
   "source": [
    "food_categories = ['Afghan', 'afghani','African', 'african','Senegalese', 'senegalese','South African', 'southafrican',\n",
    "                   'American','newamerican','American', 'Traditional', 'tradamerican','Arabian', 'arabian','Argentine', \n",
    "                   'argentine','Armenian','armenian','Asian Fusion', 'asianfusion','Australian', 'australian','Austrian', \n",
    "                   'austrian','Bangladeshi','bangladeshi','Barbeque', 'bbq','Basque', 'basque','Belgian', 'belgian',\n",
    "                   'Brasseries', 'brasseries','Brazilian','brazilian','Breakfast & Brunch', 'breakfast_brunch',\n",
    "                   'British', 'british','Buffets', 'buffets','Burgers', \n",
    "                   'burgers','Burmese', 'burmese','Cafes', 'cafes','Themed Cafes', 'themedcafes','Cafeteria', 'cafeteria',\n",
    "                   'Cajun/Creole', 'cajun','Cambodian', 'cambodian','Caribbean', 'caribbean','Dominican', 'dominican','Haitian', \n",
    "                   'haitian','Puerto Rican', 'puertorican','Trinidadian', 'trinidadian','Catalan', 'catalan','Cheesesteaks', \n",
    "                   'cheesesteaks','Chicken Shop', 'chickenshop','Chicken Wings', 'chicken_wings','Chinese', 'chinese',\n",
    "                   'Cantonese', 'cantonese','Dim Sum', 'dimsum','Hainan', 'hainan','Shanghainese', 'shanghainese','Szechuan', \n",
    "                   'szechuan','Comfort Food', 'comfortfood','Creperies', 'creperies','Cuban', 'cuban','Czech', 'czech','Delis',\n",
    "                   'delis','Diners', 'diners','Dinner Theater', 'dinnertheater','Ethiopian', 'ethiopian','Fast Food', \n",
    "                   'hotdogs','Filipino', 'filipino','Fish & Chips', 'fishnchips','Fondue', 'fondue','Food Court', 'food_court',\n",
    "                   'Food Stands', 'foodstands','French', 'french','Mauritius', 'mauritius','Reunion', 'reunion','Gastropubs',\n",
    "                   'gastropubs','German', 'german','Gluten-Free', 'gluten_free','Greek', 'greek','Halal', 'halal','Hawaiian',\n",
    "                   'hawaiian','Himalayan/Nepalese', 'himalayan','Hong Kong Style Cafe', 'hkcafe','Hot Dogs', 'hotdog','Hot Pot', \n",
    "                   'hotpot','Hungarian', 'hungarian','Iberian', 'iberian','Indian', 'indpak','Indonesian', 'indonesian','Irish',\n",
    "                   'irish','Italian', 'italian','Calabrian', 'calabrian','Sardinian', 'sardinian','Tuscan', 'tuscan','Japanese',\n",
    "                   'japanese','Izakaya', 'izakaya','Ramen', 'ramen','Teppanyaki', 'teppanyaki','Korean', 'korean','Kosher',\n",
    "                   'kosher','Laotian', 'laotian','Latin American', 'latin','Colombian', 'colombian','Salvadoran', 'salvadoran',\n",
    "                   'Venezuelan', 'venezuelan','Live/Raw Food', 'raw_food','Malaysian', 'malaysian','Mediterranean',\n",
    "                   'mediterranean','Falafel', 'falafel','Mexican', 'mexican','Tacos', 'tacos','Middle Eastern', 'mideastern',\n",
    "                   'Egyptian', 'egyptian','Lebanese', 'lebanese','Modern European', 'modern_european','Mongolian', 'mongolian',\n",
    "                   'Moroccan', 'moroccan','New Mexican Cuisine', 'newmexican','Nicaraguan', 'nicaraguan','Noodles', 'noodles',\n",
    "                   'Pakistani', 'pakistani','Pan Asian', 'panasian','Persian/Iranian', 'persian','Peruvian', 'peruvian','Pizza',\n",
    "                   'pizza','Polish', 'polish','Pop-Up Restaurants', 'popuprestaurants','Portuguese', 'portuguese','Poutineries', \n",
    "                   'poutineries','Russian', 'russian','Salad', 'salad','Sandwiches', 'sandwiches','Scandinavian', 'scandinavian',\n",
    "                   'Scottish', 'scottish','Seafood', 'seafood','Singaporean', 'singaporean','Slovakian', 'slovakian','Soul Food',\n",
    "                   'soulfood','Soup', 'soup','Southern', 'southern','Spanish', 'spanish','Sri Lankan', 'srilankan','Steakhouses',\n",
    "                   'steak','Supper Clubs', 'supperclubs','Sushi Bars', 'sushi','Syrian', 'syrian','Taiwanese', 'taiwanese',\n",
    "                   'Tapas Bars', 'tapas','Tapas/Small Plates', 'tapasmallplates','Tex-Mex', 'tex-mex','Thai', 'thai','Turkish',\n",
    "                   'turkish','Ukrainian', 'ukrainian','Uzbek', 'uzbek','Vegan', 'vegan','Vegetarian', 'vegetarian','Vietnamese', \n",
    "                   'vietnamese','Waffles', 'waffles','Wraps', 'wraps']\n",
    "#for i in range(len(df_cat.categories))\n",
    "food_categories = list(set(food_categories))\n",
    "food_categories = sorted(food_categories)"
   ]
  },
  {
   "cell_type": "code",
   "execution_count": 9,
   "metadata": {
    "collapsed": true
   },
   "outputs": [],
   "source": [
    "def specificcuisine(cat_food):\n",
    "    cat_food = str(cat_food)\n",
    "    cat_food = cat_food.replace(\"[\",\"\").replace(\"]\",\"\").replace(\"'\",\"\").replace(\"(\",\",\")\n",
    "    cat_food= cat_food.split(\",\")\n",
    "    li = []\n",
    "    for i in cat_food:\n",
    "        if(i.strip() in food_categories):\n",
    "            li = i.strip()\n",
    "    if not li:\n",
    "        li = \"unknown cuisine\"\n",
    "    return li\n",
    "    \n",
    "    "
   ]
  },
  {
   "cell_type": "code",
   "execution_count": 10,
   "metadata": {
    "collapsed": true
   },
   "outputs": [],
   "source": [
    "df_cat['cuisine'] = df_cat['categories'].apply(lambda x: specificcuisine(x)  )"
   ]
  },
  {
   "cell_type": "code",
   "execution_count": 11,
   "metadata": {
    "collapsed": true
   },
   "outputs": [],
   "source": [
    "df_cat['count'] = df_cat.groupby([\"user_id\", \"cuisine\"])[\"user_id\"].transform(\"count\")\n",
    "df_cat['count_restaurants'] = df_cat.groupby([\"user_id\", \"categories\"])[\"user_id\"].transform(\"count\")"
   ]
  },
  {
   "cell_type": "code",
   "execution_count": 12,
   "metadata": {
    "collapsed": true
   },
   "outputs": [],
   "source": [
    "#\n",
    "df_cat = df_cat.drop_duplicates()\n",
    "df_cuisine = df_cat[['user_id','cuisine','count']]\n",
    "df_cuisine_filtered = df_cat[df_cat['count']>=3]\n",
    "df_cuisine_filtered = df_cuisine_filtered[['user_id','cuisine','count']]"
   ]
  },
  {
   "cell_type": "code",
   "execution_count": 17,
   "metadata": {
    "collapsed": false
   },
   "outputs": [
    {
     "name": "stdout",
     "output_type": "stream",
     "text": [
      "(1319469, 3)\n",
      "(72452, 3)\n"
     ]
    }
   ],
   "source": [
    "df_cuisine_filtered = df_cuisine_filtered.drop_duplicates()\n",
    "print df_cuisine.shape\n",
    "print df_cuisine_filtered.shape"
   ]
  },
  {
   "cell_type": "code",
   "execution_count": 18,
   "metadata": {
    "collapsed": true
   },
   "outputs": [],
   "source": [
    "df_cuisine = df_cuisine.drop_duplicates()"
   ]
  },
  {
   "cell_type": "code",
   "execution_count": 19,
   "metadata": {
    "collapsed": false
   },
   "outputs": [
    {
     "name": "stdout",
     "output_type": "stream",
     "text": [
      "Canvas is accessible via web browser at the URL: http://localhost:53756/index.html\n",
      "Opening Canvas in default web browser.\n"
     ]
    }
   ],
   "source": [
    "sf = gl.SFrame(df_cuisine)\n",
    "sf.show()"
   ]
  },
  {
   "cell_type": "code",
   "execution_count": 20,
   "metadata": {
    "collapsed": true
   },
   "outputs": [],
   "source": [
    "train, test = gl.recommender.util.random_split_by_user(sf,item_id ='cuisine', max_num_users=1000,item_test_proportion =0.2)"
   ]
  },
  {
   "cell_type": "code",
   "execution_count": 21,
   "metadata": {
    "collapsed": false
   },
   "outputs": [
    {
     "name": "stdout",
     "output_type": "stream",
     "text": [
      "(955221, 3)\n",
      "(513, 3)\n"
     ]
    }
   ],
   "source": [
    "print train.shape\n",
    "print test.shape"
   ]
  },
  {
   "cell_type": "code",
   "execution_count": 22,
   "metadata": {
    "collapsed": false
   },
   "outputs": [
    {
     "data": {
      "text/html": [
       "<pre>Recsys training: model = factorization_recommender</pre>"
      ],
      "text/plain": [
       "Recsys training: model = factorization_recommender"
      ]
     },
     "metadata": {},
     "output_type": "display_data"
    },
    {
     "data": {
      "text/html": [
       "<pre>Preparing data set.</pre>"
      ],
      "text/plain": [
       "Preparing data set."
      ]
     },
     "metadata": {},
     "output_type": "display_data"
    },
    {
     "data": {
      "text/html": [
       "<pre>    Data has 955221 observations with 388480 users and 110 items.</pre>"
      ],
      "text/plain": [
       "    Data has 955221 observations with 388480 users and 110 items."
      ]
     },
     "metadata": {},
     "output_type": "display_data"
    },
    {
     "data": {
      "text/html": [
       "<pre>    Data prepared in: 2.96462s</pre>"
      ],
      "text/plain": [
       "    Data prepared in: 2.96462s"
      ]
     },
     "metadata": {},
     "output_type": "display_data"
    },
    {
     "data": {
      "text/html": [
       "<pre>Training factorization_recommender for recommendations.</pre>"
      ],
      "text/plain": [
       "Training factorization_recommender for recommendations."
      ]
     },
     "metadata": {},
     "output_type": "display_data"
    },
    {
     "data": {
      "text/html": [
       "<pre>+--------------------------------+--------------------------------------------------+----------+</pre>"
      ],
      "text/plain": [
       "+--------------------------------+--------------------------------------------------+----------+"
      ]
     },
     "metadata": {},
     "output_type": "display_data"
    },
    {
     "data": {
      "text/html": [
       "<pre>| Parameter                      | Description                                      | Value    |</pre>"
      ],
      "text/plain": [
       "| Parameter                      | Description                                      | Value    |"
      ]
     },
     "metadata": {},
     "output_type": "display_data"
    },
    {
     "data": {
      "text/html": [
       "<pre>+--------------------------------+--------------------------------------------------+----------+</pre>"
      ],
      "text/plain": [
       "+--------------------------------+--------------------------------------------------+----------+"
      ]
     },
     "metadata": {},
     "output_type": "display_data"
    },
    {
     "data": {
      "text/html": [
       "<pre>| num_factors                    | Factor Dimension                                 | 5        |</pre>"
      ],
      "text/plain": [
       "| num_factors                    | Factor Dimension                                 | 5        |"
      ]
     },
     "metadata": {},
     "output_type": "display_data"
    },
    {
     "data": {
      "text/html": [
       "<pre>| regularization                 | L2 Regularization on Factors                     | 1e-008   |</pre>"
      ],
      "text/plain": [
       "| regularization                 | L2 Regularization on Factors                     | 1e-008   |"
      ]
     },
     "metadata": {},
     "output_type": "display_data"
    },
    {
     "data": {
      "text/html": [
       "<pre>| solver                         | Solver used for training                         | sgd      |</pre>"
      ],
      "text/plain": [
       "| solver                         | Solver used for training                         | sgd      |"
      ]
     },
     "metadata": {},
     "output_type": "display_data"
    },
    {
     "data": {
      "text/html": [
       "<pre>| linear_regularization          | L2 Regularization on Linear Coefficients         | 1e-010   |</pre>"
      ],
      "text/plain": [
       "| linear_regularization          | L2 Regularization on Linear Coefficients         | 1e-010   |"
      ]
     },
     "metadata": {},
     "output_type": "display_data"
    },
    {
     "data": {
      "text/html": [
       "<pre>| max_iterations                 | Maximum Number of Iterations                     | 50       |</pre>"
      ],
      "text/plain": [
       "| max_iterations                 | Maximum Number of Iterations                     | 50       |"
      ]
     },
     "metadata": {},
     "output_type": "display_data"
    },
    {
     "data": {
      "text/html": [
       "<pre>+--------------------------------+--------------------------------------------------+----------+</pre>"
      ],
      "text/plain": [
       "+--------------------------------+--------------------------------------------------+----------+"
      ]
     },
     "metadata": {},
     "output_type": "display_data"
    },
    {
     "data": {
      "text/html": [
       "<pre>  Optimizing model using SGD; tuning step size.</pre>"
      ],
      "text/plain": [
       "  Optimizing model using SGD; tuning step size."
      ]
     },
     "metadata": {},
     "output_type": "display_data"
    },
    {
     "data": {
      "text/html": [
       "<pre>  Using 119402 / 955221 points for tuning the step size.</pre>"
      ],
      "text/plain": [
       "  Using 119402 / 955221 points for tuning the step size."
      ]
     },
     "metadata": {},
     "output_type": "display_data"
    },
    {
     "data": {
      "text/html": [
       "<pre>+---------+-------------------+------------------------------------------+</pre>"
      ],
      "text/plain": [
       "+---------+-------------------+------------------------------------------+"
      ]
     },
     "metadata": {},
     "output_type": "display_data"
    },
    {
     "data": {
      "text/html": [
       "<pre>| Attempt | Initial Step Size | Estimated Objective Value                |</pre>"
      ],
      "text/plain": [
       "| Attempt | Initial Step Size | Estimated Objective Value                |"
      ]
     },
     "metadata": {},
     "output_type": "display_data"
    },
    {
     "data": {
      "text/html": [
       "<pre>+---------+-------------------+------------------------------------------+</pre>"
      ],
      "text/plain": [
       "+---------+-------------------+------------------------------------------+"
      ]
     },
     "metadata": {},
     "output_type": "display_data"
    },
    {
     "data": {
      "text/html": [
       "<pre>| 0       | 25                | Not Viable                               |</pre>"
      ],
      "text/plain": [
       "| 0       | 25                | Not Viable                               |"
      ]
     },
     "metadata": {},
     "output_type": "display_data"
    },
    {
     "data": {
      "text/html": [
       "<pre>| 1       | 6.25              | Not Viable                               |</pre>"
      ],
      "text/plain": [
       "| 1       | 6.25              | Not Viable                               |"
      ]
     },
     "metadata": {},
     "output_type": "display_data"
    },
    {
     "data": {
      "text/html": [
       "<pre>| 2       | 1.5625            | No Decrease (34.2195 >= 3.16711)         |</pre>"
      ],
      "text/plain": [
       "| 2       | 1.5625            | No Decrease (34.2195 >= 3.16711)         |"
      ]
     },
     "metadata": {},
     "output_type": "display_data"
    },
    {
     "data": {
      "text/html": [
       "<pre>| 3       | 0.390625          | 2.57567                                  |</pre>"
      ],
      "text/plain": [
       "| 3       | 0.390625          | 2.57567                                  |"
      ]
     },
     "metadata": {},
     "output_type": "display_data"
    },
    {
     "data": {
      "text/html": [
       "<pre>| 4       | 0.195312          | 2.02068                                  |</pre>"
      ],
      "text/plain": [
       "| 4       | 0.195312          | 2.02068                                  |"
      ]
     },
     "metadata": {},
     "output_type": "display_data"
    },
    {
     "data": {
      "text/html": [
       "<pre>| 5       | 0.0976562         | 1.69577                                  |</pre>"
      ],
      "text/plain": [
       "| 5       | 0.0976562         | 1.69577                                  |"
      ]
     },
     "metadata": {},
     "output_type": "display_data"
    },
    {
     "data": {
      "text/html": [
       "<pre>| 6       | 0.0488281         | 0.433196                                 |</pre>"
      ],
      "text/plain": [
       "| 6       | 0.0488281         | 0.433196                                 |"
      ]
     },
     "metadata": {},
     "output_type": "display_data"
    },
    {
     "data": {
      "text/html": [
       "<pre>| 7       | 0.0244141         | 0.469943                                 |</pre>"
      ],
      "text/plain": [
       "| 7       | 0.0244141         | 0.469943                                 |"
      ]
     },
     "metadata": {},
     "output_type": "display_data"
    },
    {
     "data": {
      "text/html": [
       "<pre>| 8       | 0.012207          | 1.11261                                  |</pre>"
      ],
      "text/plain": [
       "| 8       | 0.012207          | 1.11261                                  |"
      ]
     },
     "metadata": {},
     "output_type": "display_data"
    },
    {
     "data": {
      "text/html": [
       "<pre>+---------+-------------------+------------------------------------------+</pre>"
      ],
      "text/plain": [
       "+---------+-------------------+------------------------------------------+"
      ]
     },
     "metadata": {},
     "output_type": "display_data"
    },
    {
     "data": {
      "text/html": [
       "<pre>| Final   | 0.0488281         | 0.433196                                 |</pre>"
      ],
      "text/plain": [
       "| Final   | 0.0488281         | 0.433196                                 |"
      ]
     },
     "metadata": {},
     "output_type": "display_data"
    },
    {
     "data": {
      "text/html": [
       "<pre>+---------+-------------------+------------------------------------------+</pre>"
      ],
      "text/plain": [
       "+---------+-------------------+------------------------------------------+"
      ]
     },
     "metadata": {},
     "output_type": "display_data"
    },
    {
     "data": {
      "text/html": [
       "<pre>Starting Optimization.</pre>"
      ],
      "text/plain": [
       "Starting Optimization."
      ]
     },
     "metadata": {},
     "output_type": "display_data"
    },
    {
     "data": {
      "text/html": [
       "<pre>+---------+--------------+-------------------+-----------------------+-------------+</pre>"
      ],
      "text/plain": [
       "+---------+--------------+-------------------+-----------------------+-------------+"
      ]
     },
     "metadata": {},
     "output_type": "display_data"
    },
    {
     "data": {
      "text/html": [
       "<pre>| Iter.   | Elapsed Time | Approx. Objective | Approx. Training RMSE | Step Size   |</pre>"
      ],
      "text/plain": [
       "| Iter.   | Elapsed Time | Approx. Objective | Approx. Training RMSE | Step Size   |"
      ]
     },
     "metadata": {},
     "output_type": "display_data"
    },
    {
     "data": {
      "text/html": [
       "<pre>+---------+--------------+-------------------+-----------------------+-------------+</pre>"
      ],
      "text/plain": [
       "+---------+--------------+-------------------+-----------------------+-------------+"
      ]
     },
     "metadata": {},
     "output_type": "display_data"
    },
    {
     "data": {
      "text/html": [
       "<pre>| Initial | 501us        | 3.00471           | 1.73341               |             |</pre>"
      ],
      "text/plain": [
       "| Initial | 501us        | 3.00471           | 1.73341               |             |"
      ]
     },
     "metadata": {},
     "output_type": "display_data"
    },
    {
     "data": {
      "text/html": [
       "<pre>+---------+--------------+-------------------+-----------------------+-------------+</pre>"
      ],
      "text/plain": [
       "+---------+--------------+-------------------+-----------------------+-------------+"
      ]
     },
     "metadata": {},
     "output_type": "display_data"
    },
    {
     "data": {
      "text/html": [
       "<pre>| 1       | 299.217ms    | 2.36417           | 1.53729               | 0.0488281   |</pre>"
      ],
      "text/plain": [
       "| 1       | 299.217ms    | 2.36417           | 1.53729               | 0.0488281   |"
      ]
     },
     "metadata": {},
     "output_type": "display_data"
    },
    {
     "data": {
      "text/html": [
       "<pre>| 2       | 647.464ms    | 1.90223           | 1.3789                | 0.0290334   |</pre>"
      ],
      "text/plain": [
       "| 2       | 647.464ms    | 1.90223           | 1.3789                | 0.0290334   |"
      ]
     },
     "metadata": {},
     "output_type": "display_data"
    },
    {
     "data": {
      "text/html": [
       "<pre>| 3       | 957.183ms    | 1.5657            | 1.25096               | 0.0214205   |</pre>"
      ],
      "text/plain": [
       "| 3       | 957.183ms    | 1.5657            | 1.25096               | 0.0214205   |"
      ]
     },
     "metadata": {},
     "output_type": "display_data"
    },
    {
     "data": {
      "text/html": [
       "<pre>| 4       | 1.25s        | 1.31147           | 1.14486               | 0.0172633   |</pre>"
      ],
      "text/plain": [
       "| 4       | 1.25s        | 1.31147           | 1.14486               | 0.0172633   |"
      ]
     },
     "metadata": {},
     "output_type": "display_data"
    },
    {
     "data": {
      "text/html": [
       "<pre>| 5       | 1.52s        | 1.11864           | 1.0573                | 0.014603    |</pre>"
      ],
      "text/plain": [
       "| 5       | 1.52s        | 1.11864           | 1.0573                | 0.014603    |"
      ]
     },
     "metadata": {},
     "output_type": "display_data"
    },
    {
     "data": {
      "text/html": [
       "<pre>| 6       | 1.80s        | 0.97308           | 0.986075              | 0.0127367   |</pre>"
      ],
      "text/plain": [
       "| 6       | 1.80s        | 0.97308           | 0.986075              | 0.0127367   |"
      ]
     },
     "metadata": {},
     "output_type": "display_data"
    },
    {
     "data": {
      "text/html": [
       "<pre>| 10      | 3.00s        | 0.655235          | 0.80906               | 0.008683    |</pre>"
      ],
      "text/plain": [
       "| 10      | 3.00s        | 0.655235          | 0.80906               | 0.008683    |"
      ]
     },
     "metadata": {},
     "output_type": "display_data"
    },
    {
     "data": {
      "text/html": [
       "<pre>| 11      | 3.26s        | 0.613489          | 0.782845              | 0.00808399  |</pre>"
      ],
      "text/plain": [
       "| 11      | 3.26s        | 0.613489          | 0.782845              | 0.00808399  |"
      ]
     },
     "metadata": {},
     "output_type": "display_data"
    },
    {
     "data": {
      "text/html": [
       "<pre>| 15      | 4.53s        | 0.51353           | 0.71619               | 0.00640622  |</pre>"
      ],
      "text/plain": [
       "| 15      | 4.53s        | 0.51353           | 0.71619               | 0.00640622  |"
      ]
     },
     "metadata": {},
     "output_type": "display_data"
    },
    {
     "data": {
      "text/html": [
       "<pre>| 20      | 6.15s        | 0.450462          | 0.670741              | 0.00516295  |</pre>"
      ],
      "text/plain": [
       "| 20      | 6.15s        | 0.450462          | 0.670741              | 0.00516295  |"
      ]
     },
     "metadata": {},
     "output_type": "display_data"
    },
    {
     "data": {
      "text/html": [
       "<pre>| 25      | 7.61s        | 0.40096           | 0.632777              | 0.00259682  |</pre>"
      ],
      "text/plain": [
       "| 25      | 7.61s        | 0.40096           | 0.632777              | 0.00259682  |"
      ]
     },
     "metadata": {},
     "output_type": "display_data"
    },
    {
     "data": {
      "text/html": [
       "<pre>| 30      | 8.92s        | 0.389217          | 0.623433              | 0.00226494  |</pre>"
      ],
      "text/plain": [
       "| 30      | 8.92s        | 0.389217          | 0.623433              | 0.00226494  |"
      ]
     },
     "metadata": {},
     "output_type": "display_data"
    },
    {
     "data": {
      "text/html": [
       "<pre>| 35      | 10.27s       | 0.375783          | 0.612568              | 0.00201765  |</pre>"
      ],
      "text/plain": [
       "| 35      | 10.27s       | 0.375783          | 0.612568              | 0.00201765  |"
      ]
     },
     "metadata": {},
     "output_type": "display_data"
    },
    {
     "data": {
      "text/html": [
       "<pre>| 40      | 11.82s       | 0.366694          | 0.605106              | 0.00108538  |</pre>"
      ],
      "text/plain": [
       "| 40      | 11.82s       | 0.366694          | 0.605106              | 0.00108538  |"
      ]
     },
     "metadata": {},
     "output_type": "display_data"
    },
    {
     "data": {
      "text/html": [
       "<pre>| 45      | 13.59s       | 0.360338          | 0.599831              | 0.000590804 |</pre>"
      ],
      "text/plain": [
       "| 45      | 13.59s       | 0.360338          | 0.599831              | 0.000590804 |"
      ]
     },
     "metadata": {},
     "output_type": "display_data"
    },
    {
     "data": {
      "text/html": [
       "<pre>| 50      | 15.18s       | 0.356147          | 0.596328              | 0.00038602  |</pre>"
      ],
      "text/plain": [
       "| 50      | 15.18s       | 0.356147          | 0.596328              | 0.00038602  |"
      ]
     },
     "metadata": {},
     "output_type": "display_data"
    },
    {
     "data": {
      "text/html": [
       "<pre>+---------+--------------+-------------------+-----------------------+-------------+</pre>"
      ],
      "text/plain": [
       "+---------+--------------+-------------------+-----------------------+-------------+"
      ]
     },
     "metadata": {},
     "output_type": "display_data"
    },
    {
     "data": {
      "text/html": [
       "<pre>Optimization Complete: Maximum number of passes through the data reached.</pre>"
      ],
      "text/plain": [
       "Optimization Complete: Maximum number of passes through the data reached."
      ]
     },
     "metadata": {},
     "output_type": "display_data"
    },
    {
     "data": {
      "text/html": [
       "<pre>Computing final objective value and training RMSE.</pre>"
      ],
      "text/plain": [
       "Computing final objective value and training RMSE."
      ]
     },
     "metadata": {},
     "output_type": "display_data"
    },
    {
     "data": {
      "text/html": [
       "<pre>       Final objective value: 0.354329</pre>"
      ],
      "text/plain": [
       "       Final objective value: 0.354329"
      ]
     },
     "metadata": {},
     "output_type": "display_data"
    },
    {
     "data": {
      "text/html": [
       "<pre>       Final training RMSE: 0.594801</pre>"
      ],
      "text/plain": [
       "       Final training RMSE: 0.594801"
      ]
     },
     "metadata": {},
     "output_type": "display_data"
    }
   ],
   "source": [
    "sgd5= gl.recommender.factorization_recommender.create(train,user_id='user_id',item_id='cuisine',target='count', user_data=None,\n",
    "                                                item_data=None,num_factors=5, regularization=1e-08, linear_regularization=1e-10, \n",
    "                                                side_data_factorization=True, nmf=False, binary_target=False, \n",
    "                                                max_iterations=50, sgd_step_size=0, random_seed=0,\n",
    "                                                solver='sgd', verbose=True)"
   ]
  },
  {
   "cell_type": "code",
   "execution_count": 24,
   "metadata": {
    "collapsed": false
   },
   "outputs": [
    {
     "name": "stdout",
     "output_type": "stream",
     "text": [
      "\n",
      "Precision and recall summary statistics by cutoff\n",
      "+--------+-----------------+----------------+\n",
      "| cutoff |  mean_precision |  mean_recall   |\n",
      "+--------+-----------------+----------------+\n",
      "|   1    |  0.247252747253 | 0.184805075877 |\n",
      "|   2    |  0.163461538462 | 0.248155416013 |\n",
      "|   3    |  0.125457875458 | 0.282496075353 |\n",
      "|   4    |  0.105082417582 | 0.314776295133 |\n",
      "|   5    | 0.0934065934066 | 0.352413657771 |\n",
      "|   6    |  0.084706959707 | 0.385609628467 |\n",
      "|   7    | 0.0765306122449 | 0.411708529566 |\n",
      "|   8    | 0.0686813186813 | 0.421781789639 |\n",
      "|   9    | 0.0628815628816 | 0.430873888017 |\n",
      "|   10   | 0.0587912087912 | 0.446624803768 |\n",
      "+--------+-----------------+----------------+\n",
      "[10 rows x 3 columns]\n",
      "\n",
      "('\\nOverall RMSE: ', 2.2776444367147004)\n",
      "\n",
      "Per User RMSE (best)\n",
      "+------------------------+-------+------------------+\n",
      "|        user_id         | count |       rmse       |\n",
      "+------------------------+-------+------------------+\n",
      "| o4YQQznTiVY1ra2PfqM5qw |   1   | 0.00061747628665 |\n",
      "+------------------------+-------+------------------+\n",
      "[1 rows x 3 columns]\n",
      "\n",
      "\n",
      "Per User RMSE (worst)\n",
      "+------------------------+-------+---------------+\n",
      "|        user_id         | count |      rmse     |\n",
      "+------------------------+-------+---------------+\n",
      "| 0Q2QhRuyD_oGodCj__wcvQ |   7   | 17.2125690436 |\n",
      "+------------------------+-------+---------------+\n",
      "[1 rows x 3 columns]\n",
      "\n",
      "\n",
      "Per Item RMSE (best)\n",
      "+---------+-------+-----------------+\n",
      "| cuisine | count |       rmse      |\n",
      "+---------+-------+-----------------+\n",
      "|  Korean |   1   | 0.0227661038616 |\n",
      "+---------+-------+-----------------+\n",
      "[1 rows x 3 columns]\n",
      "\n",
      "\n",
      "Per Item RMSE (worst)\n",
      "+---------+-------+---------------+\n",
      "| cuisine | count |      rmse     |\n",
      "+---------+-------+---------------+\n",
      "|  Cafes  |   17  | 6.64421585319 |\n",
      "+---------+-------+---------------+\n",
      "[1 rows x 3 columns]\n",
      "\n"
     ]
    },
    {
     "data": {
      "text/plain": [
       "{'precision_recall_by_user': Columns:\n",
       " \tuser_id\tstr\n",
       " \tcutoff\tint\n",
       " \tprecision\tfloat\n",
       " \trecall\tfloat\n",
       " \tcount\tint\n",
       " \n",
       " Rows: 6552\n",
       " \n",
       " Data:\n",
       " +------------------------+--------+-----------+--------+-------+\n",
       " |        user_id         | cutoff | precision | recall | count |\n",
       " +------------------------+--------+-----------+--------+-------+\n",
       " | -eLWn4f6YtMbQ0hakpks2w |   1    |    0.0    |  0.0   |   1   |\n",
       " | -eLWn4f6YtMbQ0hakpks2w |   2    |    0.0    |  0.0   |   1   |\n",
       " | -eLWn4f6YtMbQ0hakpks2w |   3    |    0.0    |  0.0   |   1   |\n",
       " | -eLWn4f6YtMbQ0hakpks2w |   4    |    0.0    |  0.0   |   1   |\n",
       " | -eLWn4f6YtMbQ0hakpks2w |   5    |    0.0    |  0.0   |   1   |\n",
       " | -eLWn4f6YtMbQ0hakpks2w |   6    |    0.0    |  0.0   |   1   |\n",
       " | -eLWn4f6YtMbQ0hakpks2w |   7    |    0.0    |  0.0   |   1   |\n",
       " | -eLWn4f6YtMbQ0hakpks2w |   8    |    0.0    |  0.0   |   1   |\n",
       " | -eLWn4f6YtMbQ0hakpks2w |   9    |    0.0    |  0.0   |   1   |\n",
       " | -eLWn4f6YtMbQ0hakpks2w |   10   |    0.0    |  0.0   |   1   |\n",
       " +------------------------+--------+-----------+--------+-------+\n",
       " [6552 rows x 5 columns]\n",
       " Note: Only the head of the SFrame is printed.\n",
       " You can use print_rows(num_rows=m, num_columns=n) to print more rows and columns.,\n",
       " 'precision_recall_overall': Columns:\n",
       " \tcutoff\tint\n",
       " \tprecision\tfloat\n",
       " \trecall\tfloat\n",
       " \n",
       " Rows: 18\n",
       " \n",
       " Data:\n",
       " +--------+-----------------+----------------+\n",
       " | cutoff |    precision    |     recall     |\n",
       " +--------+-----------------+----------------+\n",
       " |   1    |  0.247252747253 | 0.184805075877 |\n",
       " |   2    |  0.163461538462 | 0.248155416013 |\n",
       " |   3    |  0.125457875458 | 0.282496075353 |\n",
       " |   4    |  0.105082417582 | 0.314776295133 |\n",
       " |   5    | 0.0934065934066 | 0.352413657771 |\n",
       " |   6    |  0.084706959707 | 0.385609628467 |\n",
       " |   7    | 0.0765306122449 | 0.411708529566 |\n",
       " |   8    | 0.0686813186813 | 0.421781789639 |\n",
       " |   9    | 0.0628815628816 | 0.430873888017 |\n",
       " |   10   | 0.0587912087912 | 0.446624803768 |\n",
       " +--------+-----------------+----------------+\n",
       " [18 rows x 3 columns]\n",
       " Note: Only the head of the SFrame is printed.\n",
       " You can use print_rows(num_rows=m, num_columns=n) to print more rows and columns.,\n",
       " 'rmse_by_item': Columns:\n",
       " \tcuisine\tstr\n",
       " \tcount\tint\n",
       " \trmse\tfloat\n",
       " \n",
       " Rows: 59\n",
       " \n",
       " Data:\n",
       " +--------------+-------+-----------------+\n",
       " |   cuisine    | count |       rmse      |\n",
       " +--------------+-------+-----------------+\n",
       " | Gluten-Free  |   2   |  0.944259348921 |\n",
       " |  Ethiopian   |   1   |  0.265921905743 |\n",
       " | Fish & Chips |   4   |  0.580942346631 |\n",
       " |   American   |   79  |  4.39400101799  |\n",
       " |  Creperies   |   1   | 0.0243570971169 |\n",
       " |    Diners    |   9   |  0.395867833695 |\n",
       " | Cheesesteaks |   1   |  1.24467265803  |\n",
       " |    French    |   15  |  0.562537991053 |\n",
       " |    Indian    |   3   |  0.480542203653 |\n",
       " |  Gastropubs  |   5   |  0.431013413392 |\n",
       " +--------------+-------+-----------------+\n",
       " [59 rows x 3 columns]\n",
       " Note: Only the head of the SFrame is printed.\n",
       " You can use print_rows(num_rows=m, num_columns=n) to print more rows and columns.,\n",
       " 'rmse_by_user': Columns:\n",
       " \tuser_id\tstr\n",
       " \tcount\tint\n",
       " \trmse\tfloat\n",
       " \n",
       " Rows: 364\n",
       " \n",
       " Data:\n",
       " +------------------------+-------+-----------------+\n",
       " |        user_id         | count |       rmse      |\n",
       " +------------------------+-------+-----------------+\n",
       " | 6BaPhy9N-ZGP1KZw2J9CRQ |   2   |  0.189901634098 |\n",
       " | ah2H8j0WsZ8Zai6mdfGqRg |   6   |  0.945954560846 |\n",
       " | 1HIrykRtavFYnbh83QrnVg |   1   | 0.0402553285339 |\n",
       " | odIGdKmOHssrNxmbb6Al6w |   3   |  0.166390611843 |\n",
       " | 7p2Kva4qP20tNDPlabxwLw |   1   |  0.118279186902 |\n",
       " | Q1lOqbip5AspTHHBJ4VDlA |   1   |  0.268412811788 |\n",
       " | pmH9PIPa4bZnULYYjlgsrw |   1   |  0.114379100395 |\n",
       " | rQ-wm2ZCoPfCQ6bO5fBWew |   1   |  1.36329814989  |\n",
       " | Y6LwLDD_0FVKS_wWXxwrBg |   2   |  0.215774900768 |\n",
       " | nG--zl-nL4iX5vU6TIDh9w |   6   |  1.19695680458  |\n",
       " +------------------------+-------+-----------------+\n",
       " [364 rows x 3 columns]\n",
       " Note: Only the head of the SFrame is printed.\n",
       " You can use print_rows(num_rows=m, num_columns=n) to print more rows and columns.,\n",
       " 'rmse_overall': 2.2776444367147004}"
      ]
     },
     "execution_count": 24,
     "metadata": {},
     "output_type": "execute_result"
    }
   ],
   "source": [
    "sgd5.evaluate(test)"
   ]
  },
  {
   "cell_type": "code",
   "execution_count": 22,
   "metadata": {
    "collapsed": false
   },
   "outputs": [
    {
     "name": "stdout",
     "output_type": "stream",
     "text": [
      "Canvas is accessible via web browser at the URL: http://localhost:58043/index.html\n",
      "Opening Canvas in default web browser.\n"
     ]
    }
   ],
   "source": [
    "sgd5.show()"
   ]
  },
  {
   "cell_type": "code",
   "execution_count": 23,
   "metadata": {
    "collapsed": false
   },
   "outputs": [
    {
     "data": {
      "text/html": [
       "<pre>Recsys training: model = factorization_recommender</pre>"
      ],
      "text/plain": [
       "Recsys training: model = factorization_recommender"
      ]
     },
     "metadata": {},
     "output_type": "display_data"
    },
    {
     "data": {
      "text/html": [
       "<pre>Preparing data set.</pre>"
      ],
      "text/plain": [
       "Preparing data set."
      ]
     },
     "metadata": {},
     "output_type": "display_data"
    },
    {
     "data": {
      "text/html": [
       "<pre>    Data has 1318746 observations with 388493 users and 110 items.</pre>"
      ],
      "text/plain": [
       "    Data has 1318746 observations with 388493 users and 110 items."
      ]
     },
     "metadata": {},
     "output_type": "display_data"
    },
    {
     "data": {
      "text/html": [
       "<pre>    Data prepared in: 4.08691s</pre>"
      ],
      "text/plain": [
       "    Data prepared in: 4.08691s"
      ]
     },
     "metadata": {},
     "output_type": "display_data"
    },
    {
     "data": {
      "text/html": [
       "<pre>Training factorization_recommender for recommendations.</pre>"
      ],
      "text/plain": [
       "Training factorization_recommender for recommendations."
      ]
     },
     "metadata": {},
     "output_type": "display_data"
    },
    {
     "data": {
      "text/html": [
       "<pre>+--------------------------------+--------------------------------------------------+----------+</pre>"
      ],
      "text/plain": [
       "+--------------------------------+--------------------------------------------------+----------+"
      ]
     },
     "metadata": {},
     "output_type": "display_data"
    },
    {
     "data": {
      "text/html": [
       "<pre>| Parameter                      | Description                                      | Value    |</pre>"
      ],
      "text/plain": [
       "| Parameter                      | Description                                      | Value    |"
      ]
     },
     "metadata": {},
     "output_type": "display_data"
    },
    {
     "data": {
      "text/html": [
       "<pre>+--------------------------------+--------------------------------------------------+----------+</pre>"
      ],
      "text/plain": [
       "+--------------------------------+--------------------------------------------------+----------+"
      ]
     },
     "metadata": {},
     "output_type": "display_data"
    },
    {
     "data": {
      "text/html": [
       "<pre>| num_factors                    | Factor Dimension                                 | 50       |</pre>"
      ],
      "text/plain": [
       "| num_factors                    | Factor Dimension                                 | 50       |"
      ]
     },
     "metadata": {},
     "output_type": "display_data"
    },
    {
     "data": {
      "text/html": [
       "<pre>| regularization                 | L2 Regularization on Factors                     | 1e-008   |</pre>"
      ],
      "text/plain": [
       "| regularization                 | L2 Regularization on Factors                     | 1e-008   |"
      ]
     },
     "metadata": {},
     "output_type": "display_data"
    },
    {
     "data": {
      "text/html": [
       "<pre>| solver                         | Solver used for training                         | sgd      |</pre>"
      ],
      "text/plain": [
       "| solver                         | Solver used for training                         | sgd      |"
      ]
     },
     "metadata": {},
     "output_type": "display_data"
    },
    {
     "data": {
      "text/html": [
       "<pre>| linear_regularization          | L2 Regularization on Linear Coefficients         | 1e-010   |</pre>"
      ],
      "text/plain": [
       "| linear_regularization          | L2 Regularization on Linear Coefficients         | 1e-010   |"
      ]
     },
     "metadata": {},
     "output_type": "display_data"
    },
    {
     "data": {
      "text/html": [
       "<pre>| max_iterations                 | Maximum Number of Iterations                     | 50       |</pre>"
      ],
      "text/plain": [
       "| max_iterations                 | Maximum Number of Iterations                     | 50       |"
      ]
     },
     "metadata": {},
     "output_type": "display_data"
    },
    {
     "data": {
      "text/html": [
       "<pre>+--------------------------------+--------------------------------------------------+----------+</pre>"
      ],
      "text/plain": [
       "+--------------------------------+--------------------------------------------------+----------+"
      ]
     },
     "metadata": {},
     "output_type": "display_data"
    },
    {
     "data": {
      "text/html": [
       "<pre>  Optimizing model using SGD; tuning step size.</pre>"
      ],
      "text/plain": [
       "  Optimizing model using SGD; tuning step size."
      ]
     },
     "metadata": {},
     "output_type": "display_data"
    },
    {
     "data": {
      "text/html": [
       "<pre>  Using 164843 / 1318746 points for tuning the step size.</pre>"
      ],
      "text/plain": [
       "  Using 164843 / 1318746 points for tuning the step size."
      ]
     },
     "metadata": {},
     "output_type": "display_data"
    },
    {
     "data": {
      "text/html": [
       "<pre>+---------+-------------------+------------------------------------------+</pre>"
      ],
      "text/plain": [
       "+---------+-------------------+------------------------------------------+"
      ]
     },
     "metadata": {},
     "output_type": "display_data"
    },
    {
     "data": {
      "text/html": [
       "<pre>| Attempt | Initial Step Size | Estimated Objective Value                |</pre>"
      ],
      "text/plain": [
       "| Attempt | Initial Step Size | Estimated Objective Value                |"
      ]
     },
     "metadata": {},
     "output_type": "display_data"
    },
    {
     "data": {
      "text/html": [
       "<pre>+---------+-------------------+------------------------------------------+</pre>"
      ],
      "text/plain": [
       "+---------+-------------------+------------------------------------------+"
      ]
     },
     "metadata": {},
     "output_type": "display_data"
    },
    {
     "data": {
      "text/html": [
       "<pre>| 0       | 25                | Not Viable                               |</pre>"
      ],
      "text/plain": [
       "| 0       | 25                | Not Viable                               |"
      ]
     },
     "metadata": {},
     "output_type": "display_data"
    },
    {
     "data": {
      "text/html": [
       "<pre>| 1       | 6.25              | Not Viable                               |</pre>"
      ],
      "text/plain": [
       "| 1       | 6.25              | Not Viable                               |"
      ]
     },
     "metadata": {},
     "output_type": "display_data"
    },
    {
     "data": {
      "text/html": [
       "<pre>| 2       | 1.5625            | Not Viable                               |</pre>"
      ],
      "text/plain": [
       "| 2       | 1.5625            | Not Viable                               |"
      ]
     },
     "metadata": {},
     "output_type": "display_data"
    },
    {
     "data": {
      "text/html": [
       "<pre>| 3       | 0.390625          | Not Viable                               |</pre>"
      ],
      "text/plain": [
       "| 3       | 0.390625          | Not Viable                               |"
      ]
     },
     "metadata": {},
     "output_type": "display_data"
    },
    {
     "data": {
      "text/html": [
       "<pre>| 4       | 0.0976562         | Not Viable                               |</pre>"
      ],
      "text/plain": [
       "| 4       | 0.0976562         | Not Viable                               |"
      ]
     },
     "metadata": {},
     "output_type": "display_data"
    },
    {
     "data": {
      "text/html": [
       "<pre>| 5       | 0.0244141         | No Decrease (143.482 >= 61.4451)         |</pre>"
      ],
      "text/plain": [
       "| 5       | 0.0244141         | No Decrease (143.482 >= 61.4451)         |"
      ]
     },
     "metadata": {},
     "output_type": "display_data"
    },
    {
     "data": {
      "text/html": [
       "<pre>| 6       | 0.00610352        | 0.827578                                 |</pre>"
      ],
      "text/plain": [
       "| 6       | 0.00610352        | 0.827578                                 |"
      ]
     },
     "metadata": {},
     "output_type": "display_data"
    },
    {
     "data": {
      "text/html": [
       "<pre>| 7       | 0.00305176        | 1.43947                                  |</pre>"
      ],
      "text/plain": [
       "| 7       | 0.00305176        | 1.43947                                  |"
      ]
     },
     "metadata": {},
     "output_type": "display_data"
    },
    {
     "data": {
      "text/html": [
       "<pre>| 8       | 0.00152588        | 3.50939                                  |</pre>"
      ],
      "text/plain": [
       "| 8       | 0.00152588        | 3.50939                                  |"
      ]
     },
     "metadata": {},
     "output_type": "display_data"
    },
    {
     "data": {
      "text/html": [
       "<pre>+---------+-------------------+------------------------------------------+</pre>"
      ],
      "text/plain": [
       "+---------+-------------------+------------------------------------------+"
      ]
     },
     "metadata": {},
     "output_type": "display_data"
    },
    {
     "data": {
      "text/html": [
       "<pre>| Final   | 0.00610352        | 0.827578                                 |</pre>"
      ],
      "text/plain": [
       "| Final   | 0.00610352        | 0.827578                                 |"
      ]
     },
     "metadata": {},
     "output_type": "display_data"
    },
    {
     "data": {
      "text/html": [
       "<pre>+---------+-------------------+------------------------------------------+</pre>"
      ],
      "text/plain": [
       "+---------+-------------------+------------------------------------------+"
      ]
     },
     "metadata": {},
     "output_type": "display_data"
    },
    {
     "data": {
      "text/html": [
       "<pre>Starting Optimization.</pre>"
      ],
      "text/plain": [
       "Starting Optimization."
      ]
     },
     "metadata": {},
     "output_type": "display_data"
    },
    {
     "data": {
      "text/html": [
       "<pre>+---------+--------------+-------------------+-----------------------+-------------+</pre>"
      ],
      "text/plain": [
       "+---------+--------------+-------------------+-----------------------+-------------+"
      ]
     },
     "metadata": {},
     "output_type": "display_data"
    },
    {
     "data": {
      "text/html": [
       "<pre>| Iter.   | Elapsed Time | Approx. Objective | Approx. Training RMSE | Step Size   |</pre>"
      ],
      "text/plain": [
       "| Iter.   | Elapsed Time | Approx. Objective | Approx. Training RMSE | Step Size   |"
      ]
     },
     "metadata": {},
     "output_type": "display_data"
    },
    {
     "data": {
      "text/html": [
       "<pre>+---------+--------------+-------------------+-----------------------+-------------+</pre>"
      ],
      "text/plain": [
       "+---------+--------------+-------------------+-----------------------+-------------+"
      ]
     },
     "metadata": {},
     "output_type": "display_data"
    },
    {
     "data": {
      "text/html": [
       "<pre>| Initial | 0us          | 60.5624           | 7.78219               |             |</pre>"
      ],
      "text/plain": [
       "| Initial | 0us          | 60.5624           | 7.78219               |             |"
      ]
     },
     "metadata": {},
     "output_type": "display_data"
    },
    {
     "data": {
      "text/html": [
       "<pre>+---------+--------------+-------------------+-----------------------+-------------+</pre>"
      ],
      "text/plain": [
       "+---------+--------------+-------------------+-----------------------+-------------+"
      ]
     },
     "metadata": {},
     "output_type": "display_data"
    },
    {
     "data": {
      "text/html": [
       "<pre>| 1       | 1.68s        | 4.24609           | 2.06053               | 0.00610352  |</pre>"
      ],
      "text/plain": [
       "| 1       | 1.68s        | 4.24609           | 2.06053               | 0.00610352  |"
      ]
     },
     "metadata": {},
     "output_type": "display_data"
    },
    {
     "data": {
      "text/html": [
       "<pre>| 2       | 2.96s        | 0.626349          | 0.791235              | 0.00362917  |</pre>"
      ],
      "text/plain": [
       "| 2       | 2.96s        | 0.626349          | 0.791235              | 0.00362917  |"
      ]
     },
     "metadata": {},
     "output_type": "display_data"
    },
    {
     "data": {
      "text/html": [
       "<pre>| 3       | 4.01s        | 0.15908           | 0.398475              | 0.00267756  |</pre>"
      ],
      "text/plain": [
       "| 3       | 4.01s        | 0.15908           | 0.398475              | 0.00267756  |"
      ]
     },
     "metadata": {},
     "output_type": "display_data"
    },
    {
     "data": {
      "text/html": [
       "<pre>| 4       | 5.14s        | 0.0765433         | 0.276125              | 0.00215792  |</pre>"
      ],
      "text/plain": [
       "| 4       | 5.14s        | 0.0765433         | 0.276125              | 0.00215792  |"
      ]
     },
     "metadata": {},
     "output_type": "display_data"
    },
    {
     "data": {
      "text/html": [
       "<pre>| 5       | 6.22s        | 0.0510124         | 0.225195              | 0.00182538  |</pre>"
      ],
      "text/plain": [
       "| 5       | 6.22s        | 0.0510124         | 0.225195              | 0.00182538  |"
      ]
     },
     "metadata": {},
     "output_type": "display_data"
    },
    {
     "data": {
      "text/html": [
       "<pre>| 6       | 7.31s        | 0.0397773         | 0.198687              | 0.00159209  |</pre>"
      ],
      "text/plain": [
       "| 6       | 7.31s        | 0.0397773         | 0.198687              | 0.00159209  |"
      ]
     },
     "metadata": {},
     "output_type": "display_data"
    },
    {
     "data": {
      "text/html": [
       "<pre>| 7       | 8.38s        | 0.0320369         | 0.178144              | 0.00141826  |</pre>"
      ],
      "text/plain": [
       "| 7       | 8.38s        | 0.0320369         | 0.178144              | 0.00141826  |"
      ]
     },
     "metadata": {},
     "output_type": "display_data"
    },
    {
     "data": {
      "text/html": [
       "<pre>| 8       | 9.62s        | 0.0280058         | 0.166442              | 0.00128311  |</pre>"
      ],
      "text/plain": [
       "| 8       | 9.62s        | 0.0280058         | 0.166442              | 0.00128311  |"
      ]
     },
     "metadata": {},
     "output_type": "display_data"
    },
    {
     "data": {
      "text/html": [
       "<pre>| 9       | 10.66s       | 0.0249086         | 0.15686               | 0.00117462  |</pre>"
      ],
      "text/plain": [
       "| 9       | 10.66s       | 0.0249086         | 0.15686               | 0.00117462  |"
      ]
     },
     "metadata": {},
     "output_type": "display_data"
    },
    {
     "data": {
      "text/html": [
       "<pre>| 10      | 11.69s       | 0.0213799         | 0.145175              | 0.00108538  |</pre>"
      ],
      "text/plain": [
       "| 10      | 11.69s       | 0.0213799         | 0.145175              | 0.00108538  |"
      ]
     },
     "metadata": {},
     "output_type": "display_data"
    },
    {
     "data": {
      "text/html": [
       "<pre>| 11      | 12.51s       | 0.0196534         | 0.1391                | 0.0010105   |</pre>"
      ],
      "text/plain": [
       "| 11      | 12.51s       | 0.0196534         | 0.1391                | 0.0010105   |"
      ]
     },
     "metadata": {},
     "output_type": "display_data"
    },
    {
     "data": {
      "text/html": [
       "<pre>| 12      | 13.27s       | 0.0181191         | 0.13347               | 0.00094666  |</pre>"
      ],
      "text/plain": [
       "| 12      | 13.27s       | 0.0181191         | 0.13347               | 0.00094666  |"
      ]
     },
     "metadata": {},
     "output_type": "display_data"
    },
    {
     "data": {
      "text/html": [
       "<pre>| 13      | 14.16s       | 0.0167893         | 0.12839               | 0.000891502 |</pre>"
      ],
      "text/plain": [
       "| 13      | 14.16s       | 0.0167893         | 0.12839               | 0.000891502 |"
      ]
     },
     "metadata": {},
     "output_type": "display_data"
    },
    {
     "data": {
      "text/html": [
       "<pre>| 14      | 15.21s       | 0.0155523         | 0.123478              | 0.000843304 |</pre>"
      ],
      "text/plain": [
       "| 14      | 15.21s       | 0.0155523         | 0.123478              | 0.000843304 |"
      ]
     },
     "metadata": {},
     "output_type": "display_data"
    },
    {
     "data": {
      "text/html": [
       "<pre>| 15      | 15.89s       | 0.014853          | 0.120611              | 0.000800777 |</pre>"
      ],
      "text/plain": [
       "| 15      | 15.89s       | 0.014853          | 0.120611              | 0.000800777 |"
      ]
     },
     "metadata": {},
     "output_type": "display_data"
    },
    {
     "data": {
      "text/html": [
       "<pre>| 16      | 16.93s       | 0.0139892         | 0.116974              | 0.000762939 |</pre>"
      ],
      "text/plain": [
       "| 16      | 16.93s       | 0.0139892         | 0.116974              | 0.000762939 |"
      ]
     },
     "metadata": {},
     "output_type": "display_data"
    },
    {
     "data": {
      "text/html": [
       "<pre>| 17      | 18.00s       | 0.0133484         | 0.114202              | 0.000729027 |</pre>"
      ],
      "text/plain": [
       "| 17      | 18.00s       | 0.0133484         | 0.114202              | 0.000729027 |"
      ]
     },
     "metadata": {},
     "output_type": "display_data"
    },
    {
     "data": {
      "text/html": [
       "<pre>| 18      | 19.04s       | 0.0125668         | 0.110725              | 0.000698434 |</pre>"
      ],
      "text/plain": [
       "| 18      | 19.04s       | 0.0125668         | 0.110725              | 0.000698434 |"
      ]
     },
     "metadata": {},
     "output_type": "display_data"
    },
    {
     "data": {
      "text/html": [
       "<pre>| 19      | 20.69s       | 0.0120697         | 0.108457              | 0.000670679 |</pre>"
      ],
      "text/plain": [
       "| 19      | 20.69s       | 0.0120697         | 0.108457              | 0.000670679 |"
      ]
     },
     "metadata": {},
     "output_type": "display_data"
    },
    {
     "data": {
      "text/html": [
       "<pre>| 20      | 22.12s       | 0.0116303         | 0.10641               | 0.000645368 |</pre>"
      ],
      "text/plain": [
       "| 20      | 22.12s       | 0.0116303         | 0.10641               | 0.000645368 |"
      ]
     },
     "metadata": {},
     "output_type": "display_data"
    },
    {
     "data": {
      "text/html": [
       "<pre>| 21      | 23.14s       | 0.0112331         | 0.104527              | 0.000622179 |</pre>"
      ],
      "text/plain": [
       "| 21      | 23.14s       | 0.0112331         | 0.104527              | 0.000622179 |"
      ]
     },
     "metadata": {},
     "output_type": "display_data"
    },
    {
     "data": {
      "text/html": [
       "<pre>| 22      | 24.10s       | 0.0107832         | 0.102352              | 0.000600846 |</pre>"
      ],
      "text/plain": [
       "| 22      | 24.10s       | 0.0107832         | 0.102352              | 0.000600846 |"
      ]
     },
     "metadata": {},
     "output_type": "display_data"
    },
    {
     "data": {
      "text/html": [
       "<pre>| 23      | 25.45s       | 0.010483          | 0.100873              | 0.000581145 |</pre>"
      ],
      "text/plain": [
       "| 23      | 25.45s       | 0.010483          | 0.100873              | 0.000581145 |"
      ]
     },
     "metadata": {},
     "output_type": "display_data"
    },
    {
     "data": {
      "text/html": [
       "<pre>| 24      | 26.51s       | 0.0101336         | 0.0991257             | 0.000562888 |</pre>"
      ],
      "text/plain": [
       "| 24      | 26.51s       | 0.0101336         | 0.0991257             | 0.000562888 |"
      ]
     },
     "metadata": {},
     "output_type": "display_data"
    },
    {
     "data": {
      "text/html": [
       "<pre>| 25      | 27.37s       | 0.00985576        | 0.0977135             | 0.000545915 |</pre>"
      ],
      "text/plain": [
       "| 25      | 27.37s       | 0.00985576        | 0.0977135             | 0.000545915 |"
      ]
     },
     "metadata": {},
     "output_type": "display_data"
    },
    {
     "data": {
      "text/html": [
       "<pre>| 26      | 28.41s       | 0.00954465        | 0.0961077             | 0.000530091 |</pre>"
      ],
      "text/plain": [
       "| 26      | 28.41s       | 0.00954465        | 0.0961077             | 0.000530091 |"
      ]
     },
     "metadata": {},
     "output_type": "display_data"
    },
    {
     "data": {
      "text/html": [
       "<pre>| 27      | 29.95s       | 0.00930357        | 0.0948445             | 0.000515297 |</pre>"
      ],
      "text/plain": [
       "| 27      | 29.95s       | 0.00930357        | 0.0948445             | 0.000515297 |"
      ]
     },
     "metadata": {},
     "output_type": "display_data"
    },
    {
     "data": {
      "text/html": [
       "<pre>| 28      | 30.95s       | 0.00910649        | 0.0937992             | 0.000501431 |</pre>"
      ],
      "text/plain": [
       "| 28      | 30.95s       | 0.00910649        | 0.0937992             | 0.000501431 |"
      ]
     },
     "metadata": {},
     "output_type": "display_data"
    },
    {
     "data": {
      "text/html": [
       "<pre>| 29      | 32.33s       | 0.00884894        | 0.0924155             | 0.000488407 |</pre>"
      ],
      "text/plain": [
       "| 29      | 32.33s       | 0.00884894        | 0.0924155             | 0.000488407 |"
      ]
     },
     "metadata": {},
     "output_type": "display_data"
    },
    {
     "data": {
      "text/html": [
       "<pre>| 30      | 33.58s       | 0.00866365        | 0.0914069             | 0.000476145 |</pre>"
      ],
      "text/plain": [
       "| 30      | 33.58s       | 0.00866365        | 0.0914069             | 0.000476145 |"
      ]
     },
     "metadata": {},
     "output_type": "display_data"
    },
    {
     "data": {
      "text/html": [
       "<pre>| 31      | 34.74s       | 0.00845625        | 0.0902647             | 0.000464578 |</pre>"
      ],
      "text/plain": [
       "| 31      | 34.74s       | 0.00845625        | 0.0902647             | 0.000464578 |"
      ]
     },
     "metadata": {},
     "output_type": "display_data"
    },
    {
     "data": {
      "text/html": [
       "<pre>| 32      | 35.32s       | 0.0082864         | 0.0893184             | 0.000453647 |</pre>"
      ],
      "text/plain": [
       "| 32      | 35.32s       | 0.0082864         | 0.0893184             | 0.000453647 |"
      ]
     },
     "metadata": {},
     "output_type": "display_data"
    },
    {
     "data": {
      "text/html": [
       "<pre>| 33      | 35.90s       | 0.00810066        | 0.0882721             | 0.000443297 |</pre>"
      ],
      "text/plain": [
       "| 33      | 35.90s       | 0.00810066        | 0.0882721             | 0.000443297 |"
      ]
     },
     "metadata": {},
     "output_type": "display_data"
    },
    {
     "data": {
      "text/html": [
       "<pre>| 34      | 36.44s       | 0.00794708        | 0.0873973             | 0.000433482 |</pre>"
      ],
      "text/plain": [
       "| 34      | 36.44s       | 0.00794708        | 0.0873973             | 0.000433482 |"
      ]
     },
     "metadata": {},
     "output_type": "display_data"
    },
    {
     "data": {
      "text/html": [
       "<pre>| 35      | 37.01s       | 0.00776222        | 0.0863327             | 0.000424159 |</pre>"
      ],
      "text/plain": [
       "| 35      | 37.01s       | 0.00776222        | 0.0863327             | 0.000424159 |"
      ]
     },
     "metadata": {},
     "output_type": "display_data"
    },
    {
     "data": {
      "text/html": [
       "<pre>| 36      | 37.58s       | 0.00766454        | 0.0857647             | 0.000415292 |</pre>"
      ],
      "text/plain": [
       "| 36      | 37.58s       | 0.00766454        | 0.0857647             | 0.000415292 |"
      ]
     },
     "metadata": {},
     "output_type": "display_data"
    },
    {
     "data": {
      "text/html": [
       "<pre>| 37      | 38.13s       | 0.00750066        | 0.0848034             | 0.000406845 |</pre>"
      ],
      "text/plain": [
       "| 37      | 38.13s       | 0.00750066        | 0.0848034             | 0.000406845 |"
      ]
     },
     "metadata": {},
     "output_type": "display_data"
    },
    {
     "data": {
      "text/html": [
       "<pre>| 38      | 38.70s       | 0.00738609        | 0.0841248             | 0.000398788 |</pre>"
      ],
      "text/plain": [
       "| 38      | 38.70s       | 0.00738609        | 0.0841248             | 0.000398788 |"
      ]
     },
     "metadata": {},
     "output_type": "display_data"
    },
    {
     "data": {
      "text/html": [
       "<pre>| 39      | 39.28s       | 0.00725112        | 0.0833183             | 0.000391094 |</pre>"
      ],
      "text/plain": [
       "| 39      | 39.28s       | 0.00725112        | 0.0833183             | 0.000391094 |"
      ]
     },
     "metadata": {},
     "output_type": "display_data"
    },
    {
     "data": {
      "text/html": [
       "<pre>| 40      | 39.88s       | 0.00712661        | 0.0825673             | 0.000383738 |</pre>"
      ],
      "text/plain": [
       "| 40      | 39.88s       | 0.00712661        | 0.0825673             | 0.000383738 |"
      ]
     },
     "metadata": {},
     "output_type": "display_data"
    },
    {
     "data": {
      "text/html": [
       "<pre>| 41      | 40.44s       | 0.00702404        | 0.0819434             | 0.000376697 |</pre>"
      ],
      "text/plain": [
       "| 41      | 40.44s       | 0.00702404        | 0.0819434             | 0.000376697 |"
      ]
     },
     "metadata": {},
     "output_type": "display_data"
    },
    {
     "data": {
      "text/html": [
       "<pre>| 42      | 41.12s       | 0.00692055        | 0.0813091             | 0.00036995  |</pre>"
      ],
      "text/plain": [
       "| 42      | 41.12s       | 0.00692055        | 0.0813091             | 0.00036995  |"
      ]
     },
     "metadata": {},
     "output_type": "display_data"
    },
    {
     "data": {
      "text/html": [
       "<pre>| 43      | 41.93s       | 0.00680621        | 0.0806025             | 0.000363478 |</pre>"
      ],
      "text/plain": [
       "| 43      | 41.93s       | 0.00680621        | 0.0806025             | 0.000363478 |"
      ]
     },
     "metadata": {},
     "output_type": "display_data"
    },
    {
     "data": {
      "text/html": [
       "<pre>| 44      | 42.67s       | 0.00670511        | 0.0799725             | 0.000357265 |</pre>"
      ],
      "text/plain": [
       "| 44      | 42.67s       | 0.00670511        | 0.0799725             | 0.000357265 |"
      ]
     },
     "metadata": {},
     "output_type": "display_data"
    },
    {
     "data": {
      "text/html": [
       "<pre>| 45      | 43.33s       | 0.00661672        | 0.0794176             | 0.000351294 |</pre>"
      ],
      "text/plain": [
       "| 45      | 43.33s       | 0.00661672        | 0.0794176             | 0.000351294 |"
      ]
     },
     "metadata": {},
     "output_type": "display_data"
    },
    {
     "data": {
      "text/html": [
       "<pre>| 46      | 44.07s       | 0.00652013        | 0.0788068             | 0.000345551 |</pre>"
      ],
      "text/plain": [
       "| 46      | 44.07s       | 0.00652013        | 0.0788068             | 0.000345551 |"
      ]
     },
     "metadata": {},
     "output_type": "display_data"
    },
    {
     "data": {
      "text/html": [
       "<pre>| 47      | 45.28s       | 0.00642788        | 0.078219              | 0.000340022 |</pre>"
      ],
      "text/plain": [
       "| 47      | 45.28s       | 0.00642788        | 0.078219              | 0.000340022 |"
      ]
     },
     "metadata": {},
     "output_type": "display_data"
    },
    {
     "data": {
      "text/html": [
       "<pre>| 48      | 46.05s       | 0.00633323        | 0.0776112             | 0.000334695 |</pre>"
      ],
      "text/plain": [
       "| 48      | 46.05s       | 0.00633323        | 0.0776112             | 0.000334695 |"
      ]
     },
     "metadata": {},
     "output_type": "display_data"
    },
    {
     "data": {
      "text/html": [
       "<pre>| 49      | 46.96s       | 0.00625685        | 0.0771172             | 0.000329559 |</pre>"
      ],
      "text/plain": [
       "| 49      | 46.96s       | 0.00625685        | 0.0771172             | 0.000329559 |"
      ]
     },
     "metadata": {},
     "output_type": "display_data"
    },
    {
     "data": {
      "text/html": [
       "<pre>| 50      | 47.72s       | 0.0061835         | 0.0766399             | 0.000324603 |</pre>"
      ],
      "text/plain": [
       "| 50      | 47.72s       | 0.0061835         | 0.0766399             | 0.000324603 |"
      ]
     },
     "metadata": {},
     "output_type": "display_data"
    },
    {
     "data": {
      "text/html": [
       "<pre>+---------+--------------+-------------------+-----------------------+-------------+</pre>"
      ],
      "text/plain": [
       "+---------+--------------+-------------------+-----------------------+-------------+"
      ]
     },
     "metadata": {},
     "output_type": "display_data"
    },
    {
     "data": {
      "text/html": [
       "<pre>Optimization Complete: Maximum number of passes through the data reached.</pre>"
      ],
      "text/plain": [
       "Optimization Complete: Maximum number of passes through the data reached."
      ]
     },
     "metadata": {},
     "output_type": "display_data"
    },
    {
     "data": {
      "text/html": [
       "<pre>Computing final objective value and training RMSE.</pre>"
      ],
      "text/plain": [
       "Computing final objective value and training RMSE."
      ]
     },
     "metadata": {},
     "output_type": "display_data"
    },
    {
     "data": {
      "text/html": [
       "<pre>       Final objective value: 0.00611312</pre>"
      ],
      "text/plain": [
       "       Final objective value: 0.00611312"
      ]
     },
     "metadata": {},
     "output_type": "display_data"
    },
    {
     "data": {
      "text/html": [
       "<pre>       Final training RMSE: 0.0761793</pre>"
      ],
      "text/plain": [
       "       Final training RMSE: 0.0761793"
      ]
     },
     "metadata": {},
     "output_type": "display_data"
    }
   ],
   "source": [
    "sgd50= gl.recommender.factorization_recommender.create(train,user_id='user_id',item_id='cuisine',target='count', user_data=None,\n",
    "                                                item_data=None,num_factors=50, regularization=1e-08, linear_regularization=1e-10, \n",
    "                                                side_data_factorization=True, nmf=False, binary_target=False, \n",
    "                                                max_iterations=50, sgd_step_size=0, random_seed=0,\n",
    "                                                solver='sgd', verbose=True)"
   ]
  },
  {
   "cell_type": "code",
   "execution_count": 24,
   "metadata": {
    "collapsed": false
   },
   "outputs": [
    {
     "name": "stdout",
     "output_type": "stream",
     "text": [
      "\n",
      "Precision and recall summary statistics by cutoff\n",
      "+--------+------------------+------------------+\n",
      "| cutoff |  mean_precision  |   mean_recall    |\n",
      "+--------+------------------+------------------+\n",
      "|   1    |       0.0        |       0.0        |\n",
      "|   2    |       0.0        |       0.0        |\n",
      "|   3    |       0.0        |       0.0        |\n",
      "|   4    | 0.0034435261708  | 0.00399449035813 |\n",
      "|   5    | 0.00330578512397 | 0.00454545454545 |\n",
      "|   6    | 0.00321395775941 |  0.005463728191  |\n",
      "|   7    | 0.00314836678473 | 0.00569329660239 |\n",
      "|   8    | 0.00482093663912 | 0.0138429752066  |\n",
      "|   9    |  0.016835016835  |  0.110515583644  |\n",
      "|   10   | 0.0162534435262  |  0.119009614865  |\n",
      "+--------+------------------+------------------+\n",
      "[10 rows x 3 columns]\n",
      "\n",
      "('\\nOverall RMSE: ', 0.4132074217315325)\n",
      "\n",
      "Per User RMSE (best)\n",
      "+------------------------+-------+-------------------+\n",
      "|        user_id         | count |        rmse       |\n",
      "+------------------------+-------+-------------------+\n",
      "| ELHP8D0bI4MZmbWDqSSTVw |   1   | 4.76509664749e-06 |\n",
      "+------------------------+-------+-------------------+\n",
      "[1 rows x 3 columns]\n",
      "\n",
      "\n",
      "Per User RMSE (worst)\n",
      "+------------------------+-------+---------------+\n",
      "|        user_id         | count |      rmse     |\n",
      "+------------------------+-------+---------------+\n",
      "| kTKbyQDi1eTv3w_XDvTRsg |   2   | 1.28961885878 |\n",
      "+------------------------+-------+---------------+\n",
      "[1 rows x 3 columns]\n",
      "\n",
      "\n",
      "Per Item RMSE (best)\n",
      "+--------------+-------+-----------------+\n",
      "|   cuisine    | count |       rmse      |\n",
      "+--------------+-------+-----------------+\n",
      "| Comfort Food |   1   | 0.0329719422014 |\n",
      "+--------------+-------+-----------------+\n",
      "[1 rows x 3 columns]\n",
      "\n",
      "\n",
      "Per Item RMSE (worst)\n",
      "+----------+-------+----------------+\n",
      "| cuisine  | count |      rmse      |\n",
      "+----------+-------+----------------+\n",
      "| American |  126  | 0.590737797112 |\n",
      "+----------+-------+----------------+\n",
      "[1 rows x 3 columns]\n",
      "\n"
     ]
    },
    {
     "data": {
      "text/plain": [
       "{'precision_recall_by_user': Columns:\n",
       " \tuser_id\tstr\n",
       " \tcutoff\tint\n",
       " \tprecision\tfloat\n",
       " \trecall\tfloat\n",
       " \tcount\tint\n",
       " \n",
       " Rows: 6534\n",
       " \n",
       " Data:\n",
       " +------------------------+--------+-----------+--------+-------+\n",
       " |        user_id         | cutoff | precision | recall | count |\n",
       " +------------------------+--------+-----------+--------+-------+\n",
       " | -0stzn_U5HE0pkIaU1YKPA |   1    |    0.0    |  0.0   |   1   |\n",
       " | -0stzn_U5HE0pkIaU1YKPA |   2    |    0.0    |  0.0   |   1   |\n",
       " | -0stzn_U5HE0pkIaU1YKPA |   3    |    0.0    |  0.0   |   1   |\n",
       " | -0stzn_U5HE0pkIaU1YKPA |   4    |    0.0    |  0.0   |   1   |\n",
       " | -0stzn_U5HE0pkIaU1YKPA |   5    |    0.0    |  0.0   |   1   |\n",
       " | -0stzn_U5HE0pkIaU1YKPA |   6    |    0.0    |  0.0   |   1   |\n",
       " | -0stzn_U5HE0pkIaU1YKPA |   7    |    0.0    |  0.0   |   1   |\n",
       " | -0stzn_U5HE0pkIaU1YKPA |   8    |    0.0    |  0.0   |   1   |\n",
       " | -0stzn_U5HE0pkIaU1YKPA |   9    |    0.0    |  0.0   |   1   |\n",
       " | -0stzn_U5HE0pkIaU1YKPA |   10   |    0.0    |  0.0   |   1   |\n",
       " +------------------------+--------+-----------+--------+-------+\n",
       " [6534 rows x 5 columns]\n",
       " Note: Only the head of the SFrame is printed.\n",
       " You can use print_rows(num_rows=m, num_columns=n) to print more rows and columns.,\n",
       " 'precision_recall_overall': Columns:\n",
       " \tcutoff\tint\n",
       " \tprecision\tfloat\n",
       " \trecall\tfloat\n",
       " \n",
       " Rows: 18\n",
       " \n",
       " Data:\n",
       " +--------+------------------+------------------+\n",
       " | cutoff |    precision     |      recall      |\n",
       " +--------+------------------+------------------+\n",
       " |   1    |       0.0        |       0.0        |\n",
       " |   2    |       0.0        |       0.0        |\n",
       " |   3    |       0.0        |       0.0        |\n",
       " |   4    | 0.0034435261708  | 0.00399449035813 |\n",
       " |   5    | 0.00330578512397 | 0.00454545454545 |\n",
       " |   6    | 0.00321395775941 |  0.005463728191  |\n",
       " |   7    | 0.00314836678473 | 0.00569329660239 |\n",
       " |   8    | 0.00482093663912 | 0.0138429752066  |\n",
       " |   9    |  0.016835016835  |  0.110515583644  |\n",
       " |   10   | 0.0162534435262  |  0.119009614865  |\n",
       " +--------+------------------+------------------+\n",
       " [18 rows x 3 columns]\n",
       " Note: Only the head of the SFrame is printed.\n",
       " You can use print_rows(num_rows=m, num_columns=n) to print more rows and columns.,\n",
       " 'rmse_by_item': Columns:\n",
       " \tcuisine\tstr\n",
       " \tcount\tint\n",
       " \trmse\tfloat\n",
       " \n",
       " Rows: 52\n",
       " \n",
       " Data:\n",
       " +--------------+-------+-----------------+\n",
       " |   cuisine    | count |       rmse      |\n",
       " +--------------+-------+-----------------+\n",
       " | Gluten-Free  |   5   |  0.356751288454 |\n",
       " | Fish & Chips |   3   |  0.134472802226 |\n",
       " |   American   |  126  |  0.590737797112 |\n",
       " |  Creperies   |   4   | 0.0449837395162 |\n",
       " |    Diners    |   14  |  0.208115253487 |\n",
       " |    French    |   23  |  0.345211495849 |\n",
       " |    Indian    |   8   |  0.488093443518 |\n",
       " |  Gastropubs  |   1   | 0.0662400200825 |\n",
       " | Comfort Food |   1   | 0.0329719422014 |\n",
       " |  Vietnamese  |   12  | 0.0932315238614 |\n",
       " +--------------+-------+-----------------+\n",
       " [52 rows x 3 columns]\n",
       " Note: Only the head of the SFrame is printed.\n",
       " You can use print_rows(num_rows=m, num_columns=n) to print more rows and columns.,\n",
       " 'rmse_by_user': Columns:\n",
       " \tuser_id\tstr\n",
       " \tcount\tint\n",
       " \trmse\tfloat\n",
       " \n",
       " Rows: 363\n",
       " \n",
       " Data:\n",
       " +------------------------+-------+-----------------+\n",
       " |        user_id         | count |       rmse      |\n",
       " +------------------------+-------+-----------------+\n",
       " | kawMP6ol1-0GV0zZ5Hc4_Q |   1   |  0.189359612749 |\n",
       " | G-nZejeOVCsFf_24X6O5zQ |   1   |  0.073527726331 |\n",
       " | POIQTjImAM5UJNs4UwwfIg |   1   |  0.499970186488 |\n",
       " | pgeEbaCXfJ0wjkLhBXbfIQ |   1   |  0.894873209284 |\n",
       " | 8zEzoBUcXlQT2MyuJ3_gqg |   1   | 0.0717049399253 |\n",
       " | DJEMTgcPO5O6qQA1eWNLSw |   8   | 0.0381624553995 |\n",
       " | mM_3t4fKL88m7Wl-gL6dgA |   1   |  0.894873209284 |\n",
       " | QQ_OOsiVUWIxuNVRW4UulQ |   1   | 0.0783014516208 |\n",
       " | al3JcGfJ1dY0bVsj5wtFMg |   1   |  0.189359612749 |\n",
       " | v7DhXiCP4_-fQiHDBvLHjA |   2   |  0.923280029571 |\n",
       " +------------------------+-------+-----------------+\n",
       " [363 rows x 3 columns]\n",
       " Note: Only the head of the SFrame is printed.\n",
       " You can use print_rows(num_rows=m, num_columns=n) to print more rows and columns.,\n",
       " 'rmse_overall': 0.4132074217315325}"
      ]
     },
     "execution_count": 24,
     "metadata": {},
     "output_type": "execute_result"
    }
   ],
   "source": [
    "sgd50.evaluate(test)"
   ]
  },
  {
   "cell_type": "code",
   "execution_count": 25,
   "metadata": {
    "collapsed": false
   },
   "outputs": [
    {
     "name": "stdout",
     "output_type": "stream",
     "text": [
      "Canvas is updated and available in a tab in the default browser.\n"
     ]
    }
   ],
   "source": [
    "sgd50.show()"
   ]
  },
  {
   "cell_type": "code",
   "execution_count": 25,
   "metadata": {
    "collapsed": false
   },
   "outputs": [
    {
     "data": {
      "text/html": [
       "<pre>Recsys training: model = factorization_recommender</pre>"
      ],
      "text/plain": [
       "Recsys training: model = factorization_recommender"
      ]
     },
     "metadata": {},
     "output_type": "display_data"
    },
    {
     "data": {
      "text/html": [
       "<pre>Preparing data set.</pre>"
      ],
      "text/plain": [
       "Preparing data set."
      ]
     },
     "metadata": {},
     "output_type": "display_data"
    },
    {
     "data": {
      "text/html": [
       "<pre>    Data has 955221 observations with 388480 users and 110 items.</pre>"
      ],
      "text/plain": [
       "    Data has 955221 observations with 388480 users and 110 items."
      ]
     },
     "metadata": {},
     "output_type": "display_data"
    },
    {
     "data": {
      "text/html": [
       "<pre>    Data prepared in: 6.06304s</pre>"
      ],
      "text/plain": [
       "    Data prepared in: 6.06304s"
      ]
     },
     "metadata": {},
     "output_type": "display_data"
    },
    {
     "data": {
      "text/html": [
       "<pre>Training factorization_recommender for recommendations.</pre>"
      ],
      "text/plain": [
       "Training factorization_recommender for recommendations."
      ]
     },
     "metadata": {},
     "output_type": "display_data"
    },
    {
     "data": {
      "text/html": [
       "<pre>+--------------------------------+--------------------------------------------------+----------+</pre>"
      ],
      "text/plain": [
       "+--------------------------------+--------------------------------------------------+----------+"
      ]
     },
     "metadata": {},
     "output_type": "display_data"
    },
    {
     "data": {
      "text/html": [
       "<pre>| Parameter                      | Description                                      | Value    |</pre>"
      ],
      "text/plain": [
       "| Parameter                      | Description                                      | Value    |"
      ]
     },
     "metadata": {},
     "output_type": "display_data"
    },
    {
     "data": {
      "text/html": [
       "<pre>+--------------------------------+--------------------------------------------------+----------+</pre>"
      ],
      "text/plain": [
       "+--------------------------------+--------------------------------------------------+----------+"
      ]
     },
     "metadata": {},
     "output_type": "display_data"
    },
    {
     "data": {
      "text/html": [
       "<pre>| num_factors                    | Factor Dimension                                 | 100      |</pre>"
      ],
      "text/plain": [
       "| num_factors                    | Factor Dimension                                 | 100      |"
      ]
     },
     "metadata": {},
     "output_type": "display_data"
    },
    {
     "data": {
      "text/html": [
       "<pre>| regularization                 | L2 Regularization on Factors                     | 1e-008   |</pre>"
      ],
      "text/plain": [
       "| regularization                 | L2 Regularization on Factors                     | 1e-008   |"
      ]
     },
     "metadata": {},
     "output_type": "display_data"
    },
    {
     "data": {
      "text/html": [
       "<pre>| solver                         | Solver used for training                         | sgd      |</pre>"
      ],
      "text/plain": [
       "| solver                         | Solver used for training                         | sgd      |"
      ]
     },
     "metadata": {},
     "output_type": "display_data"
    },
    {
     "data": {
      "text/html": [
       "<pre>| linear_regularization          | L2 Regularization on Linear Coefficients         | 1e-010   |</pre>"
      ],
      "text/plain": [
       "| linear_regularization          | L2 Regularization on Linear Coefficients         | 1e-010   |"
      ]
     },
     "metadata": {},
     "output_type": "display_data"
    },
    {
     "data": {
      "text/html": [
       "<pre>| max_iterations                 | Maximum Number of Iterations                     | 50       |</pre>"
      ],
      "text/plain": [
       "| max_iterations                 | Maximum Number of Iterations                     | 50       |"
      ]
     },
     "metadata": {},
     "output_type": "display_data"
    },
    {
     "data": {
      "text/html": [
       "<pre>+--------------------------------+--------------------------------------------------+----------+</pre>"
      ],
      "text/plain": [
       "+--------------------------------+--------------------------------------------------+----------+"
      ]
     },
     "metadata": {},
     "output_type": "display_data"
    },
    {
     "data": {
      "text/html": [
       "<pre>  Optimizing model using SGD; tuning step size.</pre>"
      ],
      "text/plain": [
       "  Optimizing model using SGD; tuning step size."
      ]
     },
     "metadata": {},
     "output_type": "display_data"
    },
    {
     "data": {
      "text/html": [
       "<pre>  Using 119402 / 955221 points for tuning the step size.</pre>"
      ],
      "text/plain": [
       "  Using 119402 / 955221 points for tuning the step size."
      ]
     },
     "metadata": {},
     "output_type": "display_data"
    },
    {
     "data": {
      "text/html": [
       "<pre>+---------+-------------------+------------------------------------------+</pre>"
      ],
      "text/plain": [
       "+---------+-------------------+------------------------------------------+"
      ]
     },
     "metadata": {},
     "output_type": "display_data"
    },
    {
     "data": {
      "text/html": [
       "<pre>| Attempt | Initial Step Size | Estimated Objective Value                |</pre>"
      ],
      "text/plain": [
       "| Attempt | Initial Step Size | Estimated Objective Value                |"
      ]
     },
     "metadata": {},
     "output_type": "display_data"
    },
    {
     "data": {
      "text/html": [
       "<pre>+---------+-------------------+------------------------------------------+</pre>"
      ],
      "text/plain": [
       "+---------+-------------------+------------------------------------------+"
      ]
     },
     "metadata": {},
     "output_type": "display_data"
    },
    {
     "data": {
      "text/html": [
       "<pre>| 0       | 25                | Not Viable                               |</pre>"
      ],
      "text/plain": [
       "| 0       | 25                | Not Viable                               |"
      ]
     },
     "metadata": {},
     "output_type": "display_data"
    },
    {
     "data": {
      "text/html": [
       "<pre>| 1       | 6.25              | Not Viable                               |</pre>"
      ],
      "text/plain": [
       "| 1       | 6.25              | Not Viable                               |"
      ]
     },
     "metadata": {},
     "output_type": "display_data"
    },
    {
     "data": {
      "text/html": [
       "<pre>| 2       | 1.5625            | Not Viable                               |</pre>"
      ],
      "text/plain": [
       "| 2       | 1.5625            | Not Viable                               |"
      ]
     },
     "metadata": {},
     "output_type": "display_data"
    },
    {
     "data": {
      "text/html": [
       "<pre>| 3       | 0.390625          | Not Viable                               |</pre>"
      ],
      "text/plain": [
       "| 3       | 0.390625          | Not Viable                               |"
      ]
     },
     "metadata": {},
     "output_type": "display_data"
    },
    {
     "data": {
      "text/html": [
       "<pre>| 4       | 0.0976562         | Not Viable                               |</pre>"
      ],
      "text/plain": [
       "| 4       | 0.0976562         | Not Viable                               |"
      ]
     },
     "metadata": {},
     "output_type": "display_data"
    },
    {
     "data": {
      "text/html": [
       "<pre>| 5       | 0.0244141         | 0.53643                                  |</pre>"
      ],
      "text/plain": [
       "| 5       | 0.0244141         | 0.53643                                  |"
      ]
     },
     "metadata": {},
     "output_type": "display_data"
    },
    {
     "data": {
      "text/html": [
       "<pre>| 6       | 0.012207          | 1.08657                                  |</pre>"
      ],
      "text/plain": [
       "| 6       | 0.012207          | 1.08657                                  |"
      ]
     },
     "metadata": {},
     "output_type": "display_data"
    },
    {
     "data": {
      "text/html": [
       "<pre>+---------+-------------------+------------------------------------------+</pre>"
      ],
      "text/plain": [
       "+---------+-------------------+------------------------------------------+"
      ]
     },
     "metadata": {},
     "output_type": "display_data"
    },
    {
     "data": {
      "text/html": [
       "<pre>| Final   | 0.0244141         | 0.53643                                  |</pre>"
      ],
      "text/plain": [
       "| Final   | 0.0244141         | 0.53643                                  |"
      ]
     },
     "metadata": {},
     "output_type": "display_data"
    },
    {
     "data": {
      "text/html": [
       "<pre>+---------+-------------------+------------------------------------------+</pre>"
      ],
      "text/plain": [
       "+---------+-------------------+------------------------------------------+"
      ]
     },
     "metadata": {},
     "output_type": "display_data"
    },
    {
     "data": {
      "text/html": [
       "<pre>Starting Optimization.</pre>"
      ],
      "text/plain": [
       "Starting Optimization."
      ]
     },
     "metadata": {},
     "output_type": "display_data"
    },
    {
     "data": {
      "text/html": [
       "<pre>+---------+--------------+-------------------+-----------------------+-------------+</pre>"
      ],
      "text/plain": [
       "+---------+--------------+-------------------+-----------------------+-------------+"
      ]
     },
     "metadata": {},
     "output_type": "display_data"
    },
    {
     "data": {
      "text/html": [
       "<pre>| Iter.   | Elapsed Time | Approx. Objective | Approx. Training RMSE | Step Size   |</pre>"
      ],
      "text/plain": [
       "| Iter.   | Elapsed Time | Approx. Objective | Approx. Training RMSE | Step Size   |"
      ]
     },
     "metadata": {},
     "output_type": "display_data"
    },
    {
     "data": {
      "text/html": [
       "<pre>+---------+--------------+-------------------+-----------------------+-------------+</pre>"
      ],
      "text/plain": [
       "+---------+--------------+-------------------+-----------------------+-------------+"
      ]
     },
     "metadata": {},
     "output_type": "display_data"
    },
    {
     "data": {
      "text/html": [
       "<pre>| Initial | 498us        | 3.00472           | 1.73341               |             |</pre>"
      ],
      "text/plain": [
       "| Initial | 498us        | 3.00472           | 1.73341               |             |"
      ]
     },
     "metadata": {},
     "output_type": "display_data"
    },
    {
     "data": {
      "text/html": [
       "<pre>+---------+--------------+-------------------+-----------------------+-------------+</pre>"
      ],
      "text/plain": [
       "+---------+--------------+-------------------+-----------------------+-------------+"
      ]
     },
     "metadata": {},
     "output_type": "display_data"
    },
    {
     "data": {
      "text/html": [
       "<pre>| 1       | 1.14s        | DIVERGED          | DIVERGED              | 0.0244141   |</pre>"
      ],
      "text/plain": [
       "| 1       | 1.14s        | DIVERGED          | DIVERGED              | 0.0244141   |"
      ]
     },
     "metadata": {},
     "output_type": "display_data"
    },
    {
     "data": {
      "text/html": [
       "<pre>| RESET   | 5.63s        | 3.00477           | 1.73343               |             |</pre>"
      ],
      "text/plain": [
       "| RESET   | 5.63s        | 3.00477           | 1.73343               |             |"
      ]
     },
     "metadata": {},
     "output_type": "display_data"
    },
    {
     "data": {
      "text/html": [
       "<pre>| 1       | 6.68s        | 2.33085           | 1.52643               | 0.012207    |</pre>"
      ],
      "text/plain": [
       "| 1       | 6.68s        | 2.33085           | 1.52643               | 0.012207    |"
      ]
     },
     "metadata": {},
     "output_type": "display_data"
    },
    {
     "data": {
      "text/html": [
       "<pre>| 2       | 7.53s        | 1.55926           | 1.24829               | 0.00725834  |</pre>"
      ],
      "text/plain": [
       "| 2       | 7.53s        | 1.55926           | 1.24829               | 0.00725834  |"
      ]
     },
     "metadata": {},
     "output_type": "display_data"
    },
    {
     "data": {
      "text/html": [
       "<pre>| 3       | 8.67s        | 0.874942          | 0.934824              | 0.00535512  |</pre>"
      ],
      "text/plain": [
       "| 3       | 8.67s        | 0.874942          | 0.934824              | 0.00535512  |"
      ]
     },
     "metadata": {},
     "output_type": "display_data"
    },
    {
     "data": {
      "text/html": [
       "<pre>| 4       | 9.48s        | 0.448679          | 0.669053              | 0.00431584  |</pre>"
      ],
      "text/plain": [
       "| 4       | 9.48s        | 0.448679          | 0.669053              | 0.00431584  |"
      ]
     },
     "metadata": {},
     "output_type": "display_data"
    },
    {
     "data": {
      "text/html": [
       "<pre>| 5       | 10.59s       | 0.228255          | 0.476661              | 0.00365075  |</pre>"
      ],
      "text/plain": [
       "| 5       | 10.59s       | 0.228255          | 0.476661              | 0.00365075  |"
      ]
     },
     "metadata": {},
     "output_type": "display_data"
    },
    {
     "data": {
      "text/html": [
       "<pre>| 6       | 11.52s       | 0.126133          | 0.353669              | 0.00318417  |</pre>"
      ],
      "text/plain": [
       "| 6       | 11.52s       | 0.126133          | 0.353669              | 0.00318417  |"
      ]
     },
     "metadata": {},
     "output_type": "display_data"
    },
    {
     "data": {
      "text/html": [
       "<pre>| 9       | 14.33s       | 0.0444878         | 0.208403              | 0.00234924  |</pre>"
      ],
      "text/plain": [
       "| 9       | 14.33s       | 0.0444878         | 0.208403              | 0.00234924  |"
      ]
     },
     "metadata": {},
     "output_type": "display_data"
    },
    {
     "data": {
      "text/html": [
       "<pre>| 11      | 16.96s       | 0.0281019         | 0.16445               | 0.002021    |</pre>"
      ],
      "text/plain": [
       "| 11      | 16.96s       | 0.0281019         | 0.16445               | 0.002021    |"
      ]
     },
     "metadata": {},
     "output_type": "display_data"
    },
    {
     "data": {
      "text/html": [
       "<pre>| 14      | 20.68s       | 0.0180004         | 0.130155              | 0.00168661  |</pre>"
      ],
      "text/plain": [
       "| 14      | 20.68s       | 0.0180004         | 0.130155              | 0.00168661  |"
      ]
     },
     "metadata": {},
     "output_type": "display_data"
    },
    {
     "data": {
      "text/html": [
       "<pre>| 19      | 25.96s       | 0.0119479         | 0.104334              | 0.00134136  |</pre>"
      ],
      "text/plain": [
       "| 19      | 25.96s       | 0.0119479         | 0.104334              | 0.00134136  |"
      ]
     },
     "metadata": {},
     "output_type": "display_data"
    },
    {
     "data": {
      "text/html": [
       "<pre>| 24      | 29.86s       | 0.00904159        | 0.0893204             | 0.00112578  |</pre>"
      ],
      "text/plain": [
       "| 24      | 29.86s       | 0.00904159        | 0.0893204             | 0.00112578  |"
      ]
     },
     "metadata": {},
     "output_type": "display_data"
    },
    {
     "data": {
      "text/html": [
       "<pre>| 29      | 34.63s       | 0.00738531        | 0.0795047             | 0.000976813 |</pre>"
      ],
      "text/plain": [
       "| 29      | 34.63s       | 0.00738531        | 0.0795047             | 0.000976813 |"
      ]
     },
     "metadata": {},
     "output_type": "display_data"
    },
    {
     "data": {
      "text/html": [
       "<pre>| 34      | 38.27s       | 0.00633218        | 0.0725758             | 0.000866964 |</pre>"
      ],
      "text/plain": [
       "| 34      | 38.27s       | 0.00633218        | 0.0725758             | 0.000866964 |"
      ]
     },
     "metadata": {},
     "output_type": "display_data"
    },
    {
     "data": {
      "text/html": [
       "<pre>| 39      | 42.32s       | 0.00560616        | 0.067385              | 0.000782189 |</pre>"
      ],
      "text/plain": [
       "| 39      | 42.32s       | 0.00560616        | 0.067385              | 0.000782189 |"
      ]
     },
     "metadata": {},
     "output_type": "display_data"
    },
    {
     "data": {
      "text/html": [
       "<pre>| 44      | 46.03s       | 0.00507186        | 0.0632936             | 0.00071453  |</pre>"
      ],
      "text/plain": [
       "| 44      | 46.03s       | 0.00507186        | 0.0632936             | 0.00071453  |"
      ]
     },
     "metadata": {},
     "output_type": "display_data"
    },
    {
     "data": {
      "text/html": [
       "<pre>| 49      | 50.33s       | 0.00465559        | 0.0599124             | 0.000659118 |</pre>"
      ],
      "text/plain": [
       "| 49      | 50.33s       | 0.00465559        | 0.0599124             | 0.000659118 |"
      ]
     },
     "metadata": {},
     "output_type": "display_data"
    },
    {
     "data": {
      "text/html": [
       "<pre>+---------+--------------+-------------------+-----------------------+-------------+</pre>"
      ],
      "text/plain": [
       "+---------+--------------+-------------------+-----------------------+-------------+"
      ]
     },
     "metadata": {},
     "output_type": "display_data"
    },
    {
     "data": {
      "text/html": [
       "<pre>Optimization Complete: Maximum number of passes through the data reached.</pre>"
      ],
      "text/plain": [
       "Optimization Complete: Maximum number of passes through the data reached."
      ]
     },
     "metadata": {},
     "output_type": "display_data"
    },
    {
     "data": {
      "text/html": [
       "<pre>Computing final objective value and training RMSE.</pre>"
      ],
      "text/plain": [
       "Computing final objective value and training RMSE."
      ]
     },
     "metadata": {},
     "output_type": "display_data"
    },
    {
     "data": {
      "text/html": [
       "<pre>       Final objective value: 0.00450636</pre>"
      ],
      "text/plain": [
       "       Final objective value: 0.00450636"
      ]
     },
     "metadata": {},
     "output_type": "display_data"
    },
    {
     "data": {
      "text/html": [
       "<pre>       Final training RMSE: 0.0586533</pre>"
      ],
      "text/plain": [
       "       Final training RMSE: 0.0586533"
      ]
     },
     "metadata": {},
     "output_type": "display_data"
    }
   ],
   "source": [
    "sgd100= gl.recommender.factorization_recommender.create(train,user_id='user_id',item_id='cuisine',target='count', user_data=None,\n",
    "                                                item_data=None,num_factors=100, regularization=1e-08, linear_regularization=1e-10, \n",
    "                                                side_data_factorization=True, nmf=False, binary_target=False, \n",
    "                                                max_iterations=50, sgd_step_size=0, random_seed=0,\n",
    "                                                solver='sgd', verbose=True)"
   ]
  },
  {
   "cell_type": "code",
   "execution_count": 26,
   "metadata": {
    "collapsed": false
   },
   "outputs": [
    {
     "name": "stdout",
     "output_type": "stream",
     "text": [
      "\n",
      "Precision and recall summary statistics by cutoff\n",
      "+--------+-----------------+----------------+\n",
      "| cutoff |  mean_precision |  mean_recall   |\n",
      "+--------+-----------------+----------------+\n",
      "|   1    |  0.252747252747 | 0.189409994767 |\n",
      "|   2    |  0.186813186813 | 0.280259026688 |\n",
      "|   3    |  0.141025641026 | 0.311649659864 |\n",
      "|   4    |  0.114697802198 | 0.334962061748 |\n",
      "|   5    |  0.100549450549 | 0.367562794349 |\n",
      "|   6    | 0.0874542124542 | 0.383130559916 |\n",
      "|   7    | 0.0781004709576 | 0.402361329147 |\n",
      "|   8    | 0.0728021978022 | 0.42963762428  |\n",
      "|   9    | 0.0699023199023 | 0.466496598639 |\n",
      "|   10   | 0.0675824175824 | 0.499398220827 |\n",
      "+--------+-----------------+----------------+\n",
      "[10 rows x 3 columns]\n",
      "\n",
      "('\\nOverall RMSE: ', 1.2169327552226834)\n",
      "\n",
      "Per User RMSE (best)\n",
      "+------------------------+-------+------------------+\n",
      "|        user_id         | count |       rmse       |\n",
      "+------------------------+-------+------------------+\n",
      "| BcrJjC-pTRugEsd97eOg_w |   1   | 0.00763983848909 |\n",
      "+------------------------+-------+------------------+\n",
      "[1 rows x 3 columns]\n",
      "\n",
      "\n",
      "Per User RMSE (worst)\n",
      "+------------------------+-------+---------------+\n",
      "|        user_id         | count |      rmse     |\n",
      "+------------------------+-------+---------------+\n",
      "| 0Q2QhRuyD_oGodCj__wcvQ |   7   | 7.40171902207 |\n",
      "+------------------------+-------+---------------+\n",
      "[1 rows x 3 columns]\n",
      "\n",
      "\n",
      "Per Item RMSE (best)\n",
      "+-----------+-------+-----------------+\n",
      "|  cuisine  | count |       rmse      |\n",
      "+-----------+-------+-----------------+\n",
      "| Ukrainian |   1   | 0.0150234530546 |\n",
      "+-----------+-------+-----------------+\n",
      "[1 rows x 3 columns]\n",
      "\n",
      "\n",
      "Per Item RMSE (worst)\n",
      "+---------+-------+---------------+\n",
      "| cuisine | count |      rmse     |\n",
      "+---------+-------+---------------+\n",
      "|  Cafes  |   17  | 4.32021347647 |\n",
      "+---------+-------+---------------+\n",
      "[1 rows x 3 columns]\n",
      "\n"
     ]
    },
    {
     "data": {
      "text/plain": [
       "{'precision_recall_by_user': Columns:\n",
       " \tuser_id\tstr\n",
       " \tcutoff\tint\n",
       " \tprecision\tfloat\n",
       " \trecall\tfloat\n",
       " \tcount\tint\n",
       " \n",
       " Rows: 6552\n",
       " \n",
       " Data:\n",
       " +------------------------+--------+-----------+--------+-------+\n",
       " |        user_id         | cutoff | precision | recall | count |\n",
       " +------------------------+--------+-----------+--------+-------+\n",
       " | -eLWn4f6YtMbQ0hakpks2w |   1    |    0.0    |  0.0   |   1   |\n",
       " | -eLWn4f6YtMbQ0hakpks2w |   2    |    0.0    |  0.0   |   1   |\n",
       " | -eLWn4f6YtMbQ0hakpks2w |   3    |    0.0    |  0.0   |   1   |\n",
       " | -eLWn4f6YtMbQ0hakpks2w |   4    |    0.0    |  0.0   |   1   |\n",
       " | -eLWn4f6YtMbQ0hakpks2w |   5    |    0.0    |  0.0   |   1   |\n",
       " | -eLWn4f6YtMbQ0hakpks2w |   6    |    0.0    |  0.0   |   1   |\n",
       " | -eLWn4f6YtMbQ0hakpks2w |   7    |    0.0    |  0.0   |   1   |\n",
       " | -eLWn4f6YtMbQ0hakpks2w |   8    |    0.0    |  0.0   |   1   |\n",
       " | -eLWn4f6YtMbQ0hakpks2w |   9    |    0.0    |  0.0   |   1   |\n",
       " | -eLWn4f6YtMbQ0hakpks2w |   10   |    0.0    |  0.0   |   1   |\n",
       " +------------------------+--------+-----------+--------+-------+\n",
       " [6552 rows x 5 columns]\n",
       " Note: Only the head of the SFrame is printed.\n",
       " You can use print_rows(num_rows=m, num_columns=n) to print more rows and columns.,\n",
       " 'precision_recall_overall': Columns:\n",
       " \tcutoff\tint\n",
       " \tprecision\tfloat\n",
       " \trecall\tfloat\n",
       " \n",
       " Rows: 18\n",
       " \n",
       " Data:\n",
       " +--------+-----------------+----------------+\n",
       " | cutoff |    precision    |     recall     |\n",
       " +--------+-----------------+----------------+\n",
       " |   1    |  0.252747252747 | 0.189409994767 |\n",
       " |   2    |  0.186813186813 | 0.280259026688 |\n",
       " |   3    |  0.141025641026 | 0.311649659864 |\n",
       " |   4    |  0.114697802198 | 0.334962061748 |\n",
       " |   5    |  0.100549450549 | 0.367562794349 |\n",
       " |   6    | 0.0874542124542 | 0.383130559916 |\n",
       " |   7    | 0.0781004709576 | 0.402361329147 |\n",
       " |   8    | 0.0728021978022 | 0.42963762428  |\n",
       " |   9    | 0.0699023199023 | 0.466496598639 |\n",
       " |   10   | 0.0675824175824 | 0.499398220827 |\n",
       " +--------+-----------------+----------------+\n",
       " [18 rows x 3 columns]\n",
       " Note: Only the head of the SFrame is printed.\n",
       " You can use print_rows(num_rows=m, num_columns=n) to print more rows and columns.,\n",
       " 'rmse_by_item': Columns:\n",
       " \tcuisine\tstr\n",
       " \tcount\tint\n",
       " \trmse\tfloat\n",
       " \n",
       " Rows: 59\n",
       " \n",
       " Data:\n",
       " +--------------+-------+-----------------+\n",
       " |   cuisine    | count |       rmse      |\n",
       " +--------------+-------+-----------------+\n",
       " | Gluten-Free  |   2   |  0.643976268451 |\n",
       " |  Ethiopian   |   1   | 0.0551117983513 |\n",
       " | Fish & Chips |   4   |  0.496086889001 |\n",
       " |   American   |   79  |  1.58845905854  |\n",
       " |  Creperies   |   1   | 0.0486771229288 |\n",
       " |    Diners    |   9   | 0.0961374320998 |\n",
       " | Cheesesteaks |   1   |  0.98419496614  |\n",
       " |    French    |   15  |  0.554294582739 |\n",
       " |    Indian    |   3   |  0.376729907977 |\n",
       " |  Gastropubs  |   5   |  0.45889601354  |\n",
       " +--------------+-------+-----------------+\n",
       " [59 rows x 3 columns]\n",
       " Note: Only the head of the SFrame is printed.\n",
       " You can use print_rows(num_rows=m, num_columns=n) to print more rows and columns.,\n",
       " 'rmse_by_user': Columns:\n",
       " \tuser_id\tstr\n",
       " \tcount\tint\n",
       " \trmse\tfloat\n",
       " \n",
       " Rows: 364\n",
       " \n",
       " Data:\n",
       " +------------------------+-------+----------------+\n",
       " |        user_id         | count |      rmse      |\n",
       " +------------------------+-------+----------------+\n",
       " | 6BaPhy9N-ZGP1KZw2J9CRQ |   2   | 0.208402003949 |\n",
       " | ah2H8j0WsZ8Zai6mdfGqRg |   6   | 1.16286063593  |\n",
       " | 1HIrykRtavFYnbh83QrnVg |   1   | 0.111717275237 |\n",
       " | odIGdKmOHssrNxmbb6Al6w |   3   | 0.252907070817 |\n",
       " | 7p2Kva4qP20tNDPlabxwLw |   1   | 0.151786504207 |\n",
       " | Q1lOqbip5AspTHHBJ4VDlA |   1   | 0.251094367249 |\n",
       " | pmH9PIPa4bZnULYYjlgsrw |   1   | 0.226883559847 |\n",
       " | rQ-wm2ZCoPfCQ6bO5fBWew |   1   | 0.824419112983 |\n",
       " | Y6LwLDD_0FVKS_wWXxwrBg |   2   | 0.17224597621  |\n",
       " | nG--zl-nL4iX5vU6TIDh9w |   6   | 1.26234838828  |\n",
       " +------------------------+-------+----------------+\n",
       " [364 rows x 3 columns]\n",
       " Note: Only the head of the SFrame is printed.\n",
       " You can use print_rows(num_rows=m, num_columns=n) to print more rows and columns.,\n",
       " 'rmse_overall': 1.2169327552226834}"
      ]
     },
     "execution_count": 26,
     "metadata": {},
     "output_type": "execute_result"
    }
   ],
   "source": [
    "sgd100.evaluate(test)"
   ]
  },
  {
   "cell_type": "code",
   "execution_count": 27,
   "metadata": {
    "collapsed": false
   },
   "outputs": [
    {
     "name": "stdout",
     "output_type": "stream",
     "text": [
      "Canvas is accessible via web browser at the URL: http://localhost:53756/index.html\n",
      "Opening Canvas in default web browser.\n"
     ]
    }
   ],
   "source": [
    "sgd100.show()"
   ]
  },
  {
   "cell_type": "code",
   "execution_count": null,
   "metadata": {
    "collapsed": false,
    "scrolled": true
   },
   "outputs": [
    {
     "data": {
      "text/html": [
       "<pre>Recsys training: model = factorization_recommender</pre>"
      ],
      "text/plain": [
       "Recsys training: model = factorization_recommender"
      ]
     },
     "metadata": {},
     "output_type": "display_data"
    },
    {
     "data": {
      "text/html": [
       "<pre>Preparing data set.</pre>"
      ],
      "text/plain": [
       "Preparing data set."
      ]
     },
     "metadata": {},
     "output_type": "display_data"
    },
    {
     "data": {
      "text/html": [
       "<pre>    Data has 955221 observations with 388480 users and 110 items.</pre>"
      ],
      "text/plain": [
       "    Data has 955221 observations with 388480 users and 110 items."
      ]
     },
     "metadata": {},
     "output_type": "display_data"
    },
    {
     "data": {
      "text/html": [
       "<pre>    Data prepared in: 3.27132s</pre>"
      ],
      "text/plain": [
       "    Data prepared in: 3.27132s"
      ]
     },
     "metadata": {},
     "output_type": "display_data"
    },
    {
     "data": {
      "text/html": [
       "<pre>Training factorization_recommender for recommendations.</pre>"
      ],
      "text/plain": [
       "Training factorization_recommender for recommendations."
      ]
     },
     "metadata": {},
     "output_type": "display_data"
    },
    {
     "data": {
      "text/html": [
       "<pre>+------------------------------+--------------------------------------------------+----------+</pre>"
      ],
      "text/plain": [
       "+------------------------------+--------------------------------------------------+----------+"
      ]
     },
     "metadata": {},
     "output_type": "display_data"
    },
    {
     "data": {
      "text/html": [
       "<pre>| Parameter                    | Description                                      | Value    |</pre>"
      ],
      "text/plain": [
       "| Parameter                    | Description                                      | Value    |"
      ]
     },
     "metadata": {},
     "output_type": "display_data"
    },
    {
     "data": {
      "text/html": [
       "<pre>+------------------------------+--------------------------------------------------+----------+</pre>"
      ],
      "text/plain": [
       "+------------------------------+--------------------------------------------------+----------+"
      ]
     },
     "metadata": {},
     "output_type": "display_data"
    },
    {
     "data": {
      "text/html": [
       "<pre>| num_factors                  | Factor Dimension                                 | 100      |</pre>"
      ],
      "text/plain": [
       "| num_factors                  | Factor Dimension                                 | 100      |"
      ]
     },
     "metadata": {},
     "output_type": "display_data"
    },
    {
     "data": {
      "text/html": [
       "<pre>| regularization               | L2 Regularization on Factors                     | 1e-008   |</pre>"
      ],
      "text/plain": [
       "| regularization               | L2 Regularization on Factors                     | 1e-008   |"
      ]
     },
     "metadata": {},
     "output_type": "display_data"
    },
    {
     "data": {
      "text/html": [
       "<pre>| max_iterations               | Maximum Number of Iterations                     | 50       |</pre>"
      ],
      "text/plain": [
       "| max_iterations               | Maximum Number of Iterations                     | 50       |"
      ]
     },
     "metadata": {},
     "output_type": "display_data"
    },
    {
     "data": {
      "text/html": [
       "<pre>| solver                       | Solver used for training                         | als      |</pre>"
      ],
      "text/plain": [
       "| solver                       | Solver used for training                         | als      |"
      ]
     },
     "metadata": {},
     "output_type": "display_data"
    },
    {
     "data": {
      "text/html": [
       "<pre>+------------------------------+--------------------------------------------------+----------+</pre>"
      ],
      "text/plain": [
       "+------------------------------+--------------------------------------------------+----------+"
      ]
     },
     "metadata": {},
     "output_type": "display_data"
    },
    {
     "data": {
      "text/html": [
       "<pre>+---------+--------------+------------------------+</pre>"
      ],
      "text/plain": [
       "+---------+--------------+------------------------+"
      ]
     },
     "metadata": {},
     "output_type": "display_data"
    },
    {
     "data": {
      "text/html": [
       "<pre>| Iter.   | Elapsed time | RMSE                   |</pre>"
      ],
      "text/plain": [
       "| Iter.   | Elapsed time | RMSE                   |"
      ]
     },
     "metadata": {},
     "output_type": "display_data"
    },
    {
     "data": {
      "text/html": [
       "<pre>+---------+--------------+------------------------+</pre>"
      ],
      "text/plain": [
       "+---------+--------------+------------------------+"
      ]
     },
     "metadata": {},
     "output_type": "display_data"
    },
    {
     "data": {
      "text/html": [
       "<pre>| Initial | 0us          | NA                     |</pre>"
      ],
      "text/plain": [
       "| Initial | 0us          | NA                     |"
      ]
     },
     "metadata": {},
     "output_type": "display_data"
    },
    {
     "data": {
      "text/html": [
       "<pre>+---------+--------------+------------------------+</pre>"
      ],
      "text/plain": [
       "+---------+--------------+------------------------+"
      ]
     },
     "metadata": {},
     "output_type": "display_data"
    },
    {
     "data": {
      "text/html": [
       "<pre>| 0       | 1m 32s       | 0.0499486              |</pre>"
      ],
      "text/plain": [
       "| 0       | 1m 32s       | 0.0499486              |"
      ]
     },
     "metadata": {},
     "output_type": "display_data"
    }
   ],
   "source": [
    "als50 = gl.recommender.factorization_recommender.create(train,user_id='user_id',item_id='cuisine',target='count', user_data=None,\n",
    "                                                item_data=None,num_factors=100, regularization=1e-08, linear_regularization=1e-10, \n",
    "                                                side_data_factorization=True, nmf=False, binary_target=False, \n",
    "                                                max_iterations=50, sgd_step_size=0, random_seed=0,\n",
    "                                                solver='als', verbose=True)"
   ]
  },
  {
   "cell_type": "code",
   "execution_count": null,
   "metadata": {
    "collapsed": true
   },
   "outputs": [],
   "source": [
    "als50.evaluate(test)"
   ]
  },
  {
   "cell_type": "code",
   "execution_count": null,
   "metadata": {
    "collapsed": true
   },
   "outputs": [],
   "source": [
    "als50.show()"
   ]
  },
  {
   "cell_type": "code",
   "execution_count": 28,
   "metadata": {
    "collapsed": false
   },
   "outputs": [
    {
     "data": {
      "text/html": [
       "<pre>Recsys training: model = popularity</pre>"
      ],
      "text/plain": [
       "Recsys training: model = popularity"
      ]
     },
     "metadata": {},
     "output_type": "display_data"
    },
    {
     "data": {
      "text/html": [
       "<pre>Preparing data set.</pre>"
      ],
      "text/plain": [
       "Preparing data set."
      ]
     },
     "metadata": {},
     "output_type": "display_data"
    },
    {
     "data": {
      "text/html": [
       "<pre>    Data has 955221 observations with 388480 users and 110 items.</pre>"
      ],
      "text/plain": [
       "    Data has 955221 observations with 388480 users and 110 items."
      ]
     },
     "metadata": {},
     "output_type": "display_data"
    },
    {
     "data": {
      "text/html": [
       "<pre>    Data prepared in: 5.24373s</pre>"
      ],
      "text/plain": [
       "    Data prepared in: 5.24373s"
      ]
     },
     "metadata": {},
     "output_type": "display_data"
    },
    {
     "data": {
      "text/html": [
       "<pre>955221 observations to process; with 110 unique items.</pre>"
      ],
      "text/plain": [
       "955221 observations to process; with 110 unique items."
      ]
     },
     "metadata": {},
     "output_type": "display_data"
    }
   ],
   "source": [
    "#popularity\n",
    "pop = gl.recommender.popularity_recommender.create(train, user_id='user_id', item_id='cuisine', target='count',\n",
    "                                                    user_data=None, item_data=None, random_seed=0, verbose=True)\n"
   ]
  },
  {
   "cell_type": "code",
   "execution_count": 29,
   "metadata": {
    "collapsed": false
   },
   "outputs": [
    {
     "name": "stdout",
     "output_type": "stream",
     "text": [
      "\n",
      "Precision and recall summary statistics by cutoff\n",
      "+--------+-----------------+----------------+\n",
      "| cutoff |  mean_precision |  mean_recall   |\n",
      "+--------+-----------------+----------------+\n",
      "|   1    |  0.277472527473 | 0.20595892203  |\n",
      "|   2    |  0.188186813187 | 0.275215855573 |\n",
      "|   3    |  0.152014652015 | 0.331240188383 |\n",
      "|   4    |  0.130494505495 | 0.373024594453 |\n",
      "|   5    |  0.118131868132 | 0.422180795395 |\n",
      "|   6    |  0.106684981685 | 0.461034798535 |\n",
      "|   7    | 0.0992935635793 | 0.498220826792 |\n",
      "|   8    | 0.0927197802198 | 0.531083202512 |\n",
      "|   9    | 0.0866910866911 | 0.558424908425 |\n",
      "|   10   |  0.081043956044 | 0.574313186813 |\n",
      "+--------+-----------------+----------------+\n",
      "[10 rows x 3 columns]\n",
      "\n",
      "('\\nOverall RMSE: ', 1.754108535895912)\n",
      "\n",
      "Per User RMSE (best)\n",
      "+------------------------+-------+-----------------+\n",
      "|        user_id         | count |       rmse      |\n",
      "+------------------------+-------+-----------------+\n",
      "| XHKKH7zkB_lXYr_QYSq-qQ |   1   | 0.0705009276438 |\n",
      "+------------------------+-------+-----------------+\n",
      "[1 rows x 3 columns]\n",
      "\n",
      "\n",
      "Per User RMSE (worst)\n",
      "+------------------------+-------+---------------+\n",
      "|        user_id         | count |      rmse     |\n",
      "+------------------------+-------+---------------+\n",
      "| 0Q2QhRuyD_oGodCj__wcvQ |   7   | 12.4904696287 |\n",
      "+------------------------+-------+---------------+\n",
      "[1 rows x 3 columns]\n",
      "\n",
      "\n",
      "Per Item RMSE (best)\n",
      "+---------+-------+----------------+\n",
      "| cuisine | count |      rmse      |\n",
      "+---------+-------+----------------+\n",
      "|  Fondue |   1   | 0.025641025641 |\n",
      "+---------+-------+----------------+\n",
      "[1 rows x 3 columns]\n",
      "\n",
      "\n",
      "Per Item RMSE (worst)\n",
      "+---------+-------+---------------+\n",
      "| cuisine | count |      rmse     |\n",
      "+---------+-------+---------------+\n",
      "|  Cafes  |   17  | 8.00368180304 |\n",
      "+---------+-------+---------------+\n",
      "[1 rows x 3 columns]\n",
      "\n"
     ]
    },
    {
     "data": {
      "text/plain": [
       "{'precision_recall_by_user': Columns:\n",
       " \tuser_id\tstr\n",
       " \tcutoff\tint\n",
       " \tprecision\tfloat\n",
       " \trecall\tfloat\n",
       " \tcount\tint\n",
       " \n",
       " Rows: 6552\n",
       " \n",
       " Data:\n",
       " +------------------------+--------+-----------+--------+-------+\n",
       " |        user_id         | cutoff | precision | recall | count |\n",
       " +------------------------+--------+-----------+--------+-------+\n",
       " | -eLWn4f6YtMbQ0hakpks2w |   1    |    0.0    |  0.0   |   1   |\n",
       " | -eLWn4f6YtMbQ0hakpks2w |   2    |    0.0    |  0.0   |   1   |\n",
       " | -eLWn4f6YtMbQ0hakpks2w |   3    |    0.0    |  0.0   |   1   |\n",
       " | -eLWn4f6YtMbQ0hakpks2w |   4    |    0.0    |  0.0   |   1   |\n",
       " | -eLWn4f6YtMbQ0hakpks2w |   5    |    0.0    |  0.0   |   1   |\n",
       " | -eLWn4f6YtMbQ0hakpks2w |   6    |    0.0    |  0.0   |   1   |\n",
       " | -eLWn4f6YtMbQ0hakpks2w |   7    |    0.0    |  0.0   |   1   |\n",
       " | -eLWn4f6YtMbQ0hakpks2w |   8    |    0.0    |  0.0   |   1   |\n",
       " | -eLWn4f6YtMbQ0hakpks2w |   9    |    0.0    |  0.0   |   1   |\n",
       " | -eLWn4f6YtMbQ0hakpks2w |   10   |    0.0    |  0.0   |   1   |\n",
       " +------------------------+--------+-----------+--------+-------+\n",
       " [6552 rows x 5 columns]\n",
       " Note: Only the head of the SFrame is printed.\n",
       " You can use print_rows(num_rows=m, num_columns=n) to print more rows and columns.,\n",
       " 'precision_recall_overall': Columns:\n",
       " \tcutoff\tint\n",
       " \tprecision\tfloat\n",
       " \trecall\tfloat\n",
       " \n",
       " Rows: 18\n",
       " \n",
       " Data:\n",
       " +--------+-----------------+----------------+\n",
       " | cutoff |    precision    |     recall     |\n",
       " +--------+-----------------+----------------+\n",
       " |   1    |  0.277472527473 | 0.20595892203  |\n",
       " |   2    |  0.188186813187 | 0.275215855573 |\n",
       " |   3    |  0.152014652015 | 0.331240188383 |\n",
       " |   4    |  0.130494505495 | 0.373024594453 |\n",
       " |   5    |  0.118131868132 | 0.422180795395 |\n",
       " |   6    |  0.106684981685 | 0.461034798535 |\n",
       " |   7    | 0.0992935635793 | 0.498220826792 |\n",
       " |   8    | 0.0927197802198 | 0.531083202512 |\n",
       " |   9    | 0.0866910866911 | 0.558424908425 |\n",
       " |   10   |  0.081043956044 | 0.574313186813 |\n",
       " +--------+-----------------+----------------+\n",
       " [18 rows x 3 columns]\n",
       " Note: Only the head of the SFrame is printed.\n",
       " You can use print_rows(num_rows=m, num_columns=n) to print more rows and columns.,\n",
       " 'rmse_by_item': Columns:\n",
       " \tcuisine\tstr\n",
       " \tcount\tint\n",
       " \trmse\tfloat\n",
       " \n",
       " Rows: 59\n",
       " \n",
       " Data:\n",
       " +--------------+-------+-----------------+\n",
       " |   cuisine    | count |       rmse      |\n",
       " +--------------+-------+-----------------+\n",
       " | Gluten-Free  |   2   |  0.613764579429 |\n",
       " |  Ethiopian   |   1   |   0.1211750306  |\n",
       " | Fish & Chips |   4   |  0.457300441337 |\n",
       " |   American   |   79  |  1.88795070379  |\n",
       " |  Creperies   |   1   | 0.0601503759398 |\n",
       " |    Diners    |   9   |  0.184706106144 |\n",
       " | Cheesesteaks |   1   |  0.970917225951 |\n",
       " |    French    |   15  |  0.574000892941 |\n",
       " |    Indian    |   3   |  0.270806794055 |\n",
       " |  Gastropubs  |   5   |  0.400133531746 |\n",
       " +--------------+-------+-----------------+\n",
       " [59 rows x 3 columns]\n",
       " Note: Only the head of the SFrame is printed.\n",
       " You can use print_rows(num_rows=m, num_columns=n) to print more rows and columns.,\n",
       " 'rmse_by_user': Columns:\n",
       " \tuser_id\tstr\n",
       " \tcount\tint\n",
       " \trmse\tfloat\n",
       " \n",
       " Rows: 364\n",
       " \n",
       " Data:\n",
       " +------------------------+-------+----------------+\n",
       " |        user_id         | count |      rmse      |\n",
       " +------------------------+-------+----------------+\n",
       " | 6BaPhy9N-ZGP1KZw2J9CRQ |   2   | 0.403732707643 |\n",
       " | ah2H8j0WsZ8Zai6mdfGqRg |   6   | 1.07108020847  |\n",
       " | 1HIrykRtavFYnbh83QrnVg |   1   | 0.272582570633 |\n",
       " | odIGdKmOHssrNxmbb6Al6w |   3   | 0.254638196894 |\n",
       " | 7p2Kva4qP20tNDPlabxwLw |   1   | 0.329571710813 |\n",
       " | Q1lOqbip5AspTHHBJ4VDlA |   1   | 0.512694966324 |\n",
       " | pmH9PIPa4bZnULYYjlgsrw |   1   | 0.436899996113 |\n",
       " | rQ-wm2ZCoPfCQ6bO5fBWew |   1   | 2.65218700595  |\n",
       " | Y6LwLDD_0FVKS_wWXxwrBg |   2   | 0.192698631565 |\n",
       " | nG--zl-nL4iX5vU6TIDh9w |   6   | 0.466044997948 |\n",
       " +------------------------+-------+----------------+\n",
       " [364 rows x 3 columns]\n",
       " Note: Only the head of the SFrame is printed.\n",
       " You can use print_rows(num_rows=m, num_columns=n) to print more rows and columns.,\n",
       " 'rmse_overall': 1.754108535895912}"
      ]
     },
     "execution_count": 29,
     "metadata": {},
     "output_type": "execute_result"
    }
   ],
   "source": [
    "pop.evaluate(test)"
   ]
  },
  {
   "cell_type": "code",
   "execution_count": 30,
   "metadata": {
    "collapsed": false
   },
   "outputs": [
    {
     "name": "stdout",
     "output_type": "stream",
     "text": [
      "Canvas is accessible via web browser at the URL: http://localhost:53756/index.html\n",
      "Opening Canvas in default web browser.\n"
     ]
    }
   ],
   "source": [
    "pop.show()"
   ]
  },
  {
   "cell_type": "code",
   "execution_count": 31,
   "metadata": {
    "collapsed": false
   },
   "outputs": [
    {
     "data": {
      "text/html": [
       "<pre>Recsys training: model = item_similarity</pre>"
      ],
      "text/plain": [
       "Recsys training: model = item_similarity"
      ]
     },
     "metadata": {},
     "output_type": "display_data"
    },
    {
     "data": {
      "text/html": [
       "<pre>Preparing data set.</pre>"
      ],
      "text/plain": [
       "Preparing data set."
      ]
     },
     "metadata": {},
     "output_type": "display_data"
    },
    {
     "data": {
      "text/html": [
       "<pre>    Data has 955221 observations with 388480 users and 110 items.</pre>"
      ],
      "text/plain": [
       "    Data has 955221 observations with 388480 users and 110 items."
      ]
     },
     "metadata": {},
     "output_type": "display_data"
    },
    {
     "data": {
      "text/html": [
       "<pre>    Data prepared in: 4.92299s</pre>"
      ],
      "text/plain": [
       "    Data prepared in: 4.92299s"
      ]
     },
     "metadata": {},
     "output_type": "display_data"
    },
    {
     "data": {
      "text/html": [
       "<pre>Training model from provided data.</pre>"
      ],
      "text/plain": [
       "Training model from provided data."
      ]
     },
     "metadata": {},
     "output_type": "display_data"
    },
    {
     "data": {
      "text/html": [
       "<pre>Gathering per-item and per-user statistics.</pre>"
      ],
      "text/plain": [
       "Gathering per-item and per-user statistics."
      ]
     },
     "metadata": {},
     "output_type": "display_data"
    },
    {
     "data": {
      "text/html": [
       "<pre>+--------------------------------+------------+</pre>"
      ],
      "text/plain": [
       "+--------------------------------+------------+"
      ]
     },
     "metadata": {},
     "output_type": "display_data"
    },
    {
     "data": {
      "text/html": [
       "<pre>| Elapsed Time (Item Statistics) | % Complete |</pre>"
      ],
      "text/plain": [
       "| Elapsed Time (Item Statistics) | % Complete |"
      ]
     },
     "metadata": {},
     "output_type": "display_data"
    },
    {
     "data": {
      "text/html": [
       "<pre>+--------------------------------+------------+</pre>"
      ],
      "text/plain": [
       "+--------------------------------+------------+"
      ]
     },
     "metadata": {},
     "output_type": "display_data"
    },
    {
     "data": {
      "text/html": [
       "<pre>| 4.504ms                        | 2.25       |</pre>"
      ],
      "text/plain": [
       "| 4.504ms                        | 2.25       |"
      ]
     },
     "metadata": {},
     "output_type": "display_data"
    },
    {
     "data": {
      "text/html": [
       "<pre>| 121.586ms                      | 100        |</pre>"
      ],
      "text/plain": [
       "| 121.586ms                      | 100        |"
      ]
     },
     "metadata": {},
     "output_type": "display_data"
    },
    {
     "data": {
      "text/html": [
       "<pre>+--------------------------------+------------+</pre>"
      ],
      "text/plain": [
       "+--------------------------------+------------+"
      ]
     },
     "metadata": {},
     "output_type": "display_data"
    },
    {
     "data": {
      "text/html": [
       "<pre>Setting up lookup tables.</pre>"
      ],
      "text/plain": [
       "Setting up lookup tables."
      ]
     },
     "metadata": {},
     "output_type": "display_data"
    },
    {
     "data": {
      "text/html": [
       "<pre>Processing data in one pass using dense lookup tables.</pre>"
      ],
      "text/plain": [
       "Processing data in one pass using dense lookup tables."
      ]
     },
     "metadata": {},
     "output_type": "display_data"
    },
    {
     "data": {
      "text/html": [
       "<pre>+-------------------------------------+------------------+-----------------+</pre>"
      ],
      "text/plain": [
       "+-------------------------------------+------------------+-----------------+"
      ]
     },
     "metadata": {},
     "output_type": "display_data"
    },
    {
     "data": {
      "text/html": [
       "<pre>| Elapsed Time (Constructing Lookups) | Total % Complete | Items Processed |</pre>"
      ],
      "text/plain": [
       "| Elapsed Time (Constructing Lookups) | Total % Complete | Items Processed |"
      ]
     },
     "metadata": {},
     "output_type": "display_data"
    },
    {
     "data": {
      "text/html": [
       "<pre>+-------------------------------------+------------------+-----------------+</pre>"
      ],
      "text/plain": [
       "+-------------------------------------+------------------+-----------------+"
      ]
     },
     "metadata": {},
     "output_type": "display_data"
    },
    {
     "data": {
      "text/html": [
       "<pre>| 134.595ms                           | 0                | 0               |</pre>"
      ],
      "text/plain": [
       "| 134.595ms                           | 0                | 0               |"
      ]
     },
     "metadata": {},
     "output_type": "display_data"
    },
    {
     "data": {
      "text/html": [
       "<pre>| 285.702ms                           | 100              | 110             |</pre>"
      ],
      "text/plain": [
       "| 285.702ms                           | 100              | 110             |"
      ]
     },
     "metadata": {},
     "output_type": "display_data"
    },
    {
     "data": {
      "text/html": [
       "<pre>+-------------------------------------+------------------+-----------------+</pre>"
      ],
      "text/plain": [
       "+-------------------------------------+------------------+-----------------+"
      ]
     },
     "metadata": {},
     "output_type": "display_data"
    },
    {
     "data": {
      "text/html": [
       "<pre>Finalizing lookup tables.</pre>"
      ],
      "text/plain": [
       "Finalizing lookup tables."
      ]
     },
     "metadata": {},
     "output_type": "display_data"
    },
    {
     "data": {
      "text/html": [
       "<pre>Generating candidate set for working with new users.</pre>"
      ],
      "text/plain": [
       "Generating candidate set for working with new users."
      ]
     },
     "metadata": {},
     "output_type": "display_data"
    },
    {
     "data": {
      "text/html": [
       "<pre>Finished training in 0.425805s</pre>"
      ],
      "text/plain": [
       "Finished training in 0.425805s"
      ]
     },
     "metadata": {},
     "output_type": "display_data"
    }
   ],
   "source": [
    "#item similarity\n",
    "\n",
    "simm = gl.recommender.item_similarity_recommender.create(train, user_id='user_id', item_id='cuisine', \n",
    "                                                         target='count', user_data=None, item_data=None, nearest_items=None, \n",
    "                                                         similarity_type='jaccard', threshold=0.001, only_top_k=64,\n",
    "                                                         verbose=True, target_memory_usage=8589934592)"
   ]
  },
  {
   "cell_type": "code",
   "execution_count": 32,
   "metadata": {
    "collapsed": false
   },
   "outputs": [
    {
     "name": "stdout",
     "output_type": "stream",
     "text": [
      "\n",
      "Precision and recall summary statistics by cutoff\n",
      "+--------+-----------------+-----------------+\n",
      "| cutoff |  mean_precision |   mean_recall   |\n",
      "+--------+-----------------+-----------------+\n",
      "|   1    |  0.134615384615 | 0.0896323914181 |\n",
      "|   2    |  0.123626373626 |  0.172403192046 |\n",
      "|   3    |  0.108058608059 |  0.222272370487 |\n",
      "|   4    |  0.095467032967 |  0.253983516484 |\n",
      "|   5    | 0.0868131868132 |  0.285995552067 |\n",
      "|   6    | 0.0869963369963 |  0.342798273155 |\n",
      "|   7    | 0.0859497645212 |  0.391823652538 |\n",
      "|   8    | 0.0796703296703 |  0.415404238619 |\n",
      "|   9    | 0.0763125763126 |  0.454323652538 |\n",
      "|   10   | 0.0730769230769 |  0.486473050759 |\n",
      "+--------+-----------------+-----------------+\n",
      "[10 rows x 3 columns]\n",
      "\n",
      "('\\nOverall RMSE: ', 2.211432860899003)\n",
      "\n",
      "Per User RMSE (best)\n",
      "+------------------------+-------+----------------+\n",
      "|        user_id         | count |      rmse      |\n",
      "+------------------------+-------+----------------+\n",
      "| 39dZU6dGkvFw2HNrHWr0HQ |   1   | 0.816686034203 |\n",
      "+------------------------+-------+----------------+\n",
      "[1 rows x 3 columns]\n",
      "\n",
      "\n",
      "Per User RMSE (worst)\n",
      "+------------------------+-------+---------------+\n",
      "|        user_id         | count |      rmse     |\n",
      "+------------------------+-------+---------------+\n",
      "| 0Q2QhRuyD_oGodCj__wcvQ |   7   | 13.1297555493 |\n",
      "+------------------------+-------+---------------+\n",
      "[1 rows x 3 columns]\n",
      "\n",
      "\n",
      "Per Item RMSE (best)\n",
      "+------------+-------+----------------+\n",
      "|  cuisine   | count |      rmse      |\n",
      "+------------+-------+----------------+\n",
      "| Sushi Bars |   5   | 0.925436540401 |\n",
      "+------------+-------+----------------+\n",
      "[1 rows x 3 columns]\n",
      "\n",
      "\n",
      "Per Item RMSE (worst)\n",
      "+---------+-------+---------------+\n",
      "| cuisine | count |      rmse     |\n",
      "+---------+-------+---------------+\n",
      "|  Cafes  |   17  | 8.39160805668 |\n",
      "+---------+-------+---------------+\n",
      "[1 rows x 3 columns]\n",
      "\n"
     ]
    },
    {
     "data": {
      "text/plain": [
       "{'precision_recall_by_user': Columns:\n",
       " \tuser_id\tstr\n",
       " \tcutoff\tint\n",
       " \tprecision\tfloat\n",
       " \trecall\tfloat\n",
       " \tcount\tint\n",
       " \n",
       " Rows: 6552\n",
       " \n",
       " Data:\n",
       " +------------------------+--------+-----------+--------+-------+\n",
       " |        user_id         | cutoff | precision | recall | count |\n",
       " +------------------------+--------+-----------+--------+-------+\n",
       " | -eLWn4f6YtMbQ0hakpks2w |   1    |    0.0    |  0.0   |   1   |\n",
       " | -eLWn4f6YtMbQ0hakpks2w |   2    |    0.0    |  0.0   |   1   |\n",
       " | -eLWn4f6YtMbQ0hakpks2w |   3    |    0.0    |  0.0   |   1   |\n",
       " | -eLWn4f6YtMbQ0hakpks2w |   4    |    0.0    |  0.0   |   1   |\n",
       " | -eLWn4f6YtMbQ0hakpks2w |   5    |    0.0    |  0.0   |   1   |\n",
       " | -eLWn4f6YtMbQ0hakpks2w |   6    |    0.0    |  0.0   |   1   |\n",
       " | -eLWn4f6YtMbQ0hakpks2w |   7    |    0.0    |  0.0   |   1   |\n",
       " | -eLWn4f6YtMbQ0hakpks2w |   8    |    0.0    |  0.0   |   1   |\n",
       " | -eLWn4f6YtMbQ0hakpks2w |   9    |    0.0    |  0.0   |   1   |\n",
       " | -eLWn4f6YtMbQ0hakpks2w |   10   |    0.0    |  0.0   |   1   |\n",
       " +------------------------+--------+-----------+--------+-------+\n",
       " [6552 rows x 5 columns]\n",
       " Note: Only the head of the SFrame is printed.\n",
       " You can use print_rows(num_rows=m, num_columns=n) to print more rows and columns.,\n",
       " 'precision_recall_overall': Columns:\n",
       " \tcutoff\tint\n",
       " \tprecision\tfloat\n",
       " \trecall\tfloat\n",
       " \n",
       " Rows: 18\n",
       " \n",
       " Data:\n",
       " +--------+-----------------+-----------------+\n",
       " | cutoff |    precision    |      recall     |\n",
       " +--------+-----------------+-----------------+\n",
       " |   1    |  0.134615384615 | 0.0896323914181 |\n",
       " |   2    |  0.123626373626 |  0.172403192046 |\n",
       " |   3    |  0.108058608059 |  0.222272370487 |\n",
       " |   4    |  0.095467032967 |  0.253983516484 |\n",
       " |   5    | 0.0868131868132 |  0.285995552067 |\n",
       " |   6    | 0.0869963369963 |  0.342798273155 |\n",
       " |   7    | 0.0859497645212 |  0.391823652538 |\n",
       " |   8    | 0.0796703296703 |  0.415404238619 |\n",
       " |   9    | 0.0763125763126 |  0.454323652538 |\n",
       " |   10   | 0.0730769230769 |  0.486473050759 |\n",
       " +--------+-----------------+-----------------+\n",
       " [18 rows x 3 columns]\n",
       " Note: Only the head of the SFrame is printed.\n",
       " You can use print_rows(num_rows=m, num_columns=n) to print more rows and columns.,\n",
       " 'rmse_by_item': Columns:\n",
       " \tcuisine\tstr\n",
       " \tcount\tint\n",
       " \trmse\tfloat\n",
       " \n",
       " Rows: 59\n",
       " \n",
       " Data:\n",
       " +--------------+-------+----------------+\n",
       " |   cuisine    | count |      rmse      |\n",
       " +--------------+-------+----------------+\n",
       " | Gluten-Free  |   2   |  1.5405124771  |\n",
       " |  Ethiopian   |   1   | 0.992400825024 |\n",
       " | Fish & Chips |   4   | 1.32276989503  |\n",
       " |   American   |   79  | 2.56172605634  |\n",
       " |  Creperies   |   1   | 0.97706001997  |\n",
       " |    Diners    |   9   | 0.933851447223 |\n",
       " | Cheesesteaks |   1   |      2.0       |\n",
       " |    French    |   15  | 1.33821480174  |\n",
       " |    Indian    |   3   | 0.957301365673 |\n",
       " |  Gastropubs  |   5   | 1.22780544981  |\n",
       " +--------------+-------+----------------+\n",
       " [59 rows x 3 columns]\n",
       " Note: Only the head of the SFrame is printed.\n",
       " You can use print_rows(num_rows=m, num_columns=n) to print more rows and columns.,\n",
       " 'rmse_by_user': Columns:\n",
       " \tuser_id\tstr\n",
       " \tcount\tint\n",
       " \trmse\tfloat\n",
       " \n",
       " Rows: 364\n",
       " \n",
       " Data:\n",
       " +------------------------+-------+----------------+\n",
       " |        user_id         | count |      rmse      |\n",
       " +------------------------+-------+----------------+\n",
       " | 6BaPhy9N-ZGP1KZw2J9CRQ |   2   | 0.939842829689 |\n",
       " | ah2H8j0WsZ8Zai6mdfGqRg |   6   | 1.80191194094  |\n",
       " | 1HIrykRtavFYnbh83QrnVg |   1   | 0.889000654221 |\n",
       " | odIGdKmOHssrNxmbb6Al6w |   3   | 0.922417311376 |\n",
       " | 7p2Kva4qP20tNDPlabxwLw |   1   | 0.93807941556  |\n",
       " | Q1lOqbip5AspTHHBJ4VDlA |   1   | 0.896817107995 |\n",
       " | pmH9PIPa4bZnULYYjlgsrw |   1   | 0.96883648634  |\n",
       " | rQ-wm2ZCoPfCQ6bO5fBWew |   1   | 3.94490839135  |\n",
       " | Y6LwLDD_0FVKS_wWXxwrBg |   2   | 0.949216004614 |\n",
       " | nG--zl-nL4iX5vU6TIDh9w |   6   | 1.52023858887  |\n",
       " +------------------------+-------+----------------+\n",
       " [364 rows x 3 columns]\n",
       " Note: Only the head of the SFrame is printed.\n",
       " You can use print_rows(num_rows=m, num_columns=n) to print more rows and columns.,\n",
       " 'rmse_overall': 2.211432860899003}"
      ]
     },
     "execution_count": 32,
     "metadata": {},
     "output_type": "execute_result"
    }
   ],
   "source": [
    "simm.evaluate(test)"
   ]
  },
  {
   "cell_type": "code",
   "execution_count": 33,
   "metadata": {
    "collapsed": false
   },
   "outputs": [
    {
     "name": "stdout",
     "output_type": "stream",
     "text": [
      "Canvas is updated and available in a tab in the default browser.\n"
     ]
    }
   ],
   "source": [
    "simm.show()"
   ]
  },
  {
   "cell_type": "code",
   "execution_count": 32,
   "metadata": {
    "collapsed": false
   },
   "outputs": [
    {
     "name": "stdout",
     "output_type": "stream",
     "text": [
      "Canvas is updated and available in a tab in the default browser.\n"
     ]
    }
   ],
   "source": [
    "sf_filtered = gl.SFrame(df_cuisine_filtered)\n",
    "sf_filtered.show()"
   ]
  },
  {
   "cell_type": "code",
   "execution_count": 33,
   "metadata": {
    "collapsed": true
   },
   "outputs": [],
   "source": [
    "train_f, test_f = gl.recommender.util.random_split_by_user(sf_filtered,item_id ='cuisine', max_num_users=1000,item_test_proportion =0.2)"
   ]
  },
  {
   "cell_type": "code",
   "execution_count": 34,
   "metadata": {
    "collapsed": false
   },
   "outputs": [
    {
     "name": "stdout",
     "output_type": "stream",
     "text": [
      "(72020, 3)\n",
      "(432, 3)\n"
     ]
    }
   ],
   "source": [
    "print train_f.shape\n",
    "print test_f.shape"
   ]
  },
  {
   "cell_type": "code",
   "execution_count": 35,
   "metadata": {
    "collapsed": false
   },
   "outputs": [
    {
     "data": {
      "text/html": [
       "<pre>Recsys training: model = factorization_recommender</pre>"
      ],
      "text/plain": [
       "Recsys training: model = factorization_recommender"
      ]
     },
     "metadata": {},
     "output_type": "display_data"
    },
    {
     "data": {
      "text/html": [
       "<pre>Preparing data set.</pre>"
      ],
      "text/plain": [
       "Preparing data set."
      ]
     },
     "metadata": {},
     "output_type": "display_data"
    },
    {
     "data": {
      "text/html": [
       "<pre>    Data has 72020 observations with 31449 users and 89 items.</pre>"
      ],
      "text/plain": [
       "    Data has 72020 observations with 31449 users and 89 items."
      ]
     },
     "metadata": {},
     "output_type": "display_data"
    },
    {
     "data": {
      "text/html": [
       "<pre>    Data prepared in: 0.188635s</pre>"
      ],
      "text/plain": [
       "    Data prepared in: 0.188635s"
      ]
     },
     "metadata": {},
     "output_type": "display_data"
    },
    {
     "data": {
      "text/html": [
       "<pre>Training factorization_recommender for recommendations.</pre>"
      ],
      "text/plain": [
       "Training factorization_recommender for recommendations."
      ]
     },
     "metadata": {},
     "output_type": "display_data"
    },
    {
     "data": {
      "text/html": [
       "<pre>+--------------------------------+--------------------------------------------------+----------+</pre>"
      ],
      "text/plain": [
       "+--------------------------------+--------------------------------------------------+----------+"
      ]
     },
     "metadata": {},
     "output_type": "display_data"
    },
    {
     "data": {
      "text/html": [
       "<pre>| Parameter                      | Description                                      | Value    |</pre>"
      ],
      "text/plain": [
       "| Parameter                      | Description                                      | Value    |"
      ]
     },
     "metadata": {},
     "output_type": "display_data"
    },
    {
     "data": {
      "text/html": [
       "<pre>+--------------------------------+--------------------------------------------------+----------+</pre>"
      ],
      "text/plain": [
       "+--------------------------------+--------------------------------------------------+----------+"
      ]
     },
     "metadata": {},
     "output_type": "display_data"
    },
    {
     "data": {
      "text/html": [
       "<pre>| num_factors                    | Factor Dimension                                 | 5        |</pre>"
      ],
      "text/plain": [
       "| num_factors                    | Factor Dimension                                 | 5        |"
      ]
     },
     "metadata": {},
     "output_type": "display_data"
    },
    {
     "data": {
      "text/html": [
       "<pre>| regularization                 | L2 Regularization on Factors                     | 1e-008   |</pre>"
      ],
      "text/plain": [
       "| regularization                 | L2 Regularization on Factors                     | 1e-008   |"
      ]
     },
     "metadata": {},
     "output_type": "display_data"
    },
    {
     "data": {
      "text/html": [
       "<pre>| solver                         | Solver used for training                         | sgd      |</pre>"
      ],
      "text/plain": [
       "| solver                         | Solver used for training                         | sgd      |"
      ]
     },
     "metadata": {},
     "output_type": "display_data"
    },
    {
     "data": {
      "text/html": [
       "<pre>| linear_regularization          | L2 Regularization on Linear Coefficients         | 1e-010   |</pre>"
      ],
      "text/plain": [
       "| linear_regularization          | L2 Regularization on Linear Coefficients         | 1e-010   |"
      ]
     },
     "metadata": {},
     "output_type": "display_data"
    },
    {
     "data": {
      "text/html": [
       "<pre>| max_iterations                 | Maximum Number of Iterations                     | 50       |</pre>"
      ],
      "text/plain": [
       "| max_iterations                 | Maximum Number of Iterations                     | 50       |"
      ]
     },
     "metadata": {},
     "output_type": "display_data"
    },
    {
     "data": {
      "text/html": [
       "<pre>+--------------------------------+--------------------------------------------------+----------+</pre>"
      ],
      "text/plain": [
       "+--------------------------------+--------------------------------------------------+----------+"
      ]
     },
     "metadata": {},
     "output_type": "display_data"
    },
    {
     "data": {
      "text/html": [
       "<pre>  Optimizing model using SGD; tuning step size.</pre>"
      ],
      "text/plain": [
       "  Optimizing model using SGD; tuning step size."
      ]
     },
     "metadata": {},
     "output_type": "display_data"
    },
    {
     "data": {
      "text/html": [
       "<pre>  Using 10000 / 72020 points for tuning the step size.</pre>"
      ],
      "text/plain": [
       "  Using 10000 / 72020 points for tuning the step size."
      ]
     },
     "metadata": {},
     "output_type": "display_data"
    },
    {
     "data": {
      "text/html": [
       "<pre>+---------+-------------------+------------------------------------------+</pre>"
      ],
      "text/plain": [
       "+---------+-------------------+------------------------------------------+"
      ]
     },
     "metadata": {},
     "output_type": "display_data"
    },
    {
     "data": {
      "text/html": [
       "<pre>| Attempt | Initial Step Size | Estimated Objective Value                |</pre>"
      ],
      "text/plain": [
       "| Attempt | Initial Step Size | Estimated Objective Value                |"
      ]
     },
     "metadata": {},
     "output_type": "display_data"
    },
    {
     "data": {
      "text/html": [
       "<pre>+---------+-------------------+------------------------------------------+</pre>"
      ],
      "text/plain": [
       "+---------+-------------------+------------------------------------------+"
      ]
     },
     "metadata": {},
     "output_type": "display_data"
    },
    {
     "data": {
      "text/html": [
       "<pre>| 0       | 25                | No Decrease (55.2381 >= 24.8423)         |</pre>"
      ],
      "text/plain": [
       "| 0       | 25                | No Decrease (55.2381 >= 24.8423)         |"
      ]
     },
     "metadata": {},
     "output_type": "display_data"
    },
    {
     "data": {
      "text/html": [
       "<pre>| 1       | 6.25              | No Decrease (50.1135 >= 24.8423)         |</pre>"
      ],
      "text/plain": [
       "| 1       | 6.25              | No Decrease (50.1135 >= 24.8423)         |"
      ]
     },
     "metadata": {},
     "output_type": "display_data"
    },
    {
     "data": {
      "text/html": [
       "<pre>| 2       | 1.5625            | No Decrease (47.9922 >= 24.8423)         |</pre>"
      ],
      "text/plain": [
       "| 2       | 1.5625            | No Decrease (47.9922 >= 24.8423)         |"
      ]
     },
     "metadata": {},
     "output_type": "display_data"
    },
    {
     "data": {
      "text/html": [
       "<pre>| 3       | 0.390625          | No Decrease (24.8785 >= 24.8423)         |</pre>"
      ],
      "text/plain": [
       "| 3       | 0.390625          | No Decrease (24.8785 >= 24.8423)         |"
      ]
     },
     "metadata": {},
     "output_type": "display_data"
    },
    {
     "data": {
      "text/html": [
       "<pre>| 4       | 0.0976562         | 8.32413                                  |</pre>"
      ],
      "text/plain": [
       "| 4       | 0.0976562         | 8.32413                                  |"
      ]
     },
     "metadata": {},
     "output_type": "display_data"
    },
    {
     "data": {
      "text/html": [
       "<pre>| 5       | 0.0488281         | 3.50536                                  |</pre>"
      ],
      "text/plain": [
       "| 5       | 0.0488281         | 3.50536                                  |"
      ]
     },
     "metadata": {},
     "output_type": "display_data"
    },
    {
     "data": {
      "text/html": [
       "<pre>| 6       | 0.0244141         | 3.74923                                  |</pre>"
      ],
      "text/plain": [
       "| 6       | 0.0244141         | 3.74923                                  |"
      ]
     },
     "metadata": {},
     "output_type": "display_data"
    },
    {
     "data": {
      "text/html": [
       "<pre>| 7       | 0.012207          | 10.58                                    |</pre>"
      ],
      "text/plain": [
       "| 7       | 0.012207          | 10.58                                    |"
      ]
     },
     "metadata": {},
     "output_type": "display_data"
    },
    {
     "data": {
      "text/html": [
       "<pre>+---------+-------------------+------------------------------------------+</pre>"
      ],
      "text/plain": [
       "+---------+-------------------+------------------------------------------+"
      ]
     },
     "metadata": {},
     "output_type": "display_data"
    },
    {
     "data": {
      "text/html": [
       "<pre>| Final   | 0.0488281         | 3.50536                                  |</pre>"
      ],
      "text/plain": [
       "| Final   | 0.0488281         | 3.50536                                  |"
      ]
     },
     "metadata": {},
     "output_type": "display_data"
    },
    {
     "data": {
      "text/html": [
       "<pre>+---------+-------------------+------------------------------------------+</pre>"
      ],
      "text/plain": [
       "+---------+-------------------+------------------------------------------+"
      ]
     },
     "metadata": {},
     "output_type": "display_data"
    },
    {
     "data": {
      "text/html": [
       "<pre>Starting Optimization.</pre>"
      ],
      "text/plain": [
       "Starting Optimization."
      ]
     },
     "metadata": {},
     "output_type": "display_data"
    },
    {
     "data": {
      "text/html": [
       "<pre>+---------+--------------+-------------------+-----------------------+-------------+</pre>"
      ],
      "text/plain": [
       "+---------+--------------+-------------------+-----------------------+-------------+"
      ]
     },
     "metadata": {},
     "output_type": "display_data"
    },
    {
     "data": {
      "text/html": [
       "<pre>| Iter.   | Elapsed Time | Approx. Objective | Approx. Training RMSE | Step Size   |</pre>"
      ],
      "text/plain": [
       "| Iter.   | Elapsed Time | Approx. Objective | Approx. Training RMSE | Step Size   |"
      ]
     },
     "metadata": {},
     "output_type": "display_data"
    },
    {
     "data": {
      "text/html": [
       "<pre>+---------+--------------+-------------------+-----------------------+-------------+</pre>"
      ],
      "text/plain": [
       "+---------+--------------+-------------------+-----------------------+-------------+"
      ]
     },
     "metadata": {},
     "output_type": "display_data"
    },
    {
     "data": {
      "text/html": [
       "<pre>| Initial | 500us        | 23.6553           | 4.86367               |             |</pre>"
      ],
      "text/plain": [
       "| Initial | 500us        | 23.6553           | 4.86367               |             |"
      ]
     },
     "metadata": {},
     "output_type": "display_data"
    },
    {
     "data": {
      "text/html": [
       "<pre>+---------+--------------+-------------------+-----------------------+-------------+</pre>"
      ],
      "text/plain": [
       "+---------+--------------+-------------------+-----------------------+-------------+"
      ]
     },
     "metadata": {},
     "output_type": "display_data"
    },
    {
     "data": {
      "text/html": [
       "<pre>| 1       | 53.537ms     | 20.4463           | 4.52171               | 0.0488281   |</pre>"
      ],
      "text/plain": [
       "| 1       | 53.537ms     | 20.4463           | 4.52171               | 0.0488281   |"
      ]
     },
     "metadata": {},
     "output_type": "display_data"
    },
    {
     "data": {
      "text/html": [
       "<pre>| 2       | 116.082ms    | 15.5712           | 3.94598               | 0.0290334   |</pre>"
      ],
      "text/plain": [
       "| 2       | 116.082ms    | 15.5712           | 3.94598               | 0.0290334   |"
      ]
     },
     "metadata": {},
     "output_type": "display_data"
    },
    {
     "data": {
      "text/html": [
       "<pre>| 3       | 168.619ms    | 13.2576           | 3.64104               | 0.0214205   |</pre>"
      ],
      "text/plain": [
       "| 3       | 168.619ms    | 13.2576           | 3.64104               | 0.0214205   |"
      ]
     },
     "metadata": {},
     "output_type": "display_data"
    },
    {
     "data": {
      "text/html": [
       "<pre>| 4       | 258.183ms    | 11.2479           | 3.35373               | 0.0172633   |</pre>"
      ],
      "text/plain": [
       "| 4       | 258.183ms    | 11.2479           | 3.35373               | 0.0172633   |"
      ]
     },
     "metadata": {},
     "output_type": "display_data"
    },
    {
     "data": {
      "text/html": [
       "<pre>| 5       | 308.219ms    | 9.65214           | 3.10672               | 0.014603    |</pre>"
      ],
      "text/plain": [
       "| 5       | 308.219ms    | 9.65214           | 3.10672               | 0.014603    |"
      ]
     },
     "metadata": {},
     "output_type": "display_data"
    },
    {
     "data": {
      "text/html": [
       "<pre>| 6       | 379.769ms    | 8.17796           | 2.85964               | 0.0127367   |</pre>"
      ],
      "text/plain": [
       "| 6       | 379.769ms    | 8.17796           | 2.85964               | 0.0127367   |"
      ]
     },
     "metadata": {},
     "output_type": "display_data"
    },
    {
     "data": {
      "text/html": [
       "<pre>| 11      | 674.979ms    | 4.15051           | 2.03719               | 0.00808399  |</pre>"
      ],
      "text/plain": [
       "| 11      | 674.979ms    | 4.15051           | 2.03719               | 0.00808399  |"
      ]
     },
     "metadata": {},
     "output_type": "display_data"
    },
    {
     "data": {
      "text/html": [
       "<pre>| 25      | 1.46s        | 2.11297           | 1.45349               | 0.00367246  |</pre>"
      ],
      "text/plain": [
       "| 25      | 1.46s        | 2.11297           | 1.45349               | 0.00367246  |"
      ]
     },
     "metadata": {},
     "output_type": "display_data"
    },
    {
     "data": {
      "text/html": [
       "<pre>| 50      | 2.59s        | 1.66094           | 1.28865               | 0.00038602  |</pre>"
      ],
      "text/plain": [
       "| 50      | 2.59s        | 1.66094           | 1.28865               | 0.00038602  |"
      ]
     },
     "metadata": {},
     "output_type": "display_data"
    },
    {
     "data": {
      "text/html": [
       "<pre>+---------+--------------+-------------------+-----------------------+-------------+</pre>"
      ],
      "text/plain": [
       "+---------+--------------+-------------------+-----------------------+-------------+"
      ]
     },
     "metadata": {},
     "output_type": "display_data"
    },
    {
     "data": {
      "text/html": [
       "<pre>Optimization Complete: Maximum number of passes through the data reached.</pre>"
      ],
      "text/plain": [
       "Optimization Complete: Maximum number of passes through the data reached."
      ]
     },
     "metadata": {},
     "output_type": "display_data"
    },
    {
     "data": {
      "text/html": [
       "<pre>Computing final objective value and training RMSE.</pre>"
      ],
      "text/plain": [
       "Computing final objective value and training RMSE."
      ]
     },
     "metadata": {},
     "output_type": "display_data"
    },
    {
     "data": {
      "text/html": [
       "<pre>       Final objective value: 1.62189</pre>"
      ],
      "text/plain": [
       "       Final objective value: 1.62189"
      ]
     },
     "metadata": {},
     "output_type": "display_data"
    },
    {
     "data": {
      "text/html": [
       "<pre>       Final training RMSE: 1.27341</pre>"
      ],
      "text/plain": [
       "       Final training RMSE: 1.27341"
      ]
     },
     "metadata": {},
     "output_type": "display_data"
    }
   ],
   "source": [
    "sgd5_f= gl.recommender.factorization_recommender.create(train_f,user_id='user_id',item_id='cuisine',target='count', user_data=None,\n",
    "                                                item_data=None,num_factors=5, regularization=1e-08, linear_regularization=1e-10, \n",
    "                                                side_data_factorization=True, nmf=False, binary_target=False, \n",
    "                                                max_iterations=50, sgd_step_size=0, random_seed=0,\n",
    "                                                solver='sgd', verbose=True)"
   ]
  },
  {
   "cell_type": "code",
   "execution_count": 36,
   "metadata": {
    "collapsed": false
   },
   "outputs": [
    {
     "name": "stdout",
     "output_type": "stream",
     "text": [
      "\n",
      "Precision and recall summary statistics by cutoff\n",
      "+--------+-----------------+----------------+\n",
      "| cutoff |  mean_precision |  mean_recall   |\n",
      "+--------+-----------------+----------------+\n",
      "|   1    |     0.359375    | 0.304166666667 |\n",
      "|   2    |     0.228125    | 0.373411458333 |\n",
      "|   3    |     0.165625    |  0.404921875   |\n",
      "|   4    |    0.13359375   |  0.435390625   |\n",
      "|   5    |      0.1175     | 0.473541666667 |\n",
      "|   6    |  0.105208333333 |  0.508046875   |\n",
      "|   7    | 0.0910714285714 |  0.511796875   |\n",
      "|   8    |   0.080859375   |  0.521171875   |\n",
      "|   9    | 0.0732638888889 | 0.529244791667 |\n",
      "|   10   |     0.066875    | 0.538619791667 |\n",
      "+--------+-----------------+----------------+\n",
      "[10 rows x 3 columns]\n",
      "\n",
      "('\\nOverall RMSE: ', 3.978884021258686)\n",
      "\n",
      "Per User RMSE (best)\n",
      "+------------------------+-------+-----------------+\n",
      "|        user_id         | count |       rmse      |\n",
      "+------------------------+-------+-----------------+\n",
      "| vaQXDDNpgzPSX4i0FLujHg |   1   | 0.0126907939085 |\n",
      "+------------------------+-------+-----------------+\n",
      "[1 rows x 3 columns]\n",
      "\n",
      "\n",
      "Per User RMSE (worst)\n",
      "+------------------------+-------+--------------+\n",
      "|        user_id         | count |     rmse     |\n",
      "+------------------------+-------+--------------+\n",
      "| RtXYLYuI5qReCOSqTGDXOQ |   2   | 15.407435289 |\n",
      "+------------------------+-------+--------------+\n",
      "[1 rows x 3 columns]\n",
      "\n",
      "\n",
      "Per Item RMSE (best)\n",
      "+---------+-------+-----------------+\n",
      "| cuisine | count |       rmse      |\n",
      "+---------+-------+-----------------+\n",
      "|  Irish  |   1   | 0.0613598709933 |\n",
      "+---------+-------+-----------------+\n",
      "[1 rows x 3 columns]\n",
      "\n",
      "\n",
      "Per Item RMSE (worst)\n",
      "+---------+-------+--------------+\n",
      "| cuisine | count |     rmse     |\n",
      "+---------+-------+--------------+\n",
      "| British |   1   | 17.514826048 |\n",
      "+---------+-------+--------------+\n",
      "[1 rows x 3 columns]\n",
      "\n"
     ]
    },
    {
     "data": {
      "text/plain": [
       "{'precision_recall_by_user': Columns:\n",
       " \tuser_id\tstr\n",
       " \tcutoff\tint\n",
       " \tprecision\tfloat\n",
       " \trecall\tfloat\n",
       " \tcount\tint\n",
       " \n",
       " Rows: 5760\n",
       " \n",
       " Data:\n",
       " +------------------------+--------+----------------+--------+-------+\n",
       " |        user_id         | cutoff |   precision    | recall | count |\n",
       " +------------------------+--------+----------------+--------+-------+\n",
       " | -2EuoueswhqEERWezJY8gw |   1    |      1.0       |  1.0   |   1   |\n",
       " | -2EuoueswhqEERWezJY8gw |   2    |      0.5       |  1.0   |   1   |\n",
       " | -2EuoueswhqEERWezJY8gw |   3    | 0.333333333333 |  1.0   |   1   |\n",
       " | -2EuoueswhqEERWezJY8gw |   4    |      0.25      |  1.0   |   1   |\n",
       " | -2EuoueswhqEERWezJY8gw |   5    |      0.2       |  1.0   |   1   |\n",
       " | -2EuoueswhqEERWezJY8gw |   6    | 0.166666666667 |  1.0   |   1   |\n",
       " | -2EuoueswhqEERWezJY8gw |   7    | 0.142857142857 |  1.0   |   1   |\n",
       " | -2EuoueswhqEERWezJY8gw |   8    |     0.125      |  1.0   |   1   |\n",
       " | -2EuoueswhqEERWezJY8gw |   9    | 0.111111111111 |  1.0   |   1   |\n",
       " | -2EuoueswhqEERWezJY8gw |   10   |      0.1       |  1.0   |   1   |\n",
       " +------------------------+--------+----------------+--------+-------+\n",
       " [5760 rows x 5 columns]\n",
       " Note: Only the head of the SFrame is printed.\n",
       " You can use print_rows(num_rows=m, num_columns=n) to print more rows and columns.,\n",
       " 'precision_recall_overall': Columns:\n",
       " \tcutoff\tint\n",
       " \tprecision\tfloat\n",
       " \trecall\tfloat\n",
       " \n",
       " Rows: 18\n",
       " \n",
       " Data:\n",
       " +--------+-----------------+----------------+\n",
       " | cutoff |    precision    |     recall     |\n",
       " +--------+-----------------+----------------+\n",
       " |   1    |     0.359375    | 0.304166666667 |\n",
       " |   2    |     0.228125    | 0.373411458333 |\n",
       " |   3    |     0.165625    |  0.404921875   |\n",
       " |   4    |    0.13359375   |  0.435390625   |\n",
       " |   5    |      0.1175     | 0.473541666667 |\n",
       " |   6    |  0.105208333333 |  0.508046875   |\n",
       " |   7    | 0.0910714285714 |  0.511796875   |\n",
       " |   8    |   0.080859375   |  0.521171875   |\n",
       " |   9    | 0.0732638888889 | 0.529244791667 |\n",
       " |   10   |     0.066875    | 0.538619791667 |\n",
       " +--------+-----------------+----------------+\n",
       " [18 rows x 3 columns]\n",
       " Note: Only the head of the SFrame is printed.\n",
       " You can use print_rows(num_rows=m, num_columns=n) to print more rows and columns.,\n",
       " 'rmse_by_item': Columns:\n",
       " \tcuisine\tstr\n",
       " \tcount\tint\n",
       " \trmse\tfloat\n",
       " \n",
       " Rows: 43\n",
       " \n",
       " Data:\n",
       " +-------------+-------+-----------------+\n",
       " |   cuisine   | count |       rmse      |\n",
       " +-------------+-------+-----------------+\n",
       " | Gluten-Free |   2   |  0.445205267786 |\n",
       " |   American  |  107  |  5.42952648875  |\n",
       " |    Diners   |   5   |  1.14487356257  |\n",
       " |    French   |   7   |  5.71228102703  |\n",
       " |    Indian   |   1   |  0.441518019699 |\n",
       " |  Gastropubs |   1   |  16.0728665477  |\n",
       " |  Vietnamese |   11  |   1.6397659183  |\n",
       " |    Vegan    |   2   |  1.28592514785  |\n",
       " |    Delis    |   4   |  1.77035710272  |\n",
       " |    Irish    |   1   | 0.0613598709933 |\n",
       " +-------------+-------+-----------------+\n",
       " [43 rows x 3 columns]\n",
       " Note: Only the head of the SFrame is printed.\n",
       " You can use print_rows(num_rows=m, num_columns=n) to print more rows and columns.,\n",
       " 'rmse_by_user': Columns:\n",
       " \tuser_id\tstr\n",
       " \tcount\tint\n",
       " \trmse\tfloat\n",
       " \n",
       " Rows: 320\n",
       " \n",
       " Data:\n",
       " +------------------------+-------+----------------+\n",
       " |        user_id         | count |      rmse      |\n",
       " +------------------------+-------+----------------+\n",
       " | hB0XY4B9ps6ALpBD2k_ZgQ |   1   | 5.80124522392  |\n",
       " | ymkGNo_fv52yBKi8CEYmdQ |   1   | 2.61867450532  |\n",
       " | -NKOZhif-28E2Vdse_FZYw |   1   | 0.308877002633 |\n",
       " | 5Ka8MMYEoZfsU-jZzUt00Q |   1   | 2.44567404333  |\n",
       " | 25j8Nr0qQVlLhv2BywxL7g |   1   | 0.987309206092 |\n",
       " | hABpw8W5tu6FgUhmh-tvjQ |   3   | 3.48948327273  |\n",
       " | KWrKHaLM2Q8OVeJAs88eow |   1   | 1.33388302866  |\n",
       " | yuPBS3fak77lgwO_9SXVYQ |   1   | 1.68584631737  |\n",
       " | 8h5EXsiEuK5_igQ0cgxPZQ |   1   | 1.20709525403  |\n",
       " | y_FoL3sc9vdjwwzthw8qBA |   1   | 1.24470562879  |\n",
       " +------------------------+-------+----------------+\n",
       " [320 rows x 3 columns]\n",
       " Note: Only the head of the SFrame is printed.\n",
       " You can use print_rows(num_rows=m, num_columns=n) to print more rows and columns.,\n",
       " 'rmse_overall': 3.978884021258686}"
      ]
     },
     "execution_count": 36,
     "metadata": {},
     "output_type": "execute_result"
    }
   ],
   "source": [
    "sgd5_f.evaluate(test_f)"
   ]
  },
  {
   "cell_type": "code",
   "execution_count": 37,
   "metadata": {
    "collapsed": false
   },
   "outputs": [
    {
     "name": "stdout",
     "output_type": "stream",
     "text": [
      "Canvas is updated and available in a tab in the default browser.\n"
     ]
    }
   ],
   "source": [
    "sgd5_f.show()"
   ]
  },
  {
   "cell_type": "code",
   "execution_count": 41,
   "metadata": {
    "collapsed": false
   },
   "outputs": [
    {
     "data": {
      "text/html": [
       "<pre>Recsys training: model = factorization_recommender</pre>"
      ],
      "text/plain": [
       "Recsys training: model = factorization_recommender"
      ]
     },
     "metadata": {},
     "output_type": "display_data"
    },
    {
     "data": {
      "text/html": [
       "<pre>Preparing data set.</pre>"
      ],
      "text/plain": [
       "Preparing data set."
      ]
     },
     "metadata": {},
     "output_type": "display_data"
    },
    {
     "data": {
      "text/html": [
       "<pre>    Data has 72020 observations with 31449 users and 89 items.</pre>"
      ],
      "text/plain": [
       "    Data has 72020 observations with 31449 users and 89 items."
      ]
     },
     "metadata": {},
     "output_type": "display_data"
    },
    {
     "data": {
      "text/html": [
       "<pre>    Data prepared in: 0.168619s</pre>"
      ],
      "text/plain": [
       "    Data prepared in: 0.168619s"
      ]
     },
     "metadata": {},
     "output_type": "display_data"
    },
    {
     "data": {
      "text/html": [
       "<pre>Training factorization_recommender for recommendations.</pre>"
      ],
      "text/plain": [
       "Training factorization_recommender for recommendations."
      ]
     },
     "metadata": {},
     "output_type": "display_data"
    },
    {
     "data": {
      "text/html": [
       "<pre>+--------------------------------+--------------------------------------------------+----------+</pre>"
      ],
      "text/plain": [
       "+--------------------------------+--------------------------------------------------+----------+"
      ]
     },
     "metadata": {},
     "output_type": "display_data"
    },
    {
     "data": {
      "text/html": [
       "<pre>| Parameter                      | Description                                      | Value    |</pre>"
      ],
      "text/plain": [
       "| Parameter                      | Description                                      | Value    |"
      ]
     },
     "metadata": {},
     "output_type": "display_data"
    },
    {
     "data": {
      "text/html": [
       "<pre>+--------------------------------+--------------------------------------------------+----------+</pre>"
      ],
      "text/plain": [
       "+--------------------------------+--------------------------------------------------+----------+"
      ]
     },
     "metadata": {},
     "output_type": "display_data"
    },
    {
     "data": {
      "text/html": [
       "<pre>| num_factors                    | Factor Dimension                                 | 50       |</pre>"
      ],
      "text/plain": [
       "| num_factors                    | Factor Dimension                                 | 50       |"
      ]
     },
     "metadata": {},
     "output_type": "display_data"
    },
    {
     "data": {
      "text/html": [
       "<pre>| regularization                 | L2 Regularization on Factors                     | 1e-008   |</pre>"
      ],
      "text/plain": [
       "| regularization                 | L2 Regularization on Factors                     | 1e-008   |"
      ]
     },
     "metadata": {},
     "output_type": "display_data"
    },
    {
     "data": {
      "text/html": [
       "<pre>| solver                         | Solver used for training                         | sgd      |</pre>"
      ],
      "text/plain": [
       "| solver                         | Solver used for training                         | sgd      |"
      ]
     },
     "metadata": {},
     "output_type": "display_data"
    },
    {
     "data": {
      "text/html": [
       "<pre>| linear_regularization          | L2 Regularization on Linear Coefficients         | 1e-010   |</pre>"
      ],
      "text/plain": [
       "| linear_regularization          | L2 Regularization on Linear Coefficients         | 1e-010   |"
      ]
     },
     "metadata": {},
     "output_type": "display_data"
    },
    {
     "data": {
      "text/html": [
       "<pre>| max_iterations                 | Maximum Number of Iterations                     | 50       |</pre>"
      ],
      "text/plain": [
       "| max_iterations                 | Maximum Number of Iterations                     | 50       |"
      ]
     },
     "metadata": {},
     "output_type": "display_data"
    },
    {
     "data": {
      "text/html": [
       "<pre>+--------------------------------+--------------------------------------------------+----------+</pre>"
      ],
      "text/plain": [
       "+--------------------------------+--------------------------------------------------+----------+"
      ]
     },
     "metadata": {},
     "output_type": "display_data"
    },
    {
     "data": {
      "text/html": [
       "<pre>  Optimizing model using SGD; tuning step size.</pre>"
      ],
      "text/plain": [
       "  Optimizing model using SGD; tuning step size."
      ]
     },
     "metadata": {},
     "output_type": "display_data"
    },
    {
     "data": {
      "text/html": [
       "<pre>  Using 10000 / 72020 points for tuning the step size.</pre>"
      ],
      "text/plain": [
       "  Using 10000 / 72020 points for tuning the step size."
      ]
     },
     "metadata": {},
     "output_type": "display_data"
    },
    {
     "data": {
      "text/html": [
       "<pre>+---------+-------------------+------------------------------------------+</pre>"
      ],
      "text/plain": [
       "+---------+-------------------+------------------------------------------+"
      ]
     },
     "metadata": {},
     "output_type": "display_data"
    },
    {
     "data": {
      "text/html": [
       "<pre>| Attempt | Initial Step Size | Estimated Objective Value                |</pre>"
      ],
      "text/plain": [
       "| Attempt | Initial Step Size | Estimated Objective Value                |"
      ]
     },
     "metadata": {},
     "output_type": "display_data"
    },
    {
     "data": {
      "text/html": [
       "<pre>+---------+-------------------+------------------------------------------+</pre>"
      ],
      "text/plain": [
       "+---------+-------------------+------------------------------------------+"
      ]
     },
     "metadata": {},
     "output_type": "display_data"
    },
    {
     "data": {
      "text/html": [
       "<pre>| 0       | 25                | Not Viable                               |</pre>"
      ],
      "text/plain": [
       "| 0       | 25                | Not Viable                               |"
      ]
     },
     "metadata": {},
     "output_type": "display_data"
    },
    {
     "data": {
      "text/html": [
       "<pre>| 1       | 6.25              | Not Viable                               |</pre>"
      ],
      "text/plain": [
       "| 1       | 6.25              | Not Viable                               |"
      ]
     },
     "metadata": {},
     "output_type": "display_data"
    },
    {
     "data": {
      "text/html": [
       "<pre>| 2       | 1.5625            | Not Viable                               |</pre>"
      ],
      "text/plain": [
       "| 2       | 1.5625            | Not Viable                               |"
      ]
     },
     "metadata": {},
     "output_type": "display_data"
    },
    {
     "data": {
      "text/html": [
       "<pre>| 3       | 0.390625          | Not Viable                               |</pre>"
      ],
      "text/plain": [
       "| 3       | 0.390625          | Not Viable                               |"
      ]
     },
     "metadata": {},
     "output_type": "display_data"
    },
    {
     "data": {
      "text/html": [
       "<pre>| 4       | 0.0976562         | Not Viable                               |</pre>"
      ],
      "text/plain": [
       "| 4       | 0.0976562         | Not Viable                               |"
      ]
     },
     "metadata": {},
     "output_type": "display_data"
    },
    {
     "data": {
      "text/html": [
       "<pre>| 5       | 0.0244141         | 7.19989                                  |</pre>"
      ],
      "text/plain": [
       "| 5       | 0.0244141         | 7.19989                                  |"
      ]
     },
     "metadata": {},
     "output_type": "display_data"
    },
    {
     "data": {
      "text/html": [
       "<pre>| 6       | 0.012207          | 16.4557                                  |</pre>"
      ],
      "text/plain": [
       "| 6       | 0.012207          | 16.4557                                  |"
      ]
     },
     "metadata": {},
     "output_type": "display_data"
    },
    {
     "data": {
      "text/html": [
       "<pre>+---------+-------------------+------------------------------------------+</pre>"
      ],
      "text/plain": [
       "+---------+-------------------+------------------------------------------+"
      ]
     },
     "metadata": {},
     "output_type": "display_data"
    },
    {
     "data": {
      "text/html": [
       "<pre>| Final   | 0.0244141         | 7.19989                                  |</pre>"
      ],
      "text/plain": [
       "| Final   | 0.0244141         | 7.19989                                  |"
      ]
     },
     "metadata": {},
     "output_type": "display_data"
    },
    {
     "data": {
      "text/html": [
       "<pre>+---------+-------------------+------------------------------------------+</pre>"
      ],
      "text/plain": [
       "+---------+-------------------+------------------------------------------+"
      ]
     },
     "metadata": {},
     "output_type": "display_data"
    },
    {
     "data": {
      "text/html": [
       "<pre>Starting Optimization.</pre>"
      ],
      "text/plain": [
       "Starting Optimization."
      ]
     },
     "metadata": {},
     "output_type": "display_data"
    },
    {
     "data": {
      "text/html": [
       "<pre>+---------+--------------+-------------------+-----------------------+-------------+</pre>"
      ],
      "text/plain": [
       "+---------+--------------+-------------------+-----------------------+-------------+"
      ]
     },
     "metadata": {},
     "output_type": "display_data"
    },
    {
     "data": {
      "text/html": [
       "<pre>| Iter.   | Elapsed Time | Approx. Objective | Approx. Training RMSE | Step Size   |</pre>"
      ],
      "text/plain": [
       "| Iter.   | Elapsed Time | Approx. Objective | Approx. Training RMSE | Step Size   |"
      ]
     },
     "metadata": {},
     "output_type": "display_data"
    },
    {
     "data": {
      "text/html": [
       "<pre>+---------+--------------+-------------------+-----------------------+-------------+</pre>"
      ],
      "text/plain": [
       "+---------+--------------+-------------------+-----------------------+-------------+"
      ]
     },
     "metadata": {},
     "output_type": "display_data"
    },
    {
     "data": {
      "text/html": [
       "<pre>| Initial | 0us          | 23.6552           | 4.86367               |             |</pre>"
      ],
      "text/plain": [
       "| Initial | 0us          | 23.6552           | 4.86367               |             |"
      ]
     },
     "metadata": {},
     "output_type": "display_data"
    },
    {
     "data": {
      "text/html": [
       "<pre>+---------+--------------+-------------------+-----------------------+-------------+</pre>"
      ],
      "text/plain": [
       "+---------+--------------+-------------------+-----------------------+-------------+"
      ]
     },
     "metadata": {},
     "output_type": "display_data"
    },
    {
     "data": {
      "text/html": [
       "<pre>| 1       | 74.551ms     | DIVERGED          | DIVERGED              | 0.0244141   |</pre>"
      ],
      "text/plain": [
       "| 1       | 74.551ms     | DIVERGED          | DIVERGED              | 0.0244141   |"
      ]
     },
     "metadata": {},
     "output_type": "display_data"
    },
    {
     "data": {
      "text/html": [
       "<pre>| RESET   | 232.665ms    | 23.6551           | 4.86365               |             |</pre>"
      ],
      "text/plain": [
       "| RESET   | 232.665ms    | 23.6551           | 4.86365               |             |"
      ]
     },
     "metadata": {},
     "output_type": "display_data"
    },
    {
     "data": {
      "text/html": [
       "<pre>| 1       | 283.2ms      | 18.3802           | 4.28716               | 0.012207    |</pre>"
      ],
      "text/plain": [
       "| 1       | 283.2ms      | 18.3802           | 4.28716               | 0.012207    |"
      ]
     },
     "metadata": {},
     "output_type": "display_data"
    },
    {
     "data": {
      "text/html": [
       "<pre>| 2       | 396.282ms    | 13.5841           | 3.68558               | 0.00725834  |</pre>"
      ],
      "text/plain": [
       "| 2       | 396.282ms    | 13.5841           | 3.68558               | 0.00725834  |"
      ]
     },
     "metadata": {},
     "output_type": "display_data"
    },
    {
     "data": {
      "text/html": [
       "<pre>| 3       | 491.349ms    | 7.4348            | 2.72656               | 0.00535512  |</pre>"
      ],
      "text/plain": [
       "| 3       | 491.349ms    | 7.4348            | 2.72656               | 0.00535512  |"
      ]
     },
     "metadata": {},
     "output_type": "display_data"
    },
    {
     "data": {
      "text/html": [
       "<pre>| 4       | 570.404ms    | 4.3851            | 2.09391               | 0.00431584  |</pre>"
      ],
      "text/plain": [
       "| 4       | 570.404ms    | 4.3851            | 2.09391               | 0.00431584  |"
      ]
     },
     "metadata": {},
     "output_type": "display_data"
    },
    {
     "data": {
      "text/html": [
       "<pre>| 5       | 664.972ms    | 2.30771           | 1.5189                | 0.00365075  |</pre>"
      ],
      "text/plain": [
       "| 5       | 664.972ms    | 2.30771           | 1.5189                | 0.00365075  |"
      ]
     },
     "metadata": {},
     "output_type": "display_data"
    },
    {
     "data": {
      "text/html": [
       "<pre>| 6       | 735.021ms    | 1.36459           | 1.16787               | 0.00318417  |</pre>"
      ],
      "text/plain": [
       "| 6       | 735.021ms    | 1.36459           | 1.16787               | 0.00318417  |"
      ]
     },
     "metadata": {},
     "output_type": "display_data"
    },
    {
     "data": {
      "text/html": [
       "<pre>| 11      | 1.12s        | 0.273006          | 0.521861              | 0.002021    |</pre>"
      ],
      "text/plain": [
       "| 11      | 1.12s        | 0.273006          | 0.521861              | 0.002021    |"
      ]
     },
     "metadata": {},
     "output_type": "display_data"
    },
    {
     "data": {
      "text/html": [
       "<pre>| 24      | 1.89s        | 0.0608238         | 0.245261              | 0.00112578  |</pre>"
      ],
      "text/plain": [
       "| 24      | 1.89s        | 0.0608238         | 0.245261              | 0.00112578  |"
      ]
     },
     "metadata": {},
     "output_type": "display_data"
    },
    {
     "data": {
      "text/html": [
       "<pre>| 49      | 4.04s        | 0.0203972         | 0.140442              | 0.000659118 |</pre>"
      ],
      "text/plain": [
       "| 49      | 4.04s        | 0.0203972         | 0.140442              | 0.000659118 |"
      ]
     },
     "metadata": {},
     "output_type": "display_data"
    },
    {
     "data": {
      "text/html": [
       "<pre>+---------+--------------+-------------------+-----------------------+-------------+</pre>"
      ],
      "text/plain": [
       "+---------+--------------+-------------------+-----------------------+-------------+"
      ]
     },
     "metadata": {},
     "output_type": "display_data"
    },
    {
     "data": {
      "text/html": [
       "<pre>Optimization Complete: Maximum number of passes through the data reached.</pre>"
      ],
      "text/plain": [
       "Optimization Complete: Maximum number of passes through the data reached."
      ]
     },
     "metadata": {},
     "output_type": "display_data"
    },
    {
     "data": {
      "text/html": [
       "<pre>Computing final objective value and training RMSE.</pre>"
      ],
      "text/plain": [
       "Computing final objective value and training RMSE."
      ]
     },
     "metadata": {},
     "output_type": "display_data"
    },
    {
     "data": {
      "text/html": [
       "<pre>       Final objective value: 0.0187345</pre>"
      ],
      "text/plain": [
       "       Final objective value: 0.0187345"
      ]
     },
     "metadata": {},
     "output_type": "display_data"
    },
    {
     "data": {
      "text/html": [
       "<pre>       Final training RMSE: 0.134392</pre>"
      ],
      "text/plain": [
       "       Final training RMSE: 0.134392"
      ]
     },
     "metadata": {},
     "output_type": "display_data"
    }
   ],
   "source": [
    "sgd50_f= gl.recommender.factorization_recommender.create(train_f,user_id='user_id',item_id='cuisine',target='count', user_data=None,\n",
    "                                                item_data=None,num_factors=50, regularization=1e-08, linear_regularization=1e-10, \n",
    "                                                side_data_factorization=True, nmf=False, binary_target=False, \n",
    "                                                max_iterations=50, sgd_step_size=0, random_seed=0,\n",
    "                                                solver='sgd', verbose=True)"
   ]
  },
  {
   "cell_type": "code",
   "execution_count": 42,
   "metadata": {
    "collapsed": false
   },
   "outputs": [
    {
     "name": "stdout",
     "output_type": "stream",
     "text": [
      "\n",
      "Precision and recall summary statistics by cutoff\n",
      "+--------+-----------------+----------------+\n",
      "| cutoff |  mean_precision |  mean_recall   |\n",
      "+--------+-----------------+----------------+\n",
      "|   1    |     0.359375    |   0.30078125   |\n",
      "|   2    |    0.2046875    |    0.328125    |\n",
      "|   3    |  0.161458333333 |   0.38359375   |\n",
      "|   4    |    0.12890625   | 0.403645833333 |\n",
      "|   5    |     0.105625    | 0.411979166667 |\n",
      "|   6    | 0.0880208333333 | 0.411979166667 |\n",
      "|   7    | 0.0776785714286 | 0.424479166667 |\n",
      "|   8    |   0.069921875   | 0.433723958333 |\n",
      "|   9    | 0.0642361111111 | 0.439973958333 |\n",
      "|   10   |    0.0590625    | 0.447239583333 |\n",
      "+--------+-----------------+----------------+\n",
      "[10 rows x 3 columns]\n",
      "\n",
      "('\\nOverall RMSE: ', 2.9691830435063613)\n",
      "\n",
      "Per User RMSE (best)\n",
      "+------------------------+-------+-----------------+\n",
      "|        user_id         | count |       rmse      |\n",
      "+------------------------+-------+-----------------+\n",
      "| i94JgBKT4T7pGco7W1S0OA |   1   | 0.0367220567533 |\n",
      "+------------------------+-------+-----------------+\n",
      "[1 rows x 3 columns]\n",
      "\n",
      "\n",
      "Per User RMSE (worst)\n",
      "+------------------------+-------+---------------+\n",
      "|        user_id         | count |      rmse     |\n",
      "+------------------------+-------+---------------+\n",
      "| RtXYLYuI5qReCOSqTGDXOQ |   2   | 14.8509084916 |\n",
      "+------------------------+-------+---------------+\n",
      "[1 rows x 3 columns]\n",
      "\n",
      "\n",
      "Per Item RMSE (best)\n",
      "+---------+-------+----------------+\n",
      "| cuisine | count |      rmse      |\n",
      "+---------+-------+----------------+\n",
      "| Belgian |   1   | 0.299928348697 |\n",
      "+---------+-------+----------------+\n",
      "[1 rows x 3 columns]\n",
      "\n",
      "\n",
      "Per Item RMSE (worst)\n",
      "+------------+-------+---------------+\n",
      "|  cuisine   | count |      rmse     |\n",
      "+------------+-------+---------------+\n",
      "| Gastropubs |   1   | 15.1967623269 |\n",
      "+------------+-------+---------------+\n",
      "[1 rows x 3 columns]\n",
      "\n"
     ]
    },
    {
     "data": {
      "text/plain": [
       "{'precision_recall_by_user': Columns:\n",
       " \tuser_id\tstr\n",
       " \tcutoff\tint\n",
       " \tprecision\tfloat\n",
       " \trecall\tfloat\n",
       " \tcount\tint\n",
       " \n",
       " Rows: 5760\n",
       " \n",
       " Data:\n",
       " +------------------------+--------+----------------+--------+-------+\n",
       " |        user_id         | cutoff |   precision    | recall | count |\n",
       " +------------------------+--------+----------------+--------+-------+\n",
       " | -2EuoueswhqEERWezJY8gw |   1    |      1.0       |  1.0   |   1   |\n",
       " | -2EuoueswhqEERWezJY8gw |   2    |      0.5       |  1.0   |   1   |\n",
       " | -2EuoueswhqEERWezJY8gw |   3    | 0.333333333333 |  1.0   |   1   |\n",
       " | -2EuoueswhqEERWezJY8gw |   4    |      0.25      |  1.0   |   1   |\n",
       " | -2EuoueswhqEERWezJY8gw |   5    |      0.2       |  1.0   |   1   |\n",
       " | -2EuoueswhqEERWezJY8gw |   6    | 0.166666666667 |  1.0   |   1   |\n",
       " | -2EuoueswhqEERWezJY8gw |   7    | 0.142857142857 |  1.0   |   1   |\n",
       " | -2EuoueswhqEERWezJY8gw |   8    |     0.125      |  1.0   |   1   |\n",
       " | -2EuoueswhqEERWezJY8gw |   9    | 0.111111111111 |  1.0   |   1   |\n",
       " | -2EuoueswhqEERWezJY8gw |   10   |      0.1       |  1.0   |   1   |\n",
       " +------------------------+--------+----------------+--------+-------+\n",
       " [5760 rows x 5 columns]\n",
       " Note: Only the head of the SFrame is printed.\n",
       " You can use print_rows(num_rows=m, num_columns=n) to print more rows and columns.,\n",
       " 'precision_recall_overall': Columns:\n",
       " \tcutoff\tint\n",
       " \tprecision\tfloat\n",
       " \trecall\tfloat\n",
       " \n",
       " Rows: 18\n",
       " \n",
       " Data:\n",
       " +--------+-----------------+----------------+\n",
       " | cutoff |    precision    |     recall     |\n",
       " +--------+-----------------+----------------+\n",
       " |   1    |     0.359375    |   0.30078125   |\n",
       " |   2    |    0.2046875    |    0.328125    |\n",
       " |   3    |  0.161458333333 |   0.38359375   |\n",
       " |   4    |    0.12890625   | 0.403645833333 |\n",
       " |   5    |     0.105625    | 0.411979166667 |\n",
       " |   6    | 0.0880208333333 | 0.411979166667 |\n",
       " |   7    | 0.0776785714286 | 0.424479166667 |\n",
       " |   8    |   0.069921875   | 0.433723958333 |\n",
       " |   9    | 0.0642361111111 | 0.439973958333 |\n",
       " |   10   |    0.0590625    | 0.447239583333 |\n",
       " +--------+-----------------+----------------+\n",
       " [18 rows x 3 columns]\n",
       " Note: Only the head of the SFrame is printed.\n",
       " You can use print_rows(num_rows=m, num_columns=n) to print more rows and columns.,\n",
       " 'rmse_by_item': Columns:\n",
       " \tcuisine\tstr\n",
       " \tcount\tint\n",
       " \trmse\tfloat\n",
       " \n",
       " Rows: 43\n",
       " \n",
       " Data:\n",
       " +-------------+-------+----------------+\n",
       " |   cuisine   | count |      rmse      |\n",
       " +-------------+-------+----------------+\n",
       " | Gluten-Free |   2   | 0.386115259967 |\n",
       " |   American  |  107  |  3.6303849733  |\n",
       " |    Diners   |   5   | 0.774583013344 |\n",
       " |    French   |   7   | 5.65587120069  |\n",
       " |    Indian   |   1   | 1.34420904163  |\n",
       " |  Gastropubs |   1   | 15.1967623269  |\n",
       " |  Vietnamese |   11  | 1.62193522795  |\n",
       " |    Vegan    |   2   | 0.864091905162 |\n",
       " |    Delis    |   4   | 1.14494523054  |\n",
       " |    Irish    |   1   | 0.806678924524 |\n",
       " +-------------+-------+----------------+\n",
       " [43 rows x 3 columns]\n",
       " Note: Only the head of the SFrame is printed.\n",
       " You can use print_rows(num_rows=m, num_columns=n) to print more rows and columns.,\n",
       " 'rmse_by_user': Columns:\n",
       " \tuser_id\tstr\n",
       " \tcount\tint\n",
       " \trmse\tfloat\n",
       " \n",
       " Rows: 320\n",
       " \n",
       " Data:\n",
       " +------------------------+-------+----------------+\n",
       " |        user_id         | count |      rmse      |\n",
       " +------------------------+-------+----------------+\n",
       " | hB0XY4B9ps6ALpBD2k_ZgQ |   1   | 3.49198843185  |\n",
       " | ymkGNo_fv52yBKi8CEYmdQ |   1   |  1.7479539698  |\n",
       " | -NKOZhif-28E2Vdse_FZYw |   1   | 0.676499139703 |\n",
       " | 5Ka8MMYEoZfsU-jZzUt00Q |   1   | 5.42038630303  |\n",
       " | 25j8Nr0qQVlLhv2BywxL7g |   1   | 0.92012130078  |\n",
       " | hABpw8W5tu6FgUhmh-tvjQ |   3   | 2.81036287717  |\n",
       " | KWrKHaLM2Q8OVeJAs88eow |   1   | 1.50135829318  |\n",
       " | yuPBS3fak77lgwO_9SXVYQ |   1   | 3.65137248095  |\n",
       " | 8h5EXsiEuK5_igQ0cgxPZQ |   1   | 1.92174250986  |\n",
       " | y_FoL3sc9vdjwwzthw8qBA |   1   | 1.85918085668  |\n",
       " +------------------------+-------+----------------+\n",
       " [320 rows x 3 columns]\n",
       " Note: Only the head of the SFrame is printed.\n",
       " You can use print_rows(num_rows=m, num_columns=n) to print more rows and columns.,\n",
       " 'rmse_overall': 2.9691830435063613}"
      ]
     },
     "execution_count": 42,
     "metadata": {},
     "output_type": "execute_result"
    }
   ],
   "source": [
    "sgd50_f.evaluate(test_f)"
   ]
  },
  {
   "cell_type": "code",
   "execution_count": 40,
   "metadata": {
    "collapsed": false
   },
   "outputs": [
    {
     "name": "stdout",
     "output_type": "stream",
     "text": [
      "Canvas is updated and available in a tab in the default browser.\n"
     ]
    }
   ],
   "source": [
    "sgd50_f.show()"
   ]
  },
  {
   "cell_type": "code",
   "execution_count": 43,
   "metadata": {
    "collapsed": false
   },
   "outputs": [
    {
     "data": {
      "text/html": [
       "<pre>Recsys training: model = factorization_recommender</pre>"
      ],
      "text/plain": [
       "Recsys training: model = factorization_recommender"
      ]
     },
     "metadata": {},
     "output_type": "display_data"
    },
    {
     "data": {
      "text/html": [
       "<pre>Preparing data set.</pre>"
      ],
      "text/plain": [
       "Preparing data set."
      ]
     },
     "metadata": {},
     "output_type": "display_data"
    },
    {
     "data": {
      "text/html": [
       "<pre>    Data has 72020 observations with 31449 users and 89 items.</pre>"
      ],
      "text/plain": [
       "    Data has 72020 observations with 31449 users and 89 items."
      ]
     },
     "metadata": {},
     "output_type": "display_data"
    },
    {
     "data": {
      "text/html": [
       "<pre>    Data prepared in: 0.186133s</pre>"
      ],
      "text/plain": [
       "    Data prepared in: 0.186133s"
      ]
     },
     "metadata": {},
     "output_type": "display_data"
    },
    {
     "data": {
      "text/html": [
       "<pre>Training factorization_recommender for recommendations.</pre>"
      ],
      "text/plain": [
       "Training factorization_recommender for recommendations."
      ]
     },
     "metadata": {},
     "output_type": "display_data"
    },
    {
     "data": {
      "text/html": [
       "<pre>+--------------------------------+--------------------------------------------------+----------+</pre>"
      ],
      "text/plain": [
       "+--------------------------------+--------------------------------------------------+----------+"
      ]
     },
     "metadata": {},
     "output_type": "display_data"
    },
    {
     "data": {
      "text/html": [
       "<pre>| Parameter                      | Description                                      | Value    |</pre>"
      ],
      "text/plain": [
       "| Parameter                      | Description                                      | Value    |"
      ]
     },
     "metadata": {},
     "output_type": "display_data"
    },
    {
     "data": {
      "text/html": [
       "<pre>+--------------------------------+--------------------------------------------------+----------+</pre>"
      ],
      "text/plain": [
       "+--------------------------------+--------------------------------------------------+----------+"
      ]
     },
     "metadata": {},
     "output_type": "display_data"
    },
    {
     "data": {
      "text/html": [
       "<pre>| num_factors                    | Factor Dimension                                 | 100      |</pre>"
      ],
      "text/plain": [
       "| num_factors                    | Factor Dimension                                 | 100      |"
      ]
     },
     "metadata": {},
     "output_type": "display_data"
    },
    {
     "data": {
      "text/html": [
       "<pre>| regularization                 | L2 Regularization on Factors                     | 1e-008   |</pre>"
      ],
      "text/plain": [
       "| regularization                 | L2 Regularization on Factors                     | 1e-008   |"
      ]
     },
     "metadata": {},
     "output_type": "display_data"
    },
    {
     "data": {
      "text/html": [
       "<pre>| solver                         | Solver used for training                         | sgd      |</pre>"
      ],
      "text/plain": [
       "| solver                         | Solver used for training                         | sgd      |"
      ]
     },
     "metadata": {},
     "output_type": "display_data"
    },
    {
     "data": {
      "text/html": [
       "<pre>| linear_regularization          | L2 Regularization on Linear Coefficients         | 1e-010   |</pre>"
      ],
      "text/plain": [
       "| linear_regularization          | L2 Regularization on Linear Coefficients         | 1e-010   |"
      ]
     },
     "metadata": {},
     "output_type": "display_data"
    },
    {
     "data": {
      "text/html": [
       "<pre>| max_iterations                 | Maximum Number of Iterations                     | 50       |</pre>"
      ],
      "text/plain": [
       "| max_iterations                 | Maximum Number of Iterations                     | 50       |"
      ]
     },
     "metadata": {},
     "output_type": "display_data"
    },
    {
     "data": {
      "text/html": [
       "<pre>+--------------------------------+--------------------------------------------------+----------+</pre>"
      ],
      "text/plain": [
       "+--------------------------------+--------------------------------------------------+----------+"
      ]
     },
     "metadata": {},
     "output_type": "display_data"
    },
    {
     "data": {
      "text/html": [
       "<pre>  Optimizing model using SGD; tuning step size.</pre>"
      ],
      "text/plain": [
       "  Optimizing model using SGD; tuning step size."
      ]
     },
     "metadata": {},
     "output_type": "display_data"
    },
    {
     "data": {
      "text/html": [
       "<pre>  Using 10000 / 72020 points for tuning the step size.</pre>"
      ],
      "text/plain": [
       "  Using 10000 / 72020 points for tuning the step size."
      ]
     },
     "metadata": {},
     "output_type": "display_data"
    },
    {
     "data": {
      "text/html": [
       "<pre>+---------+-------------------+------------------------------------------+</pre>"
      ],
      "text/plain": [
       "+---------+-------------------+------------------------------------------+"
      ]
     },
     "metadata": {},
     "output_type": "display_data"
    },
    {
     "data": {
      "text/html": [
       "<pre>| Attempt | Initial Step Size | Estimated Objective Value                |</pre>"
      ],
      "text/plain": [
       "| Attempt | Initial Step Size | Estimated Objective Value                |"
      ]
     },
     "metadata": {},
     "output_type": "display_data"
    },
    {
     "data": {
      "text/html": [
       "<pre>+---------+-------------------+------------------------------------------+</pre>"
      ],
      "text/plain": [
       "+---------+-------------------+------------------------------------------+"
      ]
     },
     "metadata": {},
     "output_type": "display_data"
    },
    {
     "data": {
      "text/html": [
       "<pre>| 0       | 25                | Not Viable                               |</pre>"
      ],
      "text/plain": [
       "| 0       | 25                | Not Viable                               |"
      ]
     },
     "metadata": {},
     "output_type": "display_data"
    },
    {
     "data": {
      "text/html": [
       "<pre>| 1       | 6.25              | Not Viable                               |</pre>"
      ],
      "text/plain": [
       "| 1       | 6.25              | Not Viable                               |"
      ]
     },
     "metadata": {},
     "output_type": "display_data"
    },
    {
     "data": {
      "text/html": [
       "<pre>| 2       | 1.5625            | Not Viable                               |</pre>"
      ],
      "text/plain": [
       "| 2       | 1.5625            | Not Viable                               |"
      ]
     },
     "metadata": {},
     "output_type": "display_data"
    },
    {
     "data": {
      "text/html": [
       "<pre>| 3       | 0.390625          | Not Viable                               |</pre>"
      ],
      "text/plain": [
       "| 3       | 0.390625          | Not Viable                               |"
      ]
     },
     "metadata": {},
     "output_type": "display_data"
    },
    {
     "data": {
      "text/html": [
       "<pre>| 4       | 0.0976562         | Not Viable                               |</pre>"
      ],
      "text/plain": [
       "| 4       | 0.0976562         | Not Viable                               |"
      ]
     },
     "metadata": {},
     "output_type": "display_data"
    },
    {
     "data": {
      "text/html": [
       "<pre>| 5       | 0.0244141         | 5.03184                                  |</pre>"
      ],
      "text/plain": [
       "| 5       | 0.0244141         | 5.03184                                  |"
      ]
     },
     "metadata": {},
     "output_type": "display_data"
    },
    {
     "data": {
      "text/html": [
       "<pre>| 6       | 0.012207          | 16.3385                                  |</pre>"
      ],
      "text/plain": [
       "| 6       | 0.012207          | 16.3385                                  |"
      ]
     },
     "metadata": {},
     "output_type": "display_data"
    },
    {
     "data": {
      "text/html": [
       "<pre>+---------+-------------------+------------------------------------------+</pre>"
      ],
      "text/plain": [
       "+---------+-------------------+------------------------------------------+"
      ]
     },
     "metadata": {},
     "output_type": "display_data"
    },
    {
     "data": {
      "text/html": [
       "<pre>| Final   | 0.0244141         | 5.03184                                  |</pre>"
      ],
      "text/plain": [
       "| Final   | 0.0244141         | 5.03184                                  |"
      ]
     },
     "metadata": {},
     "output_type": "display_data"
    },
    {
     "data": {
      "text/html": [
       "<pre>+---------+-------------------+------------------------------------------+</pre>"
      ],
      "text/plain": [
       "+---------+-------------------+------------------------------------------+"
      ]
     },
     "metadata": {},
     "output_type": "display_data"
    },
    {
     "data": {
      "text/html": [
       "<pre>Starting Optimization.</pre>"
      ],
      "text/plain": [
       "Starting Optimization."
      ]
     },
     "metadata": {},
     "output_type": "display_data"
    },
    {
     "data": {
      "text/html": [
       "<pre>+---------+--------------+-------------------+-----------------------+-------------+</pre>"
      ],
      "text/plain": [
       "+---------+--------------+-------------------+-----------------------+-------------+"
      ]
     },
     "metadata": {},
     "output_type": "display_data"
    },
    {
     "data": {
      "text/html": [
       "<pre>| Iter.   | Elapsed Time | Approx. Objective | Approx. Training RMSE | Step Size   |</pre>"
      ],
      "text/plain": [
       "| Iter.   | Elapsed Time | Approx. Objective | Approx. Training RMSE | Step Size   |"
      ]
     },
     "metadata": {},
     "output_type": "display_data"
    },
    {
     "data": {
      "text/html": [
       "<pre>+---------+--------------+-------------------+-----------------------+-------------+</pre>"
      ],
      "text/plain": [
       "+---------+--------------+-------------------+-----------------------+-------------+"
      ]
     },
     "metadata": {},
     "output_type": "display_data"
    },
    {
     "data": {
      "text/html": [
       "<pre>| Initial | 0us          | 23.6552           | 4.86367               |             |</pre>"
      ],
      "text/plain": [
       "| Initial | 0us          | 23.6552           | 4.86367               |             |"
      ]
     },
     "metadata": {},
     "output_type": "display_data"
    },
    {
     "data": {
      "text/html": [
       "<pre>+---------+--------------+-------------------+-----------------------+-------------+</pre>"
      ],
      "text/plain": [
       "+---------+--------------+-------------------+-----------------------+-------------+"
      ]
     },
     "metadata": {},
     "output_type": "display_data"
    },
    {
     "data": {
      "text/html": [
       "<pre>| 1       | 145.103ms    | DIVERGED          | DIVERGED              | 0.0244141   |</pre>"
      ],
      "text/plain": [
       "| 1       | 145.103ms    | DIVERGED          | DIVERGED              | 0.0244141   |"
      ]
     },
     "metadata": {},
     "output_type": "display_data"
    },
    {
     "data": {
      "text/html": [
       "<pre>| RESET   | 460.907ms    | 23.6553           | 4.86367               |             |</pre>"
      ],
      "text/plain": [
       "| RESET   | 460.907ms    | 23.6553           | 4.86367               |             |"
      ]
     },
     "metadata": {},
     "output_type": "display_data"
    },
    {
     "data": {
      "text/html": [
       "<pre>| 1       | 529.956ms    | 20.2222           | 4.49685               | 0.012207    |</pre>"
      ],
      "text/plain": [
       "| 1       | 529.956ms    | 20.2222           | 4.49685               | 0.012207    |"
      ]
     },
     "metadata": {},
     "output_type": "display_data"
    },
    {
     "data": {
      "text/html": [
       "<pre>| 2       | 647.039ms    | 15.3872           | 3.92256               | 0.00725834  |</pre>"
      ],
      "text/plain": [
       "| 2       | 647.039ms    | 15.3872           | 3.92256               | 0.00725834  |"
      ]
     },
     "metadata": {},
     "output_type": "display_data"
    },
    {
     "data": {
      "text/html": [
       "<pre>| 3       | 697.075ms    | 8.59959           | 2.93238               | 0.00535512  |</pre>"
      ],
      "text/plain": [
       "| 3       | 697.075ms    | 8.59959           | 2.93238               | 0.00535512  |"
      ]
     },
     "metadata": {},
     "output_type": "display_data"
    },
    {
     "data": {
      "text/html": [
       "<pre>| 4       | 744.108ms    | 4.42784           | 2.10407               | 0.00431584  |</pre>"
      ],
      "text/plain": [
       "| 4       | 744.108ms    | 4.42784           | 2.10407               | 0.00431584  |"
      ]
     },
     "metadata": {},
     "output_type": "display_data"
    },
    {
     "data": {
      "text/html": [
       "<pre>| 5       | 899.719ms    | 2.2805            | 1.50989               | 0.00365075  |</pre>"
      ],
      "text/plain": [
       "| 5       | 899.719ms    | 2.2805            | 1.50989               | 0.00365075  |"
      ]
     },
     "metadata": {},
     "output_type": "display_data"
    },
    {
     "data": {
      "text/html": [
       "<pre>| 6       | 1.00s        | 1.20529           | 1.09752               | 0.00318417  |</pre>"
      ],
      "text/plain": [
       "| 6       | 1.00s        | 1.20529           | 1.09752               | 0.00318417  |"
      ]
     },
     "metadata": {},
     "output_type": "display_data"
    },
    {
     "data": {
      "text/html": [
       "<pre>| 11      | 1.59s        | 0.193667          | 0.439235              | 0.002021    |</pre>"
      ],
      "text/plain": [
       "| 11      | 1.59s        | 0.193667          | 0.439235              | 0.002021    |"
      ]
     },
     "metadata": {},
     "output_type": "display_data"
    },
    {
     "data": {
      "text/html": [
       "<pre>| 24      | 2.56s        | 0.0435839         | 0.206978              | 0.00112578  |</pre>"
      ],
      "text/plain": [
       "| 24      | 2.56s        | 0.0435839         | 0.206978              | 0.00112578  |"
      ]
     },
     "metadata": {},
     "output_type": "display_data"
    },
    {
     "data": {
      "text/html": [
       "<pre>| 49      | 4.08s        | 0.013673          | 0.113698              | 0.000659118 |</pre>"
      ],
      "text/plain": [
       "| 49      | 4.08s        | 0.013673          | 0.113698              | 0.000659118 |"
      ]
     },
     "metadata": {},
     "output_type": "display_data"
    },
    {
     "data": {
      "text/html": [
       "<pre>+---------+--------------+-------------------+-----------------------+-------------+</pre>"
      ],
      "text/plain": [
       "+---------+--------------+-------------------+-----------------------+-------------+"
      ]
     },
     "metadata": {},
     "output_type": "display_data"
    },
    {
     "data": {
      "text/html": [
       "<pre>Optimization Complete: Maximum number of passes through the data reached.</pre>"
      ],
      "text/plain": [
       "Optimization Complete: Maximum number of passes through the data reached."
      ]
     },
     "metadata": {},
     "output_type": "display_data"
    },
    {
     "data": {
      "text/html": [
       "<pre>Computing final objective value and training RMSE.</pre>"
      ],
      "text/plain": [
       "Computing final objective value and training RMSE."
      ]
     },
     "metadata": {},
     "output_type": "display_data"
    },
    {
     "data": {
      "text/html": [
       "<pre>       Final objective value: 0.0126357</pre>"
      ],
      "text/plain": [
       "       Final objective value: 0.0126357"
      ]
     },
     "metadata": {},
     "output_type": "display_data"
    },
    {
     "data": {
      "text/html": [
       "<pre>       Final training RMSE: 0.109041</pre>"
      ],
      "text/plain": [
       "       Final training RMSE: 0.109041"
      ]
     },
     "metadata": {},
     "output_type": "display_data"
    }
   ],
   "source": [
    "sgd100_f= gl.recommender.factorization_recommender.create(train_f,user_id='user_id',item_id='cuisine',target='count', user_data=None,\n",
    "                                                item_data=None,num_factors=100, regularization=1e-08, linear_regularization=1e-10, \n",
    "                                                side_data_factorization=True, nmf=False, binary_target=False, \n",
    "                                                max_iterations=50, sgd_step_size=0, random_seed=0,\n",
    "                                                solver='sgd', verbose=True)"
   ]
  },
  {
   "cell_type": "code",
   "execution_count": 44,
   "metadata": {
    "collapsed": false
   },
   "outputs": [
    {
     "name": "stdout",
     "output_type": "stream",
     "text": [
      "\n",
      "Precision and recall summary statistics by cutoff\n",
      "+--------+-----------------+----------------+\n",
      "| cutoff |  mean_precision |  mean_recall   |\n",
      "+--------+-----------------+----------------+\n",
      "|   1    |     0.359375    | 0.305208333333 |\n",
      "|   2    |    0.2046875    | 0.334114583333 |\n",
      "|   3    |  0.148958333333 | 0.358333333333 |\n",
      "|   4    |    0.1140625    | 0.363020833333 |\n",
      "|   5    |     0.09375     |   0.37109375   |\n",
      "|   6    | 0.0807291666667 |  0.380859375   |\n",
      "|   7    | 0.0705357142857 |  0.382421875   |\n",
      "|   8    |    0.06328125   |  0.391796875   |\n",
      "|   9    | 0.0621527777778 | 0.436458333333 |\n",
      "|   10   |    0.0565625    |    0.440625    |\n",
      "+--------+-----------------+----------------+\n",
      "[10 rows x 3 columns]\n",
      "\n",
      "('\\nOverall RMSE: ', 2.876318793326525)\n",
      "\n",
      "Per User RMSE (best)\n",
      "+------------------------+-------+----------------+\n",
      "|        user_id         | count |      rmse      |\n",
      "+------------------------+-------+----------------+\n",
      "| RT6sRtEXqk1_NHaQyo3n-Q |   1   | 0.031229834818 |\n",
      "+------------------------+-------+----------------+\n",
      "[1 rows x 3 columns]\n",
      "\n",
      "\n",
      "Per User RMSE (worst)\n",
      "+------------------------+-------+---------------+\n",
      "|        user_id         | count |      rmse     |\n",
      "+------------------------+-------+---------------+\n",
      "| RtXYLYuI5qReCOSqTGDXOQ |   2   | 14.6960065883 |\n",
      "+------------------------+-------+---------------+\n",
      "[1 rows x 3 columns]\n",
      "\n",
      "\n",
      "Per Item RMSE (best)\n",
      "+---------+-------+----------------+\n",
      "| cuisine | count |      rmse      |\n",
      "+---------+-------+----------------+\n",
      "|  Irish  |   1   | 0.253305282258 |\n",
      "+---------+-------+----------------+\n",
      "[1 rows x 3 columns]\n",
      "\n",
      "\n",
      "Per Item RMSE (worst)\n",
      "+------------+-------+---------------+\n",
      "|  cuisine   | count |      rmse     |\n",
      "+------------+-------+---------------+\n",
      "| Gastropubs |   1   | 15.5052045172 |\n",
      "+------------+-------+---------------+\n",
      "[1 rows x 3 columns]\n",
      "\n"
     ]
    },
    {
     "data": {
      "text/plain": [
       "{'precision_recall_by_user': Columns:\n",
       " \tuser_id\tstr\n",
       " \tcutoff\tint\n",
       " \tprecision\tfloat\n",
       " \trecall\tfloat\n",
       " \tcount\tint\n",
       " \n",
       " Rows: 5760\n",
       " \n",
       " Data:\n",
       " +------------------------+--------+----------------+--------+-------+\n",
       " |        user_id         | cutoff |   precision    | recall | count |\n",
       " +------------------------+--------+----------------+--------+-------+\n",
       " | -2EuoueswhqEERWezJY8gw |   1    |      1.0       |  1.0   |   1   |\n",
       " | -2EuoueswhqEERWezJY8gw |   2    |      0.5       |  1.0   |   1   |\n",
       " | -2EuoueswhqEERWezJY8gw |   3    | 0.333333333333 |  1.0   |   1   |\n",
       " | -2EuoueswhqEERWezJY8gw |   4    |      0.25      |  1.0   |   1   |\n",
       " | -2EuoueswhqEERWezJY8gw |   5    |      0.2       |  1.0   |   1   |\n",
       " | -2EuoueswhqEERWezJY8gw |   6    | 0.166666666667 |  1.0   |   1   |\n",
       " | -2EuoueswhqEERWezJY8gw |   7    | 0.142857142857 |  1.0   |   1   |\n",
       " | -2EuoueswhqEERWezJY8gw |   8    |     0.125      |  1.0   |   1   |\n",
       " | -2EuoueswhqEERWezJY8gw |   9    | 0.111111111111 |  1.0   |   1   |\n",
       " | -2EuoueswhqEERWezJY8gw |   10   |      0.1       |  1.0   |   1   |\n",
       " +------------------------+--------+----------------+--------+-------+\n",
       " [5760 rows x 5 columns]\n",
       " Note: Only the head of the SFrame is printed.\n",
       " You can use print_rows(num_rows=m, num_columns=n) to print more rows and columns.,\n",
       " 'precision_recall_overall': Columns:\n",
       " \tcutoff\tint\n",
       " \tprecision\tfloat\n",
       " \trecall\tfloat\n",
       " \n",
       " Rows: 18\n",
       " \n",
       " Data:\n",
       " +--------+-----------------+----------------+\n",
       " | cutoff |    precision    |     recall     |\n",
       " +--------+-----------------+----------------+\n",
       " |   1    |     0.359375    | 0.305208333333 |\n",
       " |   2    |    0.2046875    | 0.334114583333 |\n",
       " |   3    |  0.148958333333 | 0.358333333333 |\n",
       " |   4    |    0.1140625    | 0.363020833333 |\n",
       " |   5    |     0.09375     |   0.37109375   |\n",
       " |   6    | 0.0807291666667 |  0.380859375   |\n",
       " |   7    | 0.0705357142857 |  0.382421875   |\n",
       " |   8    |    0.06328125   |  0.391796875   |\n",
       " |   9    | 0.0621527777778 | 0.436458333333 |\n",
       " |   10   |    0.0565625    |    0.440625    |\n",
       " +--------+-----------------+----------------+\n",
       " [18 rows x 3 columns]\n",
       " Note: Only the head of the SFrame is printed.\n",
       " You can use print_rows(num_rows=m, num_columns=n) to print more rows and columns.,\n",
       " 'rmse_by_item': Columns:\n",
       " \tcuisine\tstr\n",
       " \tcount\tint\n",
       " \trmse\tfloat\n",
       " \n",
       " Rows: 43\n",
       " \n",
       " Data:\n",
       " +-------------+-------+----------------+\n",
       " |   cuisine   | count |      rmse      |\n",
       " +-------------+-------+----------------+\n",
       " | Gluten-Free |   2   | 0.47472804204  |\n",
       " |   American  |  107  | 3.50587735288  |\n",
       " |    Diners   |   5   | 0.477006407106 |\n",
       " |    French   |   7   | 5.62183751442  |\n",
       " |    Indian   |   1   | 1.35131850485  |\n",
       " |  Gastropubs |   1   | 15.5052045172  |\n",
       " |  Vietnamese |   11  | 1.94964912447  |\n",
       " |    Vegan    |   2   | 0.847479917106 |\n",
       " |    Delis    |   4   | 0.642733383806 |\n",
       " |    Irish    |   1   | 0.253305282258 |\n",
       " +-------------+-------+----------------+\n",
       " [43 rows x 3 columns]\n",
       " Note: Only the head of the SFrame is printed.\n",
       " You can use print_rows(num_rows=m, num_columns=n) to print more rows and columns.,\n",
       " 'rmse_by_user': Columns:\n",
       " \tuser_id\tstr\n",
       " \tcount\tint\n",
       " \trmse\tfloat\n",
       " \n",
       " Rows: 320\n",
       " \n",
       " Data:\n",
       " +------------------------+-------+----------------+\n",
       " |        user_id         | count |      rmse      |\n",
       " +------------------------+-------+----------------+\n",
       " | hB0XY4B9ps6ALpBD2k_ZgQ |   1   | 3.27331937496  |\n",
       " | ymkGNo_fv52yBKi8CEYmdQ |   1   | 1.76773359235  |\n",
       " | -NKOZhif-28E2Vdse_FZYw |   1   | 0.847140919603 |\n",
       " | 5Ka8MMYEoZfsU-jZzUt00Q |   1   |  3.7864415234  |\n",
       " | 25j8Nr0qQVlLhv2BywxL7g |   1   | 1.05404387768  |\n",
       " | hABpw8W5tu6FgUhmh-tvjQ |   3   | 3.03961837018  |\n",
       " | KWrKHaLM2Q8OVeJAs88eow |   1   | 1.83975787479  |\n",
       " | yuPBS3fak77lgwO_9SXVYQ |   1   |  6.8146644121  |\n",
       " | 8h5EXsiEuK5_igQ0cgxPZQ |   1   | 2.13550247606  |\n",
       " | y_FoL3sc9vdjwwzthw8qBA |   1   | 1.65333781782  |\n",
       " +------------------------+-------+----------------+\n",
       " [320 rows x 3 columns]\n",
       " Note: Only the head of the SFrame is printed.\n",
       " You can use print_rows(num_rows=m, num_columns=n) to print more rows and columns.,\n",
       " 'rmse_overall': 2.876318793326525}"
      ]
     },
     "execution_count": 44,
     "metadata": {},
     "output_type": "execute_result"
    }
   ],
   "source": [
    "sgd100_f.evaluate(test_f)"
   ]
  },
  {
   "cell_type": "code",
   "execution_count": 45,
   "metadata": {
    "collapsed": false
   },
   "outputs": [
    {
     "name": "stdout",
     "output_type": "stream",
     "text": [
      "Canvas is updated and available in a tab in the default browser.\n"
     ]
    }
   ],
   "source": [
    "sgd100_f.show()"
   ]
  },
  {
   "cell_type": "code",
   "execution_count": 46,
   "metadata": {
    "collapsed": false
   },
   "outputs": [
    {
     "data": {
      "text/html": [
       "<pre>Recsys training: model = factorization_recommender</pre>"
      ],
      "text/plain": [
       "Recsys training: model = factorization_recommender"
      ]
     },
     "metadata": {},
     "output_type": "display_data"
    },
    {
     "data": {
      "text/html": [
       "<pre>Preparing data set.</pre>"
      ],
      "text/plain": [
       "Preparing data set."
      ]
     },
     "metadata": {},
     "output_type": "display_data"
    },
    {
     "data": {
      "text/html": [
       "<pre>    Data has 72020 observations with 31449 users and 89 items.</pre>"
      ],
      "text/plain": [
       "    Data has 72020 observations with 31449 users and 89 items."
      ]
     },
     "metadata": {},
     "output_type": "display_data"
    },
    {
     "data": {
      "text/html": [
       "<pre>    Data prepared in: 0.202643s</pre>"
      ],
      "text/plain": [
       "    Data prepared in: 0.202643s"
      ]
     },
     "metadata": {},
     "output_type": "display_data"
    },
    {
     "data": {
      "text/html": [
       "<pre>Training factorization_recommender for recommendations.</pre>"
      ],
      "text/plain": [
       "Training factorization_recommender for recommendations."
      ]
     },
     "metadata": {},
     "output_type": "display_data"
    },
    {
     "data": {
      "text/html": [
       "<pre>+------------------------------+--------------------------------------------------+----------+</pre>"
      ],
      "text/plain": [
       "+------------------------------+--------------------------------------------------+----------+"
      ]
     },
     "metadata": {},
     "output_type": "display_data"
    },
    {
     "data": {
      "text/html": [
       "<pre>| Parameter                    | Description                                      | Value    |</pre>"
      ],
      "text/plain": [
       "| Parameter                    | Description                                      | Value    |"
      ]
     },
     "metadata": {},
     "output_type": "display_data"
    },
    {
     "data": {
      "text/html": [
       "<pre>+------------------------------+--------------------------------------------------+----------+</pre>"
      ],
      "text/plain": [
       "+------------------------------+--------------------------------------------------+----------+"
      ]
     },
     "metadata": {},
     "output_type": "display_data"
    },
    {
     "data": {
      "text/html": [
       "<pre>| num_factors                  | Factor Dimension                                 | 50       |</pre>"
      ],
      "text/plain": [
       "| num_factors                  | Factor Dimension                                 | 50       |"
      ]
     },
     "metadata": {},
     "output_type": "display_data"
    },
    {
     "data": {
      "text/html": [
       "<pre>| regularization               | L2 Regularization on Factors                     | 1e-008   |</pre>"
      ],
      "text/plain": [
       "| regularization               | L2 Regularization on Factors                     | 1e-008   |"
      ]
     },
     "metadata": {},
     "output_type": "display_data"
    },
    {
     "data": {
      "text/html": [
       "<pre>| max_iterations               | Maximum Number of Iterations                     | 50       |</pre>"
      ],
      "text/plain": [
       "| max_iterations               | Maximum Number of Iterations                     | 50       |"
      ]
     },
     "metadata": {},
     "output_type": "display_data"
    },
    {
     "data": {
      "text/html": [
       "<pre>| solver                       | Solver used for training                         | als      |</pre>"
      ],
      "text/plain": [
       "| solver                       | Solver used for training                         | als      |"
      ]
     },
     "metadata": {},
     "output_type": "display_data"
    },
    {
     "data": {
      "text/html": [
       "<pre>+------------------------------+--------------------------------------------------+----------+</pre>"
      ],
      "text/plain": [
       "+------------------------------+--------------------------------------------------+----------+"
      ]
     },
     "metadata": {},
     "output_type": "display_data"
    },
    {
     "data": {
      "text/html": [
       "<pre>+---------+--------------+------------------------+</pre>"
      ],
      "text/plain": [
       "+---------+--------------+------------------------+"
      ]
     },
     "metadata": {},
     "output_type": "display_data"
    },
    {
     "data": {
      "text/html": [
       "<pre>| Iter.   | Elapsed time | RMSE                   |</pre>"
      ],
      "text/plain": [
       "| Iter.   | Elapsed time | RMSE                   |"
      ]
     },
     "metadata": {},
     "output_type": "display_data"
    },
    {
     "data": {
      "text/html": [
       "<pre>+---------+--------------+------------------------+</pre>"
      ],
      "text/plain": [
       "+---------+--------------+------------------------+"
      ]
     },
     "metadata": {},
     "output_type": "display_data"
    },
    {
     "data": {
      "text/html": [
       "<pre>| Initial | 0us          | NA                     |</pre>"
      ],
      "text/plain": [
       "| Initial | 0us          | NA                     |"
      ]
     },
     "metadata": {},
     "output_type": "display_data"
    },
    {
     "data": {
      "text/html": [
       "<pre>+---------+--------------+------------------------+</pre>"
      ],
      "text/plain": [
       "+---------+--------------+------------------------+"
      ]
     },
     "metadata": {},
     "output_type": "display_data"
    },
    {
     "data": {
      "text/html": [
       "<pre>| 0       | 1.18s        | 0.165908               |</pre>"
      ],
      "text/plain": [
       "| 0       | 1.18s        | 0.165908               |"
      ]
     },
     "metadata": {},
     "output_type": "display_data"
    },
    {
     "data": {
      "text/html": [
       "<pre>| 1       | 2.62s        | 0.00649219             |</pre>"
      ],
      "text/plain": [
       "| 1       | 2.62s        | 0.00649219             |"
      ]
     },
     "metadata": {},
     "output_type": "display_data"
    },
    {
     "data": {
      "text/html": [
       "<pre>| 2       | 3.92s        | 0.00768745             |</pre>"
      ],
      "text/plain": [
       "| 2       | 3.92s        | 0.00768745             |"
      ]
     },
     "metadata": {},
     "output_type": "display_data"
    },
    {
     "data": {
      "text/html": [
       "<pre>| 3       | 5.17s        | 0.0149696              |</pre>"
      ],
      "text/plain": [
       "| 3       | 5.17s        | 0.0149696              |"
      ]
     },
     "metadata": {},
     "output_type": "display_data"
    },
    {
     "data": {
      "text/html": [
       "<pre>| 4       | 6.39s        | 0.113015               |</pre>"
      ],
      "text/plain": [
       "| 4       | 6.39s        | 0.113015               |"
      ]
     },
     "metadata": {},
     "output_type": "display_data"
    },
    {
     "data": {
      "text/html": [
       "<pre>| 5       | 7.64s        | 0.0239447              |</pre>"
      ],
      "text/plain": [
       "| 5       | 7.64s        | 0.0239447              |"
      ]
     },
     "metadata": {},
     "output_type": "display_data"
    },
    {
     "data": {
      "text/html": [
       "<pre>| 6       | 9.00s        | 0.0861781              |</pre>"
      ],
      "text/plain": [
       "| 6       | 9.00s        | 0.0861781              |"
      ]
     },
     "metadata": {},
     "output_type": "display_data"
    },
    {
     "data": {
      "text/html": [
       "<pre>| 7       | 10.92s       | 0.0211816              |</pre>"
      ],
      "text/plain": [
       "| 7       | 10.92s       | 0.0211816              |"
      ]
     },
     "metadata": {},
     "output_type": "display_data"
    },
    {
     "data": {
      "text/html": [
       "<pre>| 8       | 12.35s       | 0.138282               |</pre>"
      ],
      "text/plain": [
       "| 8       | 12.35s       | 0.138282               |"
      ]
     },
     "metadata": {},
     "output_type": "display_data"
    },
    {
     "data": {
      "text/html": [
       "<pre>| 9       | 13.57s       | 0.0494932              |</pre>"
      ],
      "text/plain": [
       "| 9       | 13.57s       | 0.0494932              |"
      ]
     },
     "metadata": {},
     "output_type": "display_data"
    },
    {
     "data": {
      "text/html": [
       "<pre>| 10      | 14.70s       | 0.0101782              |</pre>"
      ],
      "text/plain": [
       "| 10      | 14.70s       | 0.0101782              |"
      ]
     },
     "metadata": {},
     "output_type": "display_data"
    },
    {
     "data": {
      "text/html": [
       "<pre>| 11      | 15.97s       | 0.0103003              |</pre>"
      ],
      "text/plain": [
       "| 11      | 15.97s       | 0.0103003              |"
      ]
     },
     "metadata": {},
     "output_type": "display_data"
    },
    {
     "data": {
      "text/html": [
       "<pre>| 12      | 16.85s       | 0.0109842              |</pre>"
      ],
      "text/plain": [
       "| 12      | 16.85s       | 0.0109842              |"
      ]
     },
     "metadata": {},
     "output_type": "display_data"
    },
    {
     "data": {
      "text/html": [
       "<pre>| 13      | 17.79s       | 0.00957958             |</pre>"
      ],
      "text/plain": [
       "| 13      | 17.79s       | 0.00957958             |"
      ]
     },
     "metadata": {},
     "output_type": "display_data"
    },
    {
     "data": {
      "text/html": [
       "<pre>| 14      | 19.09s       | 0.011009               |</pre>"
      ],
      "text/plain": [
       "| 14      | 19.09s       | 0.011009               |"
      ]
     },
     "metadata": {},
     "output_type": "display_data"
    },
    {
     "data": {
      "text/html": [
       "<pre>| 15      | 20.13s       | 0.00715106             |</pre>"
      ],
      "text/plain": [
       "| 15      | 20.13s       | 0.00715106             |"
      ]
     },
     "metadata": {},
     "output_type": "display_data"
    },
    {
     "data": {
      "text/html": [
       "<pre>| 16      | 21.22s       | 0.00750311             |</pre>"
      ],
      "text/plain": [
       "| 16      | 21.22s       | 0.00750311             |"
      ]
     },
     "metadata": {},
     "output_type": "display_data"
    },
    {
     "data": {
      "text/html": [
       "<pre>| 17      | 22.47s       | 0.0208593              |</pre>"
      ],
      "text/plain": [
       "| 17      | 22.47s       | 0.0208593              |"
      ]
     },
     "metadata": {},
     "output_type": "display_data"
    },
    {
     "data": {
      "text/html": [
       "<pre>| 18      | 23.67s       | 0.0347419              |</pre>"
      ],
      "text/plain": [
       "| 18      | 23.67s       | 0.0347419              |"
      ]
     },
     "metadata": {},
     "output_type": "display_data"
    },
    {
     "data": {
      "text/html": [
       "<pre>| 19      | 24.77s       | 0.0284871              |</pre>"
      ],
      "text/plain": [
       "| 19      | 24.77s       | 0.0284871              |"
      ]
     },
     "metadata": {},
     "output_type": "display_data"
    },
    {
     "data": {
      "text/html": [
       "<pre>| 20      | 25.75s       | 0.598139               |</pre>"
      ],
      "text/plain": [
       "| 20      | 25.75s       | 0.598139               |"
      ]
     },
     "metadata": {},
     "output_type": "display_data"
    },
    {
     "data": {
      "text/html": [
       "<pre>| 21      | 26.68s       | 0.0972802              |</pre>"
      ],
      "text/plain": [
       "| 21      | 26.68s       | 0.0972802              |"
      ]
     },
     "metadata": {},
     "output_type": "display_data"
    },
    {
     "data": {
      "text/html": [
       "<pre>| 22      | 27.64s       | 0.0140956              |</pre>"
      ],
      "text/plain": [
       "| 22      | 27.64s       | 0.0140956              |"
      ]
     },
     "metadata": {},
     "output_type": "display_data"
    },
    {
     "data": {
      "text/html": [
       "<pre>| 23      | 28.65s       | 0.0123564              |</pre>"
      ],
      "text/plain": [
       "| 23      | 28.65s       | 0.0123564              |"
      ]
     },
     "metadata": {},
     "output_type": "display_data"
    },
    {
     "data": {
      "text/html": [
       "<pre>| 24      | 29.69s       | 0.00687956             |</pre>"
      ],
      "text/plain": [
       "| 24      | 29.69s       | 0.00687956             |"
      ]
     },
     "metadata": {},
     "output_type": "display_data"
    },
    {
     "data": {
      "text/html": [
       "<pre>| 25      | 30.70s       | 0.0292823              |</pre>"
      ],
      "text/plain": [
       "| 25      | 30.70s       | 0.0292823              |"
      ]
     },
     "metadata": {},
     "output_type": "display_data"
    },
    {
     "data": {
      "text/html": [
       "<pre>| 26      | 31.71s       | 0.00936992             |</pre>"
      ],
      "text/plain": [
       "| 26      | 31.71s       | 0.00936992             |"
      ]
     },
     "metadata": {},
     "output_type": "display_data"
    },
    {
     "data": {
      "text/html": [
       "<pre>| 27      | 32.65s       | 0.0925097              |</pre>"
      ],
      "text/plain": [
       "| 27      | 32.65s       | 0.0925097              |"
      ]
     },
     "metadata": {},
     "output_type": "display_data"
    },
    {
     "data": {
      "text/html": [
       "<pre>| 28      | 33.62s       | 0.0191242              |</pre>"
      ],
      "text/plain": [
       "| 28      | 33.62s       | 0.0191242              |"
      ]
     },
     "metadata": {},
     "output_type": "display_data"
    },
    {
     "data": {
      "text/html": [
       "<pre>| 29      | 34.54s       | 0.106723               |</pre>"
      ],
      "text/plain": [
       "| 29      | 34.54s       | 0.106723               |"
      ]
     },
     "metadata": {},
     "output_type": "display_data"
    },
    {
     "data": {
      "text/html": [
       "<pre>| 30      | 35.47s       | 0.074501               |</pre>"
      ],
      "text/plain": [
       "| 30      | 35.47s       | 0.074501               |"
      ]
     },
     "metadata": {},
     "output_type": "display_data"
    },
    {
     "data": {
      "text/html": [
       "<pre>| 31      | 36.38s       | 0.347537               |</pre>"
      ],
      "text/plain": [
       "| 31      | 36.38s       | 0.347537               |"
      ]
     },
     "metadata": {},
     "output_type": "display_data"
    },
    {
     "data": {
      "text/html": [
       "<pre>| 32      | 37.33s       | 0.114897               |</pre>"
      ],
      "text/plain": [
       "| 32      | 37.33s       | 0.114897               |"
      ]
     },
     "metadata": {},
     "output_type": "display_data"
    },
    {
     "data": {
      "text/html": [
       "<pre>| 33      | 38.32s       | 0.106153               |</pre>"
      ],
      "text/plain": [
       "| 33      | 38.32s       | 0.106153               |"
      ]
     },
     "metadata": {},
     "output_type": "display_data"
    },
    {
     "data": {
      "text/html": [
       "<pre>| 34      | 39.40s       | 0.0651566              |</pre>"
      ],
      "text/plain": [
       "| 34      | 39.40s       | 0.0651566              |"
      ]
     },
     "metadata": {},
     "output_type": "display_data"
    },
    {
     "data": {
      "text/html": [
       "<pre>| 35      | 40.55s       | 0.0715714              |</pre>"
      ],
      "text/plain": [
       "| 35      | 40.55s       | 0.0715714              |"
      ]
     },
     "metadata": {},
     "output_type": "display_data"
    },
    {
     "data": {
      "text/html": [
       "<pre>| 36      | 41.80s       | 1.52321                |</pre>"
      ],
      "text/plain": [
       "| 36      | 41.80s       | 1.52321                |"
      ]
     },
     "metadata": {},
     "output_type": "display_data"
    },
    {
     "data": {
      "text/html": [
       "<pre>| 37      | 42.85s       | 1.62142                |</pre>"
      ],
      "text/plain": [
       "| 37      | 42.85s       | 1.62142                |"
      ]
     },
     "metadata": {},
     "output_type": "display_data"
    },
    {
     "data": {
      "text/html": [
       "<pre>| 38      | 43.85s       | 0.0548851              |</pre>"
      ],
      "text/plain": [
       "| 38      | 43.85s       | 0.0548851              |"
      ]
     },
     "metadata": {},
     "output_type": "display_data"
    },
    {
     "data": {
      "text/html": [
       "<pre>| 39      | 44.91s       | 1.46641                |</pre>"
      ],
      "text/plain": [
       "| 39      | 44.91s       | 1.46641                |"
      ]
     },
     "metadata": {},
     "output_type": "display_data"
    },
    {
     "data": {
      "text/html": [
       "<pre>| 40      | 45.90s       | 0.273691               |</pre>"
      ],
      "text/plain": [
       "| 40      | 45.90s       | 0.273691               |"
      ]
     },
     "metadata": {},
     "output_type": "display_data"
    },
    {
     "data": {
      "text/html": [
       "<pre>| 41      | 47.21s       | 0.0155532              |</pre>"
      ],
      "text/plain": [
       "| 41      | 47.21s       | 0.0155532              |"
      ]
     },
     "metadata": {},
     "output_type": "display_data"
    },
    {
     "data": {
      "text/html": [
       "<pre>| 42      | 48.67s       | 0.0143964              |</pre>"
      ],
      "text/plain": [
       "| 42      | 48.67s       | 0.0143964              |"
      ]
     },
     "metadata": {},
     "output_type": "display_data"
    },
    {
     "data": {
      "text/html": [
       "<pre>| 43      | 49.84s       | 0.0175024              |</pre>"
      ],
      "text/plain": [
       "| 43      | 49.84s       | 0.0175024              |"
      ]
     },
     "metadata": {},
     "output_type": "display_data"
    },
    {
     "data": {
      "text/html": [
       "<pre>| 44      | 50.76s       | 0.960108               |</pre>"
      ],
      "text/plain": [
       "| 44      | 50.76s       | 0.960108               |"
      ]
     },
     "metadata": {},
     "output_type": "display_data"
    },
    {
     "data": {
      "text/html": [
       "<pre>| 45      | 51.83s       | 0.215832               |</pre>"
      ],
      "text/plain": [
       "| 45      | 51.83s       | 0.215832               |"
      ]
     },
     "metadata": {},
     "output_type": "display_data"
    },
    {
     "data": {
      "text/html": [
       "<pre>| 46      | 53.05s       | 0.0486512              |</pre>"
      ],
      "text/plain": [
       "| 46      | 53.05s       | 0.0486512              |"
      ]
     },
     "metadata": {},
     "output_type": "display_data"
    },
    {
     "data": {
      "text/html": [
       "<pre>| 47      | 54.29s       | 0.0501908              |</pre>"
      ],
      "text/plain": [
       "| 47      | 54.29s       | 0.0501908              |"
      ]
     },
     "metadata": {},
     "output_type": "display_data"
    },
    {
     "data": {
      "text/html": [
       "<pre>| 48      | 55.35s       | 0.0834068              |</pre>"
      ],
      "text/plain": [
       "| 48      | 55.35s       | 0.0834068              |"
      ]
     },
     "metadata": {},
     "output_type": "display_data"
    },
    {
     "data": {
      "text/html": [
       "<pre>| 49      | 56.43s       | 0.132031               |</pre>"
      ],
      "text/plain": [
       "| 49      | 56.43s       | 0.132031               |"
      ]
     },
     "metadata": {},
     "output_type": "display_data"
    },
    {
     "data": {
      "text/html": [
       "<pre>| FINAL   | 56.43s       | 0.132031               |</pre>"
      ],
      "text/plain": [
       "| FINAL   | 56.43s       | 0.132031               |"
      ]
     },
     "metadata": {},
     "output_type": "display_data"
    },
    {
     "data": {
      "text/html": [
       "<pre>+---------+--------------+------------------------+</pre>"
      ],
      "text/plain": [
       "+---------+--------------+------------------------+"
      ]
     },
     "metadata": {},
     "output_type": "display_data"
    },
    {
     "data": {
      "text/html": [
       "<pre>Optimization Complete: Iteration limit reached.</pre>"
      ],
      "text/plain": [
       "Optimization Complete: Iteration limit reached."
      ]
     },
     "metadata": {},
     "output_type": "display_data"
    }
   ],
   "source": [
    "als50_f= gl.recommender.factorization_recommender.create(train_f,user_id='user_id',item_id='cuisine',target='count', user_data=None,\n",
    "                                                item_data=None,num_factors=50, regularization=1e-08, linear_regularization=1e-10, \n",
    "                                                side_data_factorization=True, nmf=False, binary_target=False, \n",
    "                                                max_iterations=50, sgd_step_size=0, random_seed=0,\n",
    "                                                solver='als', verbose=True)"
   ]
  },
  {
   "cell_type": "code",
   "execution_count": 47,
   "metadata": {
    "collapsed": false
   },
   "outputs": [
    {
     "name": "stdout",
     "output_type": "stream",
     "text": [
      "\n",
      "Precision and recall summary statistics by cutoff\n",
      "+--------+-----------------+-----------------+\n",
      "| cutoff |  mean_precision |   mean_recall   |\n",
      "+--------+-----------------+-----------------+\n",
      "|   1    |       0.0       |       0.0       |\n",
      "|   2    |       0.0       |       0.0       |\n",
      "|   3    |      0.0125     | 0.0278645833333 |\n",
      "|   4    |     0.009375    | 0.0278645833333 |\n",
      "|   5    |     0.009375    | 0.0372395833333 |\n",
      "|   6    |     0.009375    | 0.0466145833333 |\n",
      "|   7    |     0.009375    | 0.0559895833333 |\n",
      "|   8    |     0.009375    | 0.0653645833333 |\n",
      "|   9    | 0.0104166666667 | 0.0825520833333 |\n",
      "|   10   |    0.0103125    | 0.0872395833333 |\n",
      "+--------+-----------------+-----------------+\n",
      "[10 rows x 3 columns]\n",
      "\n",
      "('\\nOverall RMSE: ', 4.983161616136592)\n",
      "\n",
      "Per User RMSE (best)\n",
      "+------------------------+-------+-----------------+\n",
      "|        user_id         | count |       rmse      |\n",
      "+------------------------+-------+-----------------+\n",
      "| 1pg3nHiiQFTJCqwOfkLDcg |   1   | 0.0102570688359 |\n",
      "+------------------------+-------+-----------------+\n",
      "[1 rows x 3 columns]\n",
      "\n",
      "\n",
      "Per User RMSE (worst)\n",
      "+------------------------+-------+---------------+\n",
      "|        user_id         | count |      rmse     |\n",
      "+------------------------+-------+---------------+\n",
      "| RtXYLYuI5qReCOSqTGDXOQ |   2   | 25.8177552319 |\n",
      "+------------------------+-------+---------------+\n",
      "[1 rows x 3 columns]\n",
      "\n",
      "\n",
      "Per Item RMSE (best)\n",
      "+---------+-------+----------------+\n",
      "| cuisine | count |      rmse      |\n",
      "+---------+-------+----------------+\n",
      "|  Irish  |   1   | 0.915583599173 |\n",
      "+---------+-------+----------------+\n",
      "[1 rows x 3 columns]\n",
      "\n",
      "\n",
      "Per Item RMSE (worst)\n",
      "+---------+-------+---------------+\n",
      "| cuisine | count |      rmse     |\n",
      "+---------+-------+---------------+\n",
      "| British |   1   | 18.5883153563 |\n",
      "+---------+-------+---------------+\n",
      "[1 rows x 3 columns]\n",
      "\n"
     ]
    },
    {
     "data": {
      "text/plain": [
       "{'precision_recall_by_user': Columns:\n",
       " \tuser_id\tstr\n",
       " \tcutoff\tint\n",
       " \tprecision\tfloat\n",
       " \trecall\tfloat\n",
       " \tcount\tint\n",
       " \n",
       " Rows: 5760\n",
       " \n",
       " Data:\n",
       " +------------------------+--------+-----------+--------+-------+\n",
       " |        user_id         | cutoff | precision | recall | count |\n",
       " +------------------------+--------+-----------+--------+-------+\n",
       " | -2EuoueswhqEERWezJY8gw |   1    |    0.0    |  0.0   |   1   |\n",
       " | -2EuoueswhqEERWezJY8gw |   2    |    0.0    |  0.0   |   1   |\n",
       " | -2EuoueswhqEERWezJY8gw |   3    |    0.0    |  0.0   |   1   |\n",
       " | -2EuoueswhqEERWezJY8gw |   4    |    0.0    |  0.0   |   1   |\n",
       " | -2EuoueswhqEERWezJY8gw |   5    |    0.0    |  0.0   |   1   |\n",
       " | -2EuoueswhqEERWezJY8gw |   6    |    0.0    |  0.0   |   1   |\n",
       " | -2EuoueswhqEERWezJY8gw |   7    |    0.0    |  0.0   |   1   |\n",
       " | -2EuoueswhqEERWezJY8gw |   8    |    0.0    |  0.0   |   1   |\n",
       " | -2EuoueswhqEERWezJY8gw |   9    |    0.0    |  0.0   |   1   |\n",
       " | -2EuoueswhqEERWezJY8gw |   10   |    0.0    |  0.0   |   1   |\n",
       " +------------------------+--------+-----------+--------+-------+\n",
       " [5760 rows x 5 columns]\n",
       " Note: Only the head of the SFrame is printed.\n",
       " You can use print_rows(num_rows=m, num_columns=n) to print more rows and columns.,\n",
       " 'precision_recall_overall': Columns:\n",
       " \tcutoff\tint\n",
       " \tprecision\tfloat\n",
       " \trecall\tfloat\n",
       " \n",
       " Rows: 18\n",
       " \n",
       " Data:\n",
       " +--------+-----------------+-----------------+\n",
       " | cutoff |    precision    |      recall     |\n",
       " +--------+-----------------+-----------------+\n",
       " |   1    |       0.0       |       0.0       |\n",
       " |   2    |       0.0       |       0.0       |\n",
       " |   3    |      0.0125     | 0.0278645833333 |\n",
       " |   4    |     0.009375    | 0.0278645833333 |\n",
       " |   5    |     0.009375    | 0.0372395833333 |\n",
       " |   6    |     0.009375    | 0.0466145833333 |\n",
       " |   7    |     0.009375    | 0.0559895833333 |\n",
       " |   8    |     0.009375    | 0.0653645833333 |\n",
       " |   9    | 0.0104166666667 | 0.0825520833333 |\n",
       " |   10   |    0.0103125    | 0.0872395833333 |\n",
       " +--------+-----------------+-----------------+\n",
       " [18 rows x 3 columns]\n",
       " Note: Only the head of the SFrame is printed.\n",
       " You can use print_rows(num_rows=m, num_columns=n) to print more rows and columns.,\n",
       " 'rmse_by_item': Columns:\n",
       " \tcuisine\tstr\n",
       " \tcount\tint\n",
       " \trmse\tfloat\n",
       " \n",
       " Rows: 43\n",
       " \n",
       " Data:\n",
       " +-------------+-------+----------------+\n",
       " |   cuisine   | count |      rmse      |\n",
       " +-------------+-------+----------------+\n",
       " | Gluten-Free |   2   | 2.12014263542  |\n",
       " |   American  |  107  | 4.97825589153  |\n",
       " |    Diners   |   5   | 1.81723664427  |\n",
       " |    French   |   7   |  5.4914027266  |\n",
       " |    Indian   |   1   | 1.63942671958  |\n",
       " |  Gastropubs |   1   | 15.9393567329  |\n",
       " |  Vietnamese |   11  | 4.06054987408  |\n",
       " |    Vegan    |   2   | 1.27430798526  |\n",
       " |    Delis    |   4   | 2.60222781098  |\n",
       " |    Irish    |   1   | 0.915583599173 |\n",
       " +-------------+-------+----------------+\n",
       " [43 rows x 3 columns]\n",
       " Note: Only the head of the SFrame is printed.\n",
       " You can use print_rows(num_rows=m, num_columns=n) to print more rows and columns.,\n",
       " 'rmse_by_user': Columns:\n",
       " \tuser_id\tstr\n",
       " \tcount\tint\n",
       " \trmse\tfloat\n",
       " \n",
       " Rows: 320\n",
       " \n",
       " Data:\n",
       " +------------------------+-------+-----------------+\n",
       " |        user_id         | count |       rmse      |\n",
       " +------------------------+-------+-----------------+\n",
       " | hB0XY4B9ps6ALpBD2k_ZgQ |   1   |  2.11841155235  |\n",
       " | ymkGNo_fv52yBKi8CEYmdQ |   1   |  2.73012780007  |\n",
       " | -NKOZhif-28E2Vdse_FZYw |   1   |  2.11841155235  |\n",
       " | 5Ka8MMYEoZfsU-jZzUt00Q |   1   |  0.726182330214 |\n",
       " | 25j8Nr0qQVlLhv2BywxL7g |   1   |  0.118411552347 |\n",
       " | hABpw8W5tu6FgUhmh-tvjQ |   3   |  4.68300339227  |\n",
       " | KWrKHaLM2Q8OVeJAs88eow |   1   |  3.48056687061  |\n",
       " | yuPBS3fak77lgwO_9SXVYQ |   1   |  0.959521305002 |\n",
       " | 8h5EXsiEuK5_igQ0cgxPZQ |   1   |  1.88158844765  |\n",
       " | y_FoL3sc9vdjwwzthw8qBA |   1   | 0.0744949469336 |\n",
       " +------------------------+-------+-----------------+\n",
       " [320 rows x 3 columns]\n",
       " Note: Only the head of the SFrame is printed.\n",
       " You can use print_rows(num_rows=m, num_columns=n) to print more rows and columns.,\n",
       " 'rmse_overall': 4.983161616136592}"
      ]
     },
     "execution_count": 47,
     "metadata": {},
     "output_type": "execute_result"
    }
   ],
   "source": [
    "als50_f.evaluate(test_f)"
   ]
  },
  {
   "cell_type": "code",
   "execution_count": 48,
   "metadata": {
    "collapsed": false
   },
   "outputs": [
    {
     "name": "stdout",
     "output_type": "stream",
     "text": [
      "Canvas is updated and available in a tab in the default browser.\n"
     ]
    }
   ],
   "source": [
    "als50_f.show()"
   ]
  },
  {
   "cell_type": "code",
   "execution_count": 49,
   "metadata": {
    "collapsed": false
   },
   "outputs": [
    {
     "data": {
      "text/html": [
       "<pre>Recsys training: model = popularity</pre>"
      ],
      "text/plain": [
       "Recsys training: model = popularity"
      ]
     },
     "metadata": {},
     "output_type": "display_data"
    },
    {
     "data": {
      "text/html": [
       "<pre>Preparing data set.</pre>"
      ],
      "text/plain": [
       "Preparing data set."
      ]
     },
     "metadata": {},
     "output_type": "display_data"
    },
    {
     "data": {
      "text/html": [
       "<pre>    Data has 72020 observations with 31449 users and 89 items.</pre>"
      ],
      "text/plain": [
       "    Data has 72020 observations with 31449 users and 89 items."
      ]
     },
     "metadata": {},
     "output_type": "display_data"
    },
    {
     "data": {
      "text/html": [
       "<pre>    Data prepared in: 0.218157s</pre>"
      ],
      "text/plain": [
       "    Data prepared in: 0.218157s"
      ]
     },
     "metadata": {},
     "output_type": "display_data"
    },
    {
     "data": {
      "text/html": [
       "<pre>72020 observations to process; with 89 unique items.</pre>"
      ],
      "text/plain": [
       "72020 observations to process; with 89 unique items."
      ]
     },
     "metadata": {},
     "output_type": "display_data"
    }
   ],
   "source": [
    "#popularity\n",
    "pop_f = gl.recommender.popularity_recommender.create(train_f, user_id='user_id', item_id='cuisine', target='count',\n",
    "                                                    user_data=None, item_data=None, random_seed=0, verbose=True)\n"
   ]
  },
  {
   "cell_type": "code",
   "execution_count": 50,
   "metadata": {
    "collapsed": false
   },
   "outputs": [
    {
     "name": "stdout",
     "output_type": "stream",
     "text": [
      "\n",
      "Precision and recall summary statistics by cutoff\n",
      "+--------+-----------------+----------------+\n",
      "| cutoff |  mean_precision |  mean_recall   |\n",
      "+--------+-----------------+----------------+\n",
      "|   1    |      0.3375     | 0.301041666667 |\n",
      "|   2    |     0.203125    | 0.352083333333 |\n",
      "|   3    |  0.164583333333 | 0.415885416667 |\n",
      "|   4    |    0.1453125    | 0.463776041667 |\n",
      "|   5    |     0.130625    | 0.523541666667 |\n",
      "|   6    |     0.121875    | 0.581614583333 |\n",
      "|   7    |  0.109821428571 | 0.610911458333 |\n",
      "|   8    |    0.09921875   | 0.624322916667 |\n",
      "|   9    | 0.0934027777778 | 0.655963541667 |\n",
      "|   10   |     0.089375    | 0.689947916667 |\n",
      "+--------+-----------------+----------------+\n",
      "[10 rows x 3 columns]\n",
      "\n",
      "('\\nOverall RMSE: ', 3.266474615925068)\n",
      "\n",
      "Per User RMSE (best)\n",
      "+------------------------+-------+-----------------+\n",
      "|        user_id         | count |       rmse      |\n",
      "+------------------------+-------+-----------------+\n",
      "| fvCFqf2xgrLz_3iAUb1hJw |   1   | 0.0439238653001 |\n",
      "+------------------------+-------+-----------------+\n",
      "[1 rows x 3 columns]\n",
      "\n",
      "\n",
      "Per User RMSE (worst)\n",
      "+------------------------+-------+---------------+\n",
      "|        user_id         | count |      rmse     |\n",
      "+------------------------+-------+---------------+\n",
      "| RtXYLYuI5qReCOSqTGDXOQ |   2   | 19.5626899113 |\n",
      "+------------------------+-------+---------------+\n",
      "[1 rows x 3 columns]\n",
      "\n",
      "\n",
      "Per Item RMSE (best)\n",
      "+------------+-------+------+\n",
      "|  cuisine   | count | rmse |\n",
      "+------------+-------+------+\n",
      "| Salvadoran |   1   | 0.0  |\n",
      "+------------+-------+------+\n",
      "[1 rows x 3 columns]\n",
      "\n",
      "\n",
      "Per Item RMSE (worst)\n",
      "+---------+-------+---------------+\n",
      "| cuisine | count |      rmse     |\n",
      "+---------+-------+---------------+\n",
      "| British |   1   | 17.4464285714 |\n",
      "+---------+-------+---------------+\n",
      "[1 rows x 3 columns]\n",
      "\n"
     ]
    },
    {
     "data": {
      "text/plain": [
       "{'precision_recall_by_user': Columns:\n",
       " \tuser_id\tstr\n",
       " \tcutoff\tint\n",
       " \tprecision\tfloat\n",
       " \trecall\tfloat\n",
       " \tcount\tint\n",
       " \n",
       " Rows: 5760\n",
       " \n",
       " Data:\n",
       " +------------------------+--------+----------------+--------+-------+\n",
       " |        user_id         | cutoff |   precision    | recall | count |\n",
       " +------------------------+--------+----------------+--------+-------+\n",
       " | -2EuoueswhqEERWezJY8gw |   1    |      1.0       |  1.0   |   1   |\n",
       " | -2EuoueswhqEERWezJY8gw |   2    |      0.5       |  1.0   |   1   |\n",
       " | -2EuoueswhqEERWezJY8gw |   3    | 0.333333333333 |  1.0   |   1   |\n",
       " | -2EuoueswhqEERWezJY8gw |   4    |      0.25      |  1.0   |   1   |\n",
       " | -2EuoueswhqEERWezJY8gw |   5    |      0.2       |  1.0   |   1   |\n",
       " | -2EuoueswhqEERWezJY8gw |   6    | 0.166666666667 |  1.0   |   1   |\n",
       " | -2EuoueswhqEERWezJY8gw |   7    | 0.142857142857 |  1.0   |   1   |\n",
       " | -2EuoueswhqEERWezJY8gw |   8    |     0.125      |  1.0   |   1   |\n",
       " | -2EuoueswhqEERWezJY8gw |   9    | 0.111111111111 |  1.0   |   1   |\n",
       " | -2EuoueswhqEERWezJY8gw |   10   |      0.1       |  1.0   |   1   |\n",
       " +------------------------+--------+----------------+--------+-------+\n",
       " [5760 rows x 5 columns]\n",
       " Note: Only the head of the SFrame is printed.\n",
       " You can use print_rows(num_rows=m, num_columns=n) to print more rows and columns.,\n",
       " 'precision_recall_overall': Columns:\n",
       " \tcutoff\tint\n",
       " \tprecision\tfloat\n",
       " \trecall\tfloat\n",
       " \n",
       " Rows: 18\n",
       " \n",
       " Data:\n",
       " +--------+-----------------+----------------+\n",
       " | cutoff |    precision    |     recall     |\n",
       " +--------+-----------------+----------------+\n",
       " |   1    |      0.3375     | 0.301041666667 |\n",
       " |   2    |     0.203125    | 0.352083333333 |\n",
       " |   3    |  0.164583333333 | 0.415885416667 |\n",
       " |   4    |    0.1453125    | 0.463776041667 |\n",
       " |   5    |     0.130625    | 0.523541666667 |\n",
       " |   6    |     0.121875    | 0.581614583333 |\n",
       " |   7    |  0.109821428571 | 0.610911458333 |\n",
       " |   8    |    0.09921875   | 0.624322916667 |\n",
       " |   9    | 0.0934027777778 | 0.655963541667 |\n",
       " |   10   |     0.089375    | 0.689947916667 |\n",
       " +--------+-----------------+----------------+\n",
       " [18 rows x 3 columns]\n",
       " Note: Only the head of the SFrame is printed.\n",
       " You can use print_rows(num_rows=m, num_columns=n) to print more rows and columns.,\n",
       " 'rmse_by_item': Columns:\n",
       " \tcuisine\tstr\n",
       " \tcount\tint\n",
       " \trmse\tfloat\n",
       " \n",
       " Rows: 43\n",
       " \n",
       " Data:\n",
       " +-------------+-------+------------------+\n",
       " |   cuisine   | count |       rmse       |\n",
       " +-------------+-------+------------------+\n",
       " | Gluten-Free |   2   |  0.51325571448   |\n",
       " |   American  |  107  |  3.53111890464   |\n",
       " |    Diners   |   5   |  1.01865671642   |\n",
       " |    French   |   7   |  5.63170829887   |\n",
       " |    Indian   |   1   |  1.30505050505   |\n",
       " |  Gastropubs |   1   |  16.9717514124   |\n",
       " |  Vietnamese |   11  |  1.48237223466   |\n",
       " |    Vegan    |   2   |  0.632035485907  |\n",
       " |    Delis    |   4   |  0.979090804467  |\n",
       " |    Irish    |   1   | 0.00505050505051 |\n",
       " +-------------+-------+------------------+\n",
       " [43 rows x 3 columns]\n",
       " Note: Only the head of the SFrame is printed.\n",
       " You can use print_rows(num_rows=m, num_columns=n) to print more rows and columns.,\n",
       " 'rmse_by_user': Columns:\n",
       " \tuser_id\tstr\n",
       " \tcount\tint\n",
       " \trmse\tfloat\n",
       " \n",
       " Rows: 320\n",
       " \n",
       " Data:\n",
       " +------------------------+-------+-----------------+\n",
       " |        user_id         | count |       rmse      |\n",
       " +------------------------+-------+-----------------+\n",
       " | hB0XY4B9ps6ALpBD2k_ZgQ |   1   |  3.09204904844  |\n",
       " | ymkGNo_fv52yBKi8CEYmdQ |   1   |  1.57480314961  |\n",
       " | -NKOZhif-28E2Vdse_FZYw |   1   |  1.39144736842  |\n",
       " | 5Ka8MMYEoZfsU-jZzUt00Q |   1   |  1.94132893497  |\n",
       " | 25j8Nr0qQVlLhv2BywxL7g |   1   | 0.0759524387285 |\n",
       " | hABpw8W5tu6FgUhmh-tvjQ |   3   |  3.04201331676  |\n",
       " | KWrKHaLM2Q8OVeJAs88eow |   1   |  2.05867106503  |\n",
       " | yuPBS3fak77lgwO_9SXVYQ |   1   |  1.97843450479  |\n",
       " | 8h5EXsiEuK5_igQ0cgxPZQ |   1   |  1.49831884058  |\n",
       " | y_FoL3sc9vdjwwzthw8qBA |   1   |  1.09204904844  |\n",
       " +------------------------+-------+-----------------+\n",
       " [320 rows x 3 columns]\n",
       " Note: Only the head of the SFrame is printed.\n",
       " You can use print_rows(num_rows=m, num_columns=n) to print more rows and columns.,\n",
       " 'rmse_overall': 3.266474615925068}"
      ]
     },
     "execution_count": 50,
     "metadata": {},
     "output_type": "execute_result"
    }
   ],
   "source": [
    "pop_f.evaluate(test_f)"
   ]
  },
  {
   "cell_type": "code",
   "execution_count": 51,
   "metadata": {
    "collapsed": false
   },
   "outputs": [
    {
     "name": "stdout",
     "output_type": "stream",
     "text": [
      "Canvas is updated and available in a tab in the default browser.\n"
     ]
    }
   ],
   "source": [
    "pop_f.show()"
   ]
  },
  {
   "cell_type": "code",
   "execution_count": 52,
   "metadata": {
    "collapsed": false
   },
   "outputs": [
    {
     "data": {
      "text/html": [
       "<pre>Recsys training: model = item_similarity</pre>"
      ],
      "text/plain": [
       "Recsys training: model = item_similarity"
      ]
     },
     "metadata": {},
     "output_type": "display_data"
    },
    {
     "data": {
      "text/html": [
       "<pre>Preparing data set.</pre>"
      ],
      "text/plain": [
       "Preparing data set."
      ]
     },
     "metadata": {},
     "output_type": "display_data"
    },
    {
     "data": {
      "text/html": [
       "<pre>    Data has 72020 observations with 31449 users and 89 items.</pre>"
      ],
      "text/plain": [
       "    Data has 72020 observations with 31449 users and 89 items."
      ]
     },
     "metadata": {},
     "output_type": "display_data"
    },
    {
     "data": {
      "text/html": [
       "<pre>    Data prepared in: 0.227162s</pre>"
      ],
      "text/plain": [
       "    Data prepared in: 0.227162s"
      ]
     },
     "metadata": {},
     "output_type": "display_data"
    },
    {
     "data": {
      "text/html": [
       "<pre>Training model from provided data.</pre>"
      ],
      "text/plain": [
       "Training model from provided data."
      ]
     },
     "metadata": {},
     "output_type": "display_data"
    },
    {
     "data": {
      "text/html": [
       "<pre>Gathering per-item and per-user statistics.</pre>"
      ],
      "text/plain": [
       "Gathering per-item and per-user statistics."
      ]
     },
     "metadata": {},
     "output_type": "display_data"
    },
    {
     "data": {
      "text/html": [
       "<pre>+--------------------------------+------------+</pre>"
      ],
      "text/plain": [
       "+--------------------------------+------------+"
      ]
     },
     "metadata": {},
     "output_type": "display_data"
    },
    {
     "data": {
      "text/html": [
       "<pre>| Elapsed Time (Item Statistics) | % Complete |</pre>"
      ],
      "text/plain": [
       "| Elapsed Time (Item Statistics) | % Complete |"
      ]
     },
     "metadata": {},
     "output_type": "display_data"
    },
    {
     "data": {
      "text/html": [
       "<pre>+--------------------------------+------------+</pre>"
      ],
      "text/plain": [
       "+--------------------------------+------------+"
      ]
     },
     "metadata": {},
     "output_type": "display_data"
    },
    {
     "data": {
      "text/html": [
       "<pre>| 1.001ms                        | 12.5       |</pre>"
      ],
      "text/plain": [
       "| 1.001ms                        | 12.5       |"
      ]
     },
     "metadata": {},
     "output_type": "display_data"
    },
    {
     "data": {
      "text/html": [
       "<pre>| 7.006ms                        | 100        |</pre>"
      ],
      "text/plain": [
       "| 7.006ms                        | 100        |"
      ]
     },
     "metadata": {},
     "output_type": "display_data"
    },
    {
     "data": {
      "text/html": [
       "<pre>+--------------------------------+------------+</pre>"
      ],
      "text/plain": [
       "+--------------------------------+------------+"
      ]
     },
     "metadata": {},
     "output_type": "display_data"
    },
    {
     "data": {
      "text/html": [
       "<pre>Setting up lookup tables.</pre>"
      ],
      "text/plain": [
       "Setting up lookup tables."
      ]
     },
     "metadata": {},
     "output_type": "display_data"
    },
    {
     "data": {
      "text/html": [
       "<pre>Processing data in one pass using dense lookup tables.</pre>"
      ],
      "text/plain": [
       "Processing data in one pass using dense lookup tables."
      ]
     },
     "metadata": {},
     "output_type": "display_data"
    },
    {
     "data": {
      "text/html": [
       "<pre>+-------------------------------------+------------------+-----------------+</pre>"
      ],
      "text/plain": [
       "+-------------------------------------+------------------+-----------------+"
      ]
     },
     "metadata": {},
     "output_type": "display_data"
    },
    {
     "data": {
      "text/html": [
       "<pre>| Elapsed Time (Constructing Lookups) | Total % Complete | Items Processed |</pre>"
      ],
      "text/plain": [
       "| Elapsed Time (Constructing Lookups) | Total % Complete | Items Processed |"
      ]
     },
     "metadata": {},
     "output_type": "display_data"
    },
    {
     "data": {
      "text/html": [
       "<pre>+-------------------------------------+------------------+-----------------+</pre>"
      ],
      "text/plain": [
       "+-------------------------------------+------------------+-----------------+"
      ]
     },
     "metadata": {},
     "output_type": "display_data"
    },
    {
     "data": {
      "text/html": [
       "<pre>| 9.007ms                             | 0                | 0               |</pre>"
      ],
      "text/plain": [
       "| 9.007ms                             | 0                | 0               |"
      ]
     },
     "metadata": {},
     "output_type": "display_data"
    },
    {
     "data": {
      "text/html": [
       "<pre>| 20.015ms                            | 100              | 89              |</pre>"
      ],
      "text/plain": [
       "| 20.015ms                            | 100              | 89              |"
      ]
     },
     "metadata": {},
     "output_type": "display_data"
    },
    {
     "data": {
      "text/html": [
       "<pre>+-------------------------------------+------------------+-----------------+</pre>"
      ],
      "text/plain": [
       "+-------------------------------------+------------------+-----------------+"
      ]
     },
     "metadata": {},
     "output_type": "display_data"
    },
    {
     "data": {
      "text/html": [
       "<pre>Finalizing lookup tables.</pre>"
      ],
      "text/plain": [
       "Finalizing lookup tables."
      ]
     },
     "metadata": {},
     "output_type": "display_data"
    },
    {
     "data": {
      "text/html": [
       "<pre>Generating candidate set for working with new users.</pre>"
      ],
      "text/plain": [
       "Generating candidate set for working with new users."
      ]
     },
     "metadata": {},
     "output_type": "display_data"
    },
    {
     "data": {
      "text/html": [
       "<pre>Finished training in 0.037026s</pre>"
      ],
      "text/plain": [
       "Finished training in 0.037026s"
      ]
     },
     "metadata": {},
     "output_type": "display_data"
    }
   ],
   "source": [
    "#item similarity\n",
    "\n",
    "simm_f = gl.recommender.item_similarity_recommender.create(train_f, user_id='user_id', item_id='cuisine', \n",
    "                                                         target='count', user_data=None, item_data=None, nearest_items=None, \n",
    "                                                         similarity_type='jaccard', threshold=0.001, only_top_k=64,\n",
    "                                                         verbose=True, target_memory_usage=8589934592)"
   ]
  },
  {
   "cell_type": "code",
   "execution_count": 53,
   "metadata": {
    "collapsed": false
   },
   "outputs": [
    {
     "name": "stdout",
     "output_type": "stream",
     "text": [
      "\n",
      "Precision and recall summary statistics by cutoff\n",
      "+--------+-----------------+-----------------+\n",
      "| cutoff |  mean_precision |   mean_recall   |\n",
      "+--------+-----------------+-----------------+\n",
      "|   1    |     0.13125     | 0.0799479166667 |\n",
      "|   2    |    0.1390625    |     0.184375    |\n",
      "|   3    |     0.134375    |  0.277317708333 |\n",
      "|   4    |    0.1203125    |  0.324427083333 |\n",
      "|   5    |     0.103125    |  0.347083333333 |\n",
      "|   6    |     0.096875    |  0.395130208333 |\n",
      "|   7    | 0.0892857142857 |  0.428333333333 |\n",
      "|   8    |   0.084765625   |  0.461927083333 |\n",
      "|   9    | 0.0784722222222 |     0.485625    |\n",
      "|   10   |     0.07375     |    0.5059375    |\n",
      "+--------+-----------------+-----------------+\n",
      "[10 rows x 3 columns]\n",
      "\n",
      "('\\nOverall RMSE: ', 5.770162296289303)\n",
      "\n",
      "Per User RMSE (best)\n",
      "+------------------------+-------+--------------+\n",
      "|        user_id         | count |     rmse     |\n",
      "+------------------------+-------+--------------+\n",
      "| R1NEtziRuQQh3TMe6fGBag |   1   | 2.7660022974 |\n",
      "+------------------------+-------+--------------+\n",
      "[1 rows x 3 columns]\n",
      "\n",
      "\n",
      "Per User RMSE (worst)\n",
      "+------------------------+-------+---------------+\n",
      "|        user_id         | count |      rmse     |\n",
      "+------------------------+-------+---------------+\n",
      "| RtXYLYuI5qReCOSqTGDXOQ |   2   | 24.5004370868 |\n",
      "+------------------------+-------+---------------+\n",
      "[1 rows x 3 columns]\n",
      "\n",
      "\n",
      "Per Item RMSE (best)\n",
      "+---------+-------+---------------+\n",
      "| cuisine | count |      rmse     |\n",
      "+---------+-------+---------------+\n",
      "| Seafood |   2   | 2.94195617779 |\n",
      "+---------+-------+---------------+\n",
      "[1 rows x 3 columns]\n",
      "\n",
      "\n",
      "Per Item RMSE (worst)\n",
      "+---------+-------+---------------+\n",
      "| cuisine | count |      rmse     |\n",
      "+---------+-------+---------------+\n",
      "| British |   1   | 22.9596700796 |\n",
      "+---------+-------+---------------+\n",
      "[1 rows x 3 columns]\n",
      "\n"
     ]
    },
    {
     "data": {
      "text/plain": [
       "{'precision_recall_by_user': Columns:\n",
       " \tuser_id\tstr\n",
       " \tcutoff\tint\n",
       " \tprecision\tfloat\n",
       " \trecall\tfloat\n",
       " \tcount\tint\n",
       " \n",
       " Rows: 5760\n",
       " \n",
       " Data:\n",
       " +------------------------+--------+----------------+--------+-------+\n",
       " |        user_id         | cutoff |   precision    | recall | count |\n",
       " +------------------------+--------+----------------+--------+-------+\n",
       " | -2EuoueswhqEERWezJY8gw |   1    |      0.0       |  0.0   |   1   |\n",
       " | -2EuoueswhqEERWezJY8gw |   2    |      0.0       |  0.0   |   1   |\n",
       " | -2EuoueswhqEERWezJY8gw |   3    |      0.0       |  0.0   |   1   |\n",
       " | -2EuoueswhqEERWezJY8gw |   4    |      0.25      |  1.0   |   1   |\n",
       " | -2EuoueswhqEERWezJY8gw |   5    |      0.2       |  1.0   |   1   |\n",
       " | -2EuoueswhqEERWezJY8gw |   6    | 0.166666666667 |  1.0   |   1   |\n",
       " | -2EuoueswhqEERWezJY8gw |   7    | 0.142857142857 |  1.0   |   1   |\n",
       " | -2EuoueswhqEERWezJY8gw |   8    |     0.125      |  1.0   |   1   |\n",
       " | -2EuoueswhqEERWezJY8gw |   9    | 0.111111111111 |  1.0   |   1   |\n",
       " | -2EuoueswhqEERWezJY8gw |   10   |      0.1       |  1.0   |   1   |\n",
       " +------------------------+--------+----------------+--------+-------+\n",
       " [5760 rows x 5 columns]\n",
       " Note: Only the head of the SFrame is printed.\n",
       " You can use print_rows(num_rows=m, num_columns=n) to print more rows and columns.,\n",
       " 'precision_recall_overall': Columns:\n",
       " \tcutoff\tint\n",
       " \tprecision\tfloat\n",
       " \trecall\tfloat\n",
       " \n",
       " Rows: 18\n",
       " \n",
       " Data:\n",
       " +--------+-----------------+-----------------+\n",
       " | cutoff |    precision    |      recall     |\n",
       " +--------+-----------------+-----------------+\n",
       " |   1    |     0.13125     | 0.0799479166667 |\n",
       " |   2    |    0.1390625    |     0.184375    |\n",
       " |   3    |     0.134375    |  0.277317708333 |\n",
       " |   4    |    0.1203125    |  0.324427083333 |\n",
       " |   5    |     0.103125    |  0.347083333333 |\n",
       " |   6    |     0.096875    |  0.395130208333 |\n",
       " |   7    | 0.0892857142857 |  0.428333333333 |\n",
       " |   8    |   0.084765625   |  0.461927083333 |\n",
       " |   9    | 0.0784722222222 |     0.485625    |\n",
       " |   10   |     0.07375     |    0.5059375    |\n",
       " +--------+-----------------+-----------------+\n",
       " [18 rows x 3 columns]\n",
       " Note: Only the head of the SFrame is printed.\n",
       " You can use print_rows(num_rows=m, num_columns=n) to print more rows and columns.,\n",
       " 'rmse_by_item': Columns:\n",
       " \tcuisine\tstr\n",
       " \tcount\tint\n",
       " \trmse\tfloat\n",
       " \n",
       " Rows: 43\n",
       " \n",
       " Data:\n",
       " +-------------+-------+---------------+\n",
       " |   cuisine   | count |      rmse     |\n",
       " +-------------+-------+---------------+\n",
       " | Gluten-Free |   2   | 3.50533291105 |\n",
       " |   American  |  107  | 6.27368426327 |\n",
       " |    Diners   |   5   | 2.94384481698 |\n",
       " |    French   |   7   |  8.3125772771 |\n",
       " |    Indian   |   1   |  2.9703322053 |\n",
       " |  Gastropubs |   1   | 21.9611067346 |\n",
       " |  Vietnamese |   11  | 4.26920302402 |\n",
       " |    Vegan    |   2   | 4.47425469174 |\n",
       " |    Delis    |   4   | 3.22259590463 |\n",
       " |    Irish    |   1   | 3.96319200234 |\n",
       " +-------------+-------+---------------+\n",
       " [43 rows x 3 columns]\n",
       " Note: Only the head of the SFrame is printed.\n",
       " You can use print_rows(num_rows=m, num_columns=n) to print more rows and columns.,\n",
       " 'rmse_by_user': Columns:\n",
       " \tuser_id\tstr\n",
       " \tcount\tint\n",
       " \trmse\tfloat\n",
       " \n",
       " Rows: 320\n",
       " \n",
       " Data:\n",
       " +------------------------+-------+---------------+\n",
       " |        user_id         | count |      rmse     |\n",
       " +------------------------+-------+---------------+\n",
       " | hB0XY4B9ps6ALpBD2k_ZgQ |   1   | 2.96362610459 |\n",
       " | ymkGNo_fv52yBKi8CEYmdQ |   1   | 4.98800961177 |\n",
       " | -NKOZhif-28E2Vdse_FZYw |   1   | 2.93713377476 |\n",
       " | 5Ka8MMYEoZfsU-jZzUt00Q |   1   | 6.87166565657 |\n",
       " | 25j8Nr0qQVlLhv2BywxL7g |   1   | 4.93056083083 |\n",
       " | hABpw8W5tu6FgUhmh-tvjQ |   3   |  7.3699902697 |\n",
       " | KWrKHaLM2Q8OVeJAs88eow |   1   | 2.93185603619 |\n",
       " | yuPBS3fak77lgwO_9SXVYQ |   1   | 6.89068174859 |\n",
       " | 8h5EXsiEuK5_igQ0cgxPZQ |   1   | 6.94782846808 |\n",
       " | y_FoL3sc9vdjwwzthw8qBA |   1   | 4.93742525578 |\n",
       " +------------------------+-------+---------------+\n",
       " [320 rows x 3 columns]\n",
       " Note: Only the head of the SFrame is printed.\n",
       " You can use print_rows(num_rows=m, num_columns=n) to print more rows and columns.,\n",
       " 'rmse_overall': 5.770162296289303}"
      ]
     },
     "execution_count": 53,
     "metadata": {},
     "output_type": "execute_result"
    }
   ],
   "source": [
    "simm_f.evaluate(test_f)"
   ]
  },
  {
   "cell_type": "code",
   "execution_count": 54,
   "metadata": {
    "collapsed": false
   },
   "outputs": [
    {
     "name": "stdout",
     "output_type": "stream",
     "text": [
      "Canvas is updated and available in a tab in the default browser.\n"
     ]
    }
   ],
   "source": [
    "simm_f.show()"
   ]
  },
  {
   "cell_type": "code",
   "execution_count": null,
   "metadata": {
    "collapsed": true
   },
   "outputs": [],
   "source": []
  }
 ],
 "metadata": {
  "kernelspec": {
   "display_name": "Python 2",
   "language": "python",
   "name": "python2"
  },
  "language_info": {
   "codemirror_mode": {
    "name": "ipython",
    "version": 2
   },
   "file_extension": ".py",
   "mimetype": "text/x-python",
   "name": "python",
   "nbconvert_exporter": "python",
   "pygments_lexer": "ipython2",
   "version": "2.7.11"
  }
 },
 "nbformat": 4,
 "nbformat_minor": 0
}
